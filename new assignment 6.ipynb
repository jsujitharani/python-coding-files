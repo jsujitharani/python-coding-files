{
 "cells": [
  {
   "cell_type": "code",
   "execution_count": 22,
   "id": "3c1f0b72",
   "metadata": {},
   "outputs": [
    {
     "name": "stdout",
     "output_type": "stream",
     "text": [
      "enter num1: 2\n",
      "enter num2: 3\n",
      "enter num3: 4\n"
     ]
    },
    {
     "data": {
      "text/plain": [
       "4"
      ]
     },
     "execution_count": 22,
     "metadata": {},
     "output_type": "execute_result"
    }
   ],
   "source": [
    "#1. Define a function which will return Max of three numbers\n",
    "\n",
    "def max1(x,y,z):\n",
    "    if(x>y) and (x>z):\n",
    "        return x\n",
    "    elif(y>x) and (y>z):\n",
    "        return z\n",
    "    else:\n",
    "        return z\n",
    "a=int(input(\"enter num1: \"))\n",
    "b=int(input(\"enter num2: \"))\n",
    "c=int(input(\"enter num3: \"))\n",
    "max1(a,b,c)"
   ]
  },
  {
   "cell_type": "code",
   "execution_count": 23,
   "id": "2f2c08dc",
   "metadata": {},
   "outputs": [
    {
     "name": "stdout",
     "output_type": "stream",
     "text": [
      "enter the string: sujji\n"
     ]
    },
    {
     "data": {
      "text/plain": [
       "'ijjus'"
      ]
     },
     "execution_count": 23,
     "metadata": {},
     "output_type": "execute_result"
    }
   ],
   "source": [
    "#2. Define a Python Function to reverse a string.\n",
    "\n",
    "def reverse1(s):\n",
    "    res=\"\"\n",
    "    for i in s:\n",
    "        res=i+res\n",
    "    return res\n",
    "s=input(\"enter the string: \")\n",
    "reverse1(s)"
   ]
  },
  {
   "cell_type": "code",
   "execution_count": 24,
   "id": "d673e523",
   "metadata": {},
   "outputs": [
    {
     "name": "stdout",
     "output_type": "stream",
     "text": [
      "enter num1: 4\n",
      "enter num2: 6\n"
     ]
    },
    {
     "data": {
      "text/plain": [
       "(10, -2, 24)"
      ]
     },
     "execution_count": 24,
     "metadata": {},
     "output_type": "execute_result"
    }
   ],
   "source": [
    "#3. Write a Python program to define a function that accepts 2 values and return its sum, subtraction and multiplication. \n",
    "\n",
    "def calci(x=10,y=20):\n",
    "    return x+y,x-y,x*y\n",
    "a=int(input(\"enter num1: \"))\n",
    "b=int(input(\"enter num2: \"))\n",
    "calci(a,b)"
   ]
  },
  {
   "cell_type": "code",
   "execution_count": 1,
   "id": "9e84153f",
   "metadata": {},
   "outputs": [
    {
     "name": "stdout",
     "output_type": "stream",
     "text": [
      "enter total number of students : 5\n",
      "enter students roll numbers: 11\n",
      "enter students roll numbers: 12\n",
      "enter students roll numbers: 111\n",
      "enter students roll numbers: 23\n",
      "enter students roll numbers: 34\n",
      "[11, 12, 111, 23, 34]\n",
      "enter the student roll number to check: 33\n"
     ]
    },
    {
     "data": {
      "text/plain": [
       "'He is abscent'"
      ]
     },
     "execution_count": 1,
     "metadata": {},
     "output_type": "execute_result"
    }
   ],
   "source": [
    "#4. Define a function that accepts roll number and returns whether the student is present or absent.\n",
    "\n",
    "def student(num,l):\n",
    "    if num in l:\n",
    "        return \"He is present\"\n",
    "    else: \n",
    "        return \"He is abscent\"\n",
    "l=[]\n",
    "n=int(input(\"enter total number of students : \"))\n",
    "for i in range(n):\n",
    "    num=int(input(\"enter students roll numbers: \"))\n",
    "    l.append(num)\n",
    "print(l)\n",
    "n=int(input(\"enter the student roll number to check: \"))\n",
    "\n",
    "student(n,l)        \n",
    "    "
   ]
  },
  {
   "cell_type": "code",
   "execution_count": 29,
   "id": "f46a0152",
   "metadata": {},
   "outputs": [
    {
     "data": {
      "text/plain": [
       "222"
      ]
     },
     "execution_count": 29,
     "metadata": {},
     "output_type": "execute_result"
    }
   ],
   "source": [
    "#5. Define a function in python that accepts n values and returns the maximum of n numbers.\n",
    "\n",
    "def max1(*i):\n",
    "    max(i)\n",
    "    return max(i)\n",
    "#n=input(\"enter numbers: \")\n",
    "max1(1,2,34,222)"
   ]
  },
  {
   "cell_type": "code",
   "execution_count": 13,
   "id": "ec256e5f",
   "metadata": {},
   "outputs": [
    {
     "name": "stdout",
     "output_type": "stream",
     "text": [
      "enter your string:sujitha rani\n",
      "vovels:  5\n",
      "consonants:  7\n"
     ]
    }
   ],
   "source": [
    "#6. Define a function which counts vowels and consonant in a word.\n",
    "\n",
    "def vovels(s):\n",
    "    c=0\n",
    "    d=0\n",
    "    for i in s:\n",
    "        if (i.lower()==\"a\") or (i.lower()==\"e\") or (i.lower()==\"i\")  or (i.lower()==\"o\") or (i.lower()==\"u\"):\n",
    "            c+=1\n",
    "        else:\n",
    "            d=d+1\n",
    "    print(\"vovels: \",c)\n",
    "    print(\"consonants: \",d)\n",
    "string=input(\"enter your string:\")\n",
    "vovels(string)"
   ]
  },
  {
   "cell_type": "code",
   "execution_count": 16,
   "id": "f3eab7d9",
   "metadata": {},
   "outputs": [
    {
     "name": "stdout",
     "output_type": "stream",
     "text": [
      "enter integer: 4\n"
     ]
    },
    {
     "data": {
      "text/plain": [
       "24"
      ]
     },
     "execution_count": 16,
     "metadata": {},
     "output_type": "execute_result"
    }
   ],
   "source": [
    "#7. Define a function that returns Factorial of a number.\n",
    "\n",
    "def fact(n):\n",
    "    fact=1\n",
    "    for i in range(1,n+1):\n",
    "        fact=fact*i\n",
    "    return fact\n",
    "n=int(input(\"enter integer: \"))\n",
    "fact(n)"
   ]
  },
  {
   "cell_type": "code",
   "execution_count": 1,
   "id": "794f4c35",
   "metadata": {},
   "outputs": [
    {
     "name": "stdout",
     "output_type": "stream",
     "text": [
      "enter the radius: 3\n"
     ]
    },
    {
     "data": {
      "text/plain": [
       "28.26"
      ]
     },
     "execution_count": 1,
     "metadata": {},
     "output_type": "execute_result"
    }
   ],
   "source": [
    "#8. Define a function that accepts radius and returns the area of a circle.\n",
    "\n",
    "def area(r):\n",
    "    radius=3.14*(r**2)\n",
    "    return radius\n",
    "r=int(input(\"enter the radius: \"))\n",
    "area(r)"
   ]
  },
  {
   "cell_type": "code",
   "execution_count": 10,
   "id": "bd83b7b7",
   "metadata": {},
   "outputs": [
    {
     "name": "stdout",
     "output_type": "stream",
     "text": [
      "enter the num you want check: 3\n"
     ]
    },
    {
     "data": {
      "text/plain": [
       "'prime'"
      ]
     },
     "execution_count": 10,
     "metadata": {},
     "output_type": "execute_result"
    }
   ],
   "source": [
    "#9. Define a function that takes a number as a parameter and check the number is prime or not.\n",
    "\n",
    "def prime(x):\n",
    "    c=0\n",
    "    for i in range(1,x+1):\n",
    "        if (x%i==0):\n",
    "            c=c+1\n",
    "    if(c>2):\n",
    "        return \"not prime\"\n",
    "    else:\n",
    "        return \"prime\"\n",
    "n=int(input(\"enter the num you want check: \"))\n",
    "prime(n)\n"
   ]
  },
  {
   "cell_type": "code",
   "execution_count": 13,
   "id": "ec97723d",
   "metadata": {},
   "outputs": [
    {
     "name": "stdout",
     "output_type": "stream",
     "text": [
      "enter the range: 4\n",
      "enter ur element: 12\n",
      "enter ur element: 1\n",
      "enter ur element: 2\n",
      "enter ur element: 34\n",
      "[12, 1, 2, 34]\n"
     ]
    },
    {
     "data": {
      "text/plain": [
       "True"
      ]
     },
     "execution_count": 13,
     "metadata": {},
     "output_type": "execute_result"
    }
   ],
   "source": [
    "#10. Mary wants to run a 25-mile marathon. When she attempts to sign up for the marathon, she notices the sign-up sheet doesn't \n",
    "#directly state the marathon's length. Instead, the marathon's length is listed in small, different portions. Help Mary find out \n",
    "#how long the marathon actually is. So create a function that ** Return True if the marathon is 25 miles long, otherwise, return \n",
    "#False.\n",
    "\n",
    "def marathon(l):\n",
    "    s=0\n",
    "    for i in l:\n",
    "        if(i<0):\n",
    "            i=-(i)\n",
    "            s=s+i\n",
    "        else:\n",
    "            s=s+i\n",
    "    if (s>=25):\n",
    "        return True\n",
    "    else:\n",
    "        return False\n",
    "    \n",
    "l=[]\n",
    "n=int(input(\"enter the range: \"))\n",
    "for i in range(n):\n",
    "    num=int(input(\"enter ur element: \"))\n",
    "    l.append(num)\n",
    "print(l)\n",
    "marathon(l)"
   ]
  },
  {
   "cell_type": "code",
   "execution_count": 18,
   "id": "31c3d6d4",
   "metadata": {},
   "outputs": [
    {
     "name": "stdout",
     "output_type": "stream",
     "text": [
      "enter the number to ckeck:6\n"
     ]
    },
    {
     "data": {
      "text/plain": [
       "True"
      ]
     },
     "execution_count": 18,
     "metadata": {},
     "output_type": "execute_result"
    }
   ],
   "source": [
    "#11. Create a function that takes a number and returns True if the number is automorphic, False if it isn't.\n",
    "\n",
    "def automorphic(x=5):\n",
    "    square=x**2\n",
    "    s=str(square)\n",
    "    if(str(x)==s[-1]):\n",
    "        return True\n",
    "    else:\n",
    "        return False\n",
    "num=int(input(\"enter the number to ckeck:\"))\n",
    "automorphic(num)\n",
    "    "
   ]
  },
  {
   "cell_type": "code",
   "execution_count": 23,
   "id": "179d97c6",
   "metadata": {},
   "outputs": [
    {
     "name": "stdout",
     "output_type": "stream",
     "text": [
      "enter a number: 1\n",
      "enter number2: 2\n",
      "enter number3: 2\n"
     ]
    },
    {
     "data": {
      "text/plain": [
       "True"
      ]
     },
     "execution_count": 23,
     "metadata": {},
     "output_type": "execute_result"
    }
   ],
   "source": [
    "#12) Create a function, that will take given a, b, c, and do the following: Add a to itself b times and Check if the result \n",
    "#is divisible by c.and return true if it is divisible by c or false.\n",
    "\n",
    "\n",
    "def check(a=1,b=2,c=2):\n",
    "    num=0\n",
    "    for i in range(b):\n",
    "        num=num+a\n",
    "    if(num%c==0):\n",
    "        return True\n",
    "    else:\n",
    "        return False\n",
    "x=int(input(\"enter a number: \"))\n",
    "y=int(input(\"enter number2: \"))\n",
    "z=int(input(\"enter number3: \"))\n",
    "check(x,y,z)\n",
    "        \n"
   ]
  },
  {
   "cell_type": "code",
   "execution_count": 5,
   "id": "3a213393",
   "metadata": {},
   "outputs": [
    {
     "name": "stdout",
     "output_type": "stream",
     "text": [
      "enter the string: make me sad\n"
     ]
    },
    {
     "data": {
      "text/plain": [
       "'make me :('"
      ]
     },
     "execution_count": 5,
     "metadata": {},
     "output_type": "execute_result"
    }
   ],
   "source": [
    "#13) Create a function that changes specific words into emoticons. Given a sentence as a string, replace the words \n",
    "#smile, grin, sad and mad with their corresponding emoticons.\n",
    "\n",
    "def emoji(s):\n",
    "    l=s.split()\n",
    "    for i in l:\n",
    "        if(i==\"smile\"):\n",
    "            s=s.replace(\"smile\",\":D\")\n",
    "        elif(i==\"sad\"):\n",
    "            s=s.replace(\"sad\",\":(\")\n",
    "        elif(i==\"grin\"):\n",
    "            s=replace(\"sad\",\":)\")\n",
    "        elif(i==\"mad\"):\n",
    "            s=s.replace(\"sad\",\":p\")\n",
    "    return s\n",
    "string=input(\"enter the string: \")\n",
    "emoji(string)\n",
    "            "
   ]
  },
  {
   "cell_type": "code",
   "execution_count": 30,
   "id": "d48b721a",
   "metadata": {},
   "outputs": [
    {
     "name": "stdout",
     "output_type": "stream",
     "text": [
      "enter the range: 4\n",
      "enter the numbers: 1\n",
      "enter the numbers: 3\n",
      "enter the numbers: 4\n",
      "enter the numbers: 5\n",
      "[1, 3, 4, 5]\n",
      "squares:  [1, 9, 16, 25]\n",
      "cubes:  [1, 27, 64, 125]\n"
     ]
    }
   ],
   "source": [
    "#14) Write a Python program to square and cube every number in a given list of integers using Lambda.\n",
    "\n",
    "l=[]\n",
    "n=int(input(\"enter the range: \"))\n",
    "for i in range(n):\n",
    "    num=input(\"enter the numbers: \")\n",
    "    if(num.isdigit()):\n",
    "        num=int(num)\n",
    "        l.append(num)\n",
    "    else:\n",
    "        l.append(num)\n",
    "print(l)\n",
    "y=list(map(lambda x:x**2,l))\n",
    "x=list(map(lambda x:x**3,l))\n",
    "print(\"squares: \",y)\n",
    "print(\"cubes: \",x)\n"
   ]
  },
  {
   "cell_type": "code",
   "execution_count": 13,
   "id": "e1701b8b",
   "metadata": {},
   "outputs": [
    {
     "name": "stdout",
     "output_type": "stream",
     "text": [
      "enter a string to check: 12345\n"
     ]
    },
    {
     "data": {
      "text/plain": [
       "True"
      ]
     },
     "execution_count": 13,
     "metadata": {},
     "output_type": "execute_result"
    }
   ],
   "source": [
    "#15)Write a Python program to check whether a given string is number or not using Lambda.\n",
    "s=input(\"enter a string to check: \")\n",
    "num=lambda x:x.isdigit() \n",
    "num(s)\n",
    "    "
   ]
  },
  {
   "cell_type": "code",
   "execution_count": null,
   "id": "258d7427",
   "metadata": {},
   "outputs": [],
   "source": []
  },
  {
   "cell_type": "code",
   "execution_count": null,
   "id": "899e03fe",
   "metadata": {},
   "outputs": [],
   "source": []
  },
  {
   "cell_type": "code",
   "execution_count": null,
   "id": "6ea83e87",
   "metadata": {},
   "outputs": [],
   "source": []
  }
 ],
 "metadata": {
  "kernelspec": {
   "display_name": "Python 3 (ipykernel)",
   "language": "python",
   "name": "python3"
  },
  "language_info": {
   "codemirror_mode": {
    "name": "ipython",
    "version": 3
   },
   "file_extension": ".py",
   "mimetype": "text/x-python",
   "name": "python",
   "nbconvert_exporter": "python",
   "pygments_lexer": "ipython3",
   "version": "3.11.3"
  }
 },
 "nbformat": 4,
 "nbformat_minor": 5
}

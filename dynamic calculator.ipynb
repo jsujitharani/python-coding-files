{
 "cells": [
  {
   "cell_type": "code",
   "execution_count": 1,
   "id": "640c985f",
   "metadata": {},
   "outputs": [
    {
     "name": "stdout",
     "output_type": "stream",
     "text": [
      "enter ur first num : 2\n",
      "enter  ur second num: 4\n",
      "enter the symbol +,-,/,%,*,**,// : +\n",
      "2+4=6\n",
      "enter ur first num : 3\n",
      "enter  ur second num: 5\n",
      "enter the symbol +,-,/,%,*,**,// : q\n"
     ]
    }
   ],
   "source": [
    "while (2==2):\n",
    "    x=int(input(\"enter ur first num : \"))\n",
    "    y=int(input(\"enter  ur second num: \"))\n",
    "    c=input(\"enter the symbol +,-,/,%,*,**,// : \")\n",
    "    if (c==\"+\"):\n",
    "        print(\"{}+{}={}\".format(x,y,x+y))\n",
    "    elif (c==\"*\"):\n",
    "        print(\"{}*{}={}\".format(x,y,x*y))\n",
    "    elif (c==\"-\"):\n",
    "        print(\"{}-{}={}\".format(x,y,x-y))\n",
    "    elif (c==\"/\"):\n",
    "        print(\"{}/{}={}\".format(x,y,x/y))\n",
    "    elif (c==\"**\"):\n",
    "        print(\"{}**{}={}\".format(x,y,x**y))\n",
    "    elif(c==\"%\"):\n",
    "        print(\"{}%{}={}\".format(x,y,x%y))\n",
    "    elif(c.lower()==\"q\"):\n",
    "        break\n",
    "    else:\n",
    "        print(\"enter either correct symbol or q\")\n",
    "    "
   ]
  },
  {
   "cell_type": "code",
   "execution_count": null,
   "id": "23636cb5",
   "metadata": {},
   "outputs": [],
   "source": []
  }
 ],
 "metadata": {
  "kernelspec": {
   "display_name": "Python 3 (ipykernel)",
   "language": "python",
   "name": "python3"
  },
  "language_info": {
   "codemirror_mode": {
    "name": "ipython",
    "version": 3
   },
   "file_extension": ".py",
   "mimetype": "text/x-python",
   "name": "python",
   "nbconvert_exporter": "python",
   "pygments_lexer": "ipython3",
   "version": "3.11.3"
  }
 },
 "nbformat": 4,
 "nbformat_minor": 5
}

{
 "cells": [
  {
   "cell_type": "code",
   "execution_count": 7,
   "id": "d71c19a4",
   "metadata": {},
   "outputs": [
    {
     "name": "stdout",
     "output_type": "stream",
     "text": [
      "enter the range6\n",
      "0\n",
      "1\n",
      "2\n",
      "4\n",
      "5\n"
     ]
    }
   ],
   "source": [
    "#1) Write a Python program that prints all the numbers from 0 to 6 except 3 and 6.\n",
    "\n",
    "n=int(input(\"enter the range\"))\n",
    "print(0)\n",
    "for i in range(1,n+1):\n",
    "    if(i%3==0):\n",
    "        continue\n",
    "    else:\n",
    "        print(i)"
   ]
  },
  {
   "cell_type": "code",
   "execution_count": 9,
   "id": "763fd62e",
   "metadata": {},
   "outputs": [
    {
     "name": "stdout",
     "output_type": "stream",
     "text": [
      "enter the range: 7\n",
      "28\n"
     ]
    }
   ],
   "source": [
    "#2) Write a program to accept a number from a user and calculate the sum of all numbers from 1 to a given number\n",
    "\n",
    "n=int(input(\"enter the range: \"))\n",
    "sum_of_numbers=0\n",
    "for i in range(n+1):\n",
    "    sum_of_numbers+=i\n",
    "print(sum_of_numbers)\n",
    "    "
   ]
  },
  {
   "cell_type": "code",
   "execution_count": 10,
   "id": "4ae1471f",
   "metadata": {},
   "outputs": [
    {
     "name": "stdout",
     "output_type": "stream",
     "text": [
      "enter the number to print its multiplication table: 5\n",
      "5 x 1 = 5\n",
      "5 x 2 = 10\n",
      "5 x 3 = 15\n",
      "5 x 4 = 20\n",
      "5 x 5 = 25\n",
      "5 x 6 = 30\n",
      "5 x 7 = 35\n",
      "5 x 8 = 40\n",
      "5 x 9 = 45\n",
      "5 x 10 = 50\n"
     ]
    }
   ],
   "source": [
    "#2) Write a program to accept a number from a user and calculate the sum of all numbers from 1 to a given number.\n",
    "\n",
    "num=int(input(\"enter the number to print its multiplication table: \"))\n",
    "n=10\n",
    "i=1\n",
    "while (i<=n):\n",
    "    print(num,\"x\",i,\"=\",num*i)\n",
    "    i=i+1"
   ]
  },
  {
   "cell_type": "code",
   "execution_count": 3,
   "id": "7fa6e7b7",
   "metadata": {},
   "outputs": [
    {
     "name": "stdout",
     "output_type": "stream",
     "text": [
      "enter ur number: 567895\n",
      "6\n"
     ]
    }
   ],
   "source": [
    "#4) Write a program to count the total number of digits in a number using a while loop.\n",
    "\n",
    "n=input(\"enter ur number: \")\n",
    "l=len(n)\n",
    "count=0\n",
    "i=0\n",
    "while (i<=l-1):\n",
    "    if(n[i].isdigit()):\n",
    "        count+=1\n",
    "    i=i+1\n",
    "print(count)"
   ]
  },
  {
   "cell_type": "code",
   "execution_count": 2,
   "id": "75c223c3",
   "metadata": {},
   "outputs": [
    {
     "name": "stdout",
     "output_type": "stream",
     "text": [
      "enter the real num3\n",
      "enter the matching number4\n",
      "enter the matching number5\n",
      "enter the matching number3\n",
      "well guessed\n"
     ]
    }
   ],
   "source": [
    "#5) Write a Python program to guess a number between 1 to\n",
    "n=int(input(\"enter the real num\"))\n",
    "while(True):\n",
    "    num=int(input(\"enter the matching number\"))\n",
    "    if(num==n):\n",
    "        print(\"well guessed\")\n",
    "        break\n",
    "        "
   ]
  },
  {
   "cell_type": "code",
   "execution_count": 6,
   "id": "72bfb129",
   "metadata": {},
   "outputs": [
    {
     "name": "stdout",
     "output_type": "stream",
     "text": [
      "enter the range: 60\n",
      "3 fizz\n",
      "5 buzz\n",
      "6 fizz\n",
      "9 fizz\n",
      "10 buzz\n",
      "12 fizz\n",
      "15 fizzbuzz\n",
      "18 fizz\n",
      "20 buzz\n",
      "21 fizz\n",
      "24 fizz\n",
      "25 buzz\n",
      "27 fizz\n",
      "30 fizzbuzz\n",
      "33 fizz\n",
      "35 buzz\n",
      "36 fizz\n",
      "39 fizz\n",
      "40 buzz\n",
      "42 fizz\n",
      "45 fizzbuzz\n",
      "48 fizz\n",
      "50 buzz\n",
      "51 fizz\n",
      "54 fizz\n",
      "55 buzz\n",
      "57 fizz\n",
      "60 fizzbuzz\n"
     ]
    }
   ],
   "source": [
    "#6) Write a Python program which iterates the integers from 1 to 60. For multiples of three print \"Fizz\" instead of the\n",
    "# number and for the multiples of five print \"Buzz\". For numbers which are multiples of both three and five print \n",
    "#\"FizzBuzz\".\n",
    "\n",
    "n=int(input(\"enter the range: \"))\n",
    "for i in range(1,n+1):\n",
    "    if(i%3==0) and (i%5==0):\n",
    "        print(i,\"fizzbuzz\")\n",
    "    elif(i%3==0):\n",
    "        print(i,\"fizz\")\n",
    "    elif(i%5==0):\n",
    "        print(i,\"buzz\")"
   ]
  },
  {
   "cell_type": "code",
   "execution_count": 12,
   "id": "746e8506",
   "metadata": {},
   "outputs": [
    {
     "name": "stdout",
     "output_type": "stream",
     "text": [
      "enter the string: today date is 10-08-23\n",
      "digits:  6\n",
      "letters:  16\n"
     ]
    }
   ],
   "source": [
    "#7) Write a Python program that accepts a string and calculate the number of digits and letters.\n",
    "\n",
    "string=input(\"enter the string: \")\n",
    "l=len(string)\n",
    "digits=0\n",
    "letters=0\n",
    "for i in range(l):\n",
    "    if(string[i].isdigit()):\n",
    "        digits+=1\n",
    "    else:\n",
    "        letters+=1\n",
    "print(\"digits: \",digits)\n",
    "print(\"letters: \",letters)"
   ]
  },
  {
   "cell_type": "code",
   "execution_count": 9,
   "id": "6d0e9e25",
   "metadata": {},
   "outputs": [
    {
     "name": "stdout",
     "output_type": "stream",
     "text": [
      "enter your password\n",
      "Sujji@123\n",
      " password is valid\n"
     ]
    }
   ],
   "source": [
    "#8) Write a Python program to check the validity of password input by users.At least 1 letter between [a-z] and 1 letter \n",
    "#between [A-Z]. At least 1 number between [0-9]. At least 1 character from [$#@].Minimum length 6 characters.\n",
    "#Maximum length 16 characters\n",
    "\n",
    "password=input(\"enter your password\\n\")\n",
    "upper_letter=0\n",
    "lower_letter=0\n",
    "number=0\n",
    "char=0\n",
    "#print(\"enter between 6-16 characters\") \n",
    "if(6<len(password)<16):\n",
    "    for i in password:\n",
    "        if(i.islower()):\n",
    "            lower_letter=1\n",
    "        elif(i.isupper()):\n",
    "            upper_letter=1\n",
    "        elif(i.isdigit()):\n",
    "            number=1\n",
    "        elif(i==\"@\") or (i==\"$\") or (i==\"#\"):\n",
    "            char=1\n",
    "    if(lower_letter==1) and (upper_letter==1) and (number==1) and (char==1):\n",
    "        print(\"password is valid\")\n",
    "    else:\n",
    "        print(\"password is invalid\")     "
   ]
  },
  {
   "cell_type": "code",
   "execution_count": 24,
   "id": "f1fa01c5",
   "metadata": {},
   "outputs": [
    {
     "name": "stdout",
     "output_type": "stream",
     "text": [
      "enter your string: sujji\n",
      "ijjus\n"
     ]
    }
   ],
   "source": [
    "#9) Write a program in Python to reverse a word by using while loop.\n",
    "\n",
    "string=input(\"enter your string: \")\n",
    "i=0\n",
    "n=len(string)\n",
    "reverse_string=\"\"\n",
    "while (i<=n-1):\n",
    "    reverse_string=string[i]+reverse_string\n",
    "    i=i+1\n",
    "print(reverse_string)\n",
    "    "
   ]
  },
  {
   "cell_type": "code",
   "execution_count": 25,
   "id": "d6c427d8",
   "metadata": {},
   "outputs": [
    {
     "name": "stdout",
     "output_type": "stream",
     "text": [
      "enter the range: 8\n",
      "enter your number1\n",
      "enter your number2\n",
      "enter your number3\n",
      "enter your number4\n",
      "enter your number5\n",
      "enter your number6\n",
      "enter your number7\n",
      "enter your number6\n",
      "34\n",
      "4.25\n"
     ]
    }
   ],
   "source": [
    "#10) Write a program which takes 10 integers as input using loop and print their average value on the screen.\n",
    "\n",
    "n=int(input(\"enter the range: \"))\n",
    "s=0\n",
    "avg=0\n",
    "for i in range(n):\n",
    "    num=int(input(\"enter your number\"))\n",
    "    s+=num\n",
    "print(s)\n",
    "avg=(s/n)\n",
    "print(avg)"
   ]
  },
  {
   "cell_type": "code",
   "execution_count": 32,
   "id": "030c1e7a",
   "metadata": {},
   "outputs": [
    {
     "name": "stdout",
     "output_type": "stream",
     "text": [
      "enter the number1\n",
      "enter the number2\n",
      "enter the number3\n",
      "enter the number4\n",
      "enter the number5\n",
      "enter the numberq\n",
      "product:  120\n",
      "average:  3.0\n"
     ]
    }
   ],
   "source": [
    "#11) Write a program which takes integer inputs from user until he/she presses “q” (Ask to press q to quit after every integer \n",
    "#input). Print average and product of all numbers.\n",
    "\n",
    "product=1\n",
    "avg=0\n",
    "s=0\n",
    "count=0\n",
    "while(True):\n",
    "    num=input(\"enter the number\")\n",
    "    if(num==\"q\"):\n",
    "        break\n",
    "    product=product*int(num)\n",
    "    s=s+int(num)\n",
    "    count=count+1\n",
    "#print(s)\n",
    "print(\"product: \",product)\n",
    "avg=(s/count)\n",
    "print(\"average: \",avg)"
   ]
  },
  {
   "cell_type": "code",
   "execution_count": 34,
   "id": "9e7b4c5d",
   "metadata": {},
   "outputs": [
    {
     "name": "stdout",
     "output_type": "stream",
     "text": [
      "enter your string: suj@12#234\n",
      "suj\n"
     ]
    }
   ],
   "source": [
    "#12) Write a Python program which will remove all digits or any other characters from the string except alphabets.\n",
    "\n",
    "string=input(\"enter your string: \")\n",
    "new_string=\"\"\n",
    "for i in string:\n",
    "    if(i.isalpha()):\n",
    "        new_string+=i\n",
    "print(new_string)\n",
    "        "
   ]
  },
  {
   "cell_type": "code",
   "execution_count": 37,
   "id": "d68c79ef",
   "metadata": {},
   "outputs": [
    {
     "name": "stdout",
     "output_type": "stream",
     "text": [
      "enter your range: 10\n",
      "30\n"
     ]
    }
   ],
   "source": [
    "#13) Write a python program to find the sum of all even numbers from 0 to 10\n",
    "\n",
    "n=int(input(\"enter your range: \"))\n",
    "s=0\n",
    "for i in range(1,n+1):\n",
    "    if(i%2==0):\n",
    "        s+=i\n",
    "print(s)\n"
   ]
  },
  {
   "cell_type": "code",
   "execution_count": 39,
   "id": "b0ffde42",
   "metadata": {},
   "outputs": [
    {
     "name": "stdout",
     "output_type": "stream",
     "text": [
      "enter the range: 10\n",
      "10\n",
      "9\n",
      "8\n",
      "7\n",
      "6\n",
      "5\n",
      "4\n",
      "3\n",
      "2\n",
      "1\n",
      "0\n"
     ]
    }
   ],
   "source": [
    "#14) Write a python program which will accept a digit and print All the numbers before it till 0.\n",
    "\n",
    "n=int(input(\"enter the range: \"))\n",
    "i=0\n",
    "while(i<=n):\n",
    "    print(n)\n",
    "    n=n-1\n",
    "    "
   ]
  },
  {
   "cell_type": "code",
   "execution_count": 40,
   "id": "b1980b56",
   "metadata": {},
   "outputs": [
    {
     "name": "stdout",
     "output_type": "stream",
     "text": [
      "enter ur first num : 1\n",
      "enter  ur second num: 2\n",
      "enter the symbol +,-,/,%,*,**,// : **\n",
      "1**2=1\n",
      "enter ur first num : 1\n",
      "enter  ur second num: 3\n",
      "enter the symbol +,-,/,%,*,**,// : c\n"
     ]
    }
   ],
   "source": [
    "#15) Create a dynamic calculator which will run continually till you press “c\".\n",
    "\n",
    "while (2==2):\n",
    "    x=int(input(\"enter ur first num : \"))\n",
    "    y=int(input(\"enter  ur second num: \"))\n",
    "    c=input(\"enter the symbol +,-,/,%,*,**,// : \")\n",
    "    if (c==\"+\"):\n",
    "        print(\"{}+{}={}\".format(x,y,x+y))\n",
    "    elif (c==\"*\"):\n",
    "        print(\"{}*{}={}\".format(x,y,x*y))\n",
    "    elif (c==\"-\"):\n",
    "        print(\"{}-{}={}\".format(x,y,x-y))\n",
    "    elif (c==\"/\"):\n",
    "        print(\"{}/{}={}\".format(x,y,x/y))\n",
    "    elif (c==\"**\"):\n",
    "        print(\"{}**{}={}\".format(x,y,x**y))\n",
    "    elif(c==\"%\"):\n",
    "        print(\"{}%{}={}\".format(x,y,x%y))\n",
    "    elif(c.lower()==\"c\"):\n",
    "        break\n",
    "    else:\n",
    "        print(\"enter either correct symbol or c\")"
   ]
  },
  {
   "cell_type": "code",
   "execution_count": null,
   "id": "19ff8a47",
   "metadata": {},
   "outputs": [],
   "source": []
  }
 ],
 "metadata": {
  "kernelspec": {
   "display_name": "Python 3 (ipykernel)",
   "language": "python",
   "name": "python3"
  },
  "language_info": {
   "codemirror_mode": {
    "name": "ipython",
    "version": 3
   },
   "file_extension": ".py",
   "mimetype": "text/x-python",
   "name": "python",
   "nbconvert_exporter": "python",
   "pygments_lexer": "ipython3",
   "version": "3.11.3"
  }
 },
 "nbformat": 4,
 "nbformat_minor": 5
}

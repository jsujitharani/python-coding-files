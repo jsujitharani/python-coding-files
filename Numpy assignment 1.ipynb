{
 "cells": [
  {
   "cell_type": "code",
   "execution_count": 1,
   "id": "3b8e13f2",
   "metadata": {},
   "outputs": [],
   "source": [
    "#1) Write a program to create a 5 dimensional array with all zeros and ones\n",
    "\n",
    "import numpy as np\n",
    "b=np.ones((1,1,1,5,4),dtype=int)"
   ]
  },
  {
   "cell_type": "code",
   "execution_count": 7,
   "id": "0cb7d06b",
   "metadata": {},
   "outputs": [
    {
     "data": {
      "text/plain": [
       "array([[[[[1, 1, 1, 1],\n",
       "          [1, 1, 1, 1],\n",
       "          [1, 1, 1, 1],\n",
       "          [1, 1, 1, 1],\n",
       "          [1, 1, 1, 1]]]]])"
      ]
     },
     "execution_count": 7,
     "metadata": {},
     "output_type": "execute_result"
    }
   ],
   "source": [
    "b"
   ]
  },
  {
   "cell_type": "code",
   "execution_count": 8,
   "id": "629f9144",
   "metadata": {},
   "outputs": [],
   "source": [
    "a=np.zeros((1,1,1,5,4),dtype=int)"
   ]
  },
  {
   "cell_type": "code",
   "execution_count": 9,
   "id": "699d1ef3",
   "metadata": {},
   "outputs": [
    {
     "data": {
      "text/plain": [
       "array([[[[[0, 0, 0, 0],\n",
       "          [0, 0, 0, 0],\n",
       "          [0, 0, 0, 0],\n",
       "          [0, 0, 0, 0],\n",
       "          [0, 0, 0, 0]]]]])"
      ]
     },
     "execution_count": 9,
     "metadata": {},
     "output_type": "execute_result"
    }
   ],
   "source": [
    "a"
   ]
  },
  {
   "cell_type": "code",
   "execution_count": 10,
   "id": "e9dedaa7",
   "metadata": {},
   "outputs": [
    {
     "name": "stdout",
     "output_type": "stream",
     "text": [
      "[[0 0 0 0 0 0 0 0 0 0]\n",
      " [1 1 1 1 1 1 1 1 1 1]\n",
      " [5 5 5 5 5 5 5 5 5 5]]\n"
     ]
    }
   ],
   "source": [
    "#2) Write a program to create an array of 10 zeros,10 ones, and 10 fives in row 1 2 and 3 which create a new array of\n",
    "#shape (3,10)\n",
    "\n",
    "l=[]\n",
    "a=np.arange(1,31).reshape(3,10)\n",
    "for i in a.flatten():\n",
    "    if(i<=10):\n",
    "        l.append(0)\n",
    "    elif(11<=i<=20):\n",
    "        l.append(1)\n",
    "    else:\n",
    "        l.append(5)\n",
    "x=np.array(l).reshape(3,10)\n",
    "print(x)"
   ]
  },
  {
   "cell_type": "code",
   "execution_count": 11,
   "id": "0d32dc4a",
   "metadata": {},
   "outputs": [
    {
     "data": {
      "text/plain": [
       "array([[10, 11, 12, 13],\n",
       "       [14, 15, 16, 17],\n",
       "       [18, 19, 20, 21]])"
      ]
     },
     "execution_count": 11,
     "metadata": {},
     "output_type": "execute_result"
    }
   ],
   "source": [
    "#3) Write a program to create a 3x4 matrix filled with values from 10 to 21.\n",
    "\n",
    "\n",
    "np.arange(10,22).reshape(3,4)"
   ]
  },
  {
   "cell_type": "code",
   "execution_count": 12,
   "id": "1c4f2028",
   "metadata": {},
   "outputs": [
    {
     "data": {
      "text/plain": [
       "array([[0, 0, 0, 0, 0, 0, 0, 0, 0, 0],\n",
       "       [0, 1, 0, 0, 0, 0, 0, 0, 0, 0],\n",
       "       [0, 0, 2, 0, 0, 0, 0, 0, 0, 0],\n",
       "       [0, 0, 0, 3, 0, 0, 0, 0, 0, 0],\n",
       "       [0, 0, 0, 0, 4, 0, 0, 0, 0, 0],\n",
       "       [0, 0, 0, 0, 0, 5, 0, 0, 0, 0],\n",
       "       [0, 0, 0, 0, 0, 0, 6, 0, 0, 0],\n",
       "       [0, 0, 0, 0, 0, 0, 0, 7, 0, 0],\n",
       "       [0, 0, 0, 0, 0, 0, 0, 0, 8, 0],\n",
       "       [0, 0, 0, 0, 0, 0, 0, 0, 0, 9]])"
      ]
     },
     "execution_count": 12,
     "metadata": {},
     "output_type": "execute_result"
    }
   ],
   "source": [
    "#4) Write a  program to create a 10x10 zero matrix with elements on the main diagonal equal to 0,1,2,3,4,5,6,7,8,9.\n",
    "l=[0,1,2,3,4,5,6,7,8,9]\n",
    "np.diag(l)"
   ]
  },
  {
   "cell_type": "code",
   "execution_count": 14,
   "id": "d3c7ab49",
   "metadata": {},
   "outputs": [
    {
     "name": "stdout",
     "output_type": "stream",
     "text": [
      "[[ 1  2  3  4]\n",
      " [ 5  6  7  8]\n",
      " [ 9 10 11 12]\n",
      " [13 14 15 16]]\n",
      "\n",
      "[[ 4  3  2  1]\n",
      " [ 8  7  6  5]\n",
      " [12 11 10  9]\n",
      " [16 15 14 13]]\n"
     ]
    }
   ],
   "source": [
    "#5)Write a program to create a 4x4 array. Create an array from below array by swapping first and last, second and third columns\n",
    "\n",
    "x=np.arange(1,17).reshape(4,4)\n",
    "y=x[:,::-1]\n",
    "print(x)\n",
    "print()\n",
    "print(y)\n"
   ]
  },
  {
   "cell_type": "code",
   "execution_count": 15,
   "id": "04b5f08e",
   "metadata": {},
   "outputs": [
    {
     "data": {
      "text/plain": [
       "array([27, 26, 25, 24, 23, 22, 21, 20, 19, 18, 17, 16, 15, 14, 13, 12])"
      ]
     },
     "execution_count": 15,
     "metadata": {},
     "output_type": "execute_result"
    }
   ],
   "source": [
    "#6) Write a program to reverse an array (the first element becomes the last).\n",
    "#Given array:\n",
    "#[12 13 14 15 16 17 18 19 20 21 22 23 24 25 26 27 ]\n",
    "\n",
    "\n",
    "x=np.arange(12,28)\n",
    "x[::-1]"
   ]
  },
  {
   "cell_type": "code",
   "execution_count": 16,
   "id": "570f2cb1",
   "metadata": {},
   "outputs": [
    {
     "name": "stdout",
     "output_type": "stream",
     "text": [
      "[27 26 25 24 23 22 21 20 19 18 17 16 15 14 13 12]\n"
     ]
    }
   ],
   "source": [
    "x=np.arange(12,28)\n",
    "a=[]\n",
    "for i in x:\n",
    "    a.insert(0,i)\n",
    "reverse=np.array(a)\n",
    "print(reverse)\n",
    "    \n",
    "    "
   ]
  },
  {
   "cell_type": "code",
   "execution_count": 17,
   "id": "0dfa60f7",
   "metadata": {},
   "outputs": [
    {
     "data": {
      "text/plain": [
       "numpy.ndarray"
      ]
     },
     "execution_count": 17,
     "metadata": {},
     "output_type": "execute_result"
    }
   ],
   "source": [
    "type(reverse)"
   ]
  },
  {
   "cell_type": "code",
   "execution_count": null,
   "id": "275d0321",
   "metadata": {},
   "outputs": [],
   "source": []
  },
  {
   "cell_type": "code",
   "execution_count": 18,
   "id": "12a56b6c",
   "metadata": {},
   "outputs": [
    {
     "data": {
      "text/plain": [
       "array([35, 40, 45, 50, 55, 60, 65, 70, 75])"
      ]
     },
     "execution_count": 18,
     "metadata": {},
     "output_type": "execute_result"
    }
   ],
   "source": [
    "#7) Write a program to access all the elements greater than 30 and less than 80 and multiples of 5 from an array of \n",
    "#shape 10,10 .Elements range from 1 to 100\n",
    "\n",
    "x=np.arange(1,101).reshape(10,10)\n",
    "y=(x%5==0) & (30<x) & (80>x)\n",
    "x[y]\n"
   ]
  },
  {
   "cell_type": "code",
   "execution_count": 21,
   "id": "942f1e9b",
   "metadata": {},
   "outputs": [
    {
     "name": "stdout",
     "output_type": "stream",
     "text": [
      "enter the no.of rows: 5\n",
      "enter no.of colums: 5\n",
      "[[1 1 1 1 1]\n",
      " [1 0 0 0 1]\n",
      " [1 0 0 0 1]\n",
      " [1 0 0 0 1]\n",
      " [1 1 1 1 1]]\n"
     ]
    }
   ],
   "source": [
    "#8) Write a program to create a 2D array with 1 on the border and 0 inside.\n",
    "\n",
    "\n",
    "n=int(input(\"enter the no.of rows: \"))\n",
    "m=int(input(\"enter no.of colums: \"))\n",
    "x=np.zeros((n,m),dtype=int)\n",
    "for i in x:\n",
    "    x[0:1,:]=1\n",
    "    x[-1:,:]=1\n",
    "    x[:,0:1]=1\n",
    "    x[:,-1:]=1\n",
    "print(x)"
   ]
  },
  {
   "cell_type": "code",
   "execution_count": 22,
   "id": "88d4837b",
   "metadata": {},
   "outputs": [
    {
     "name": "stdout",
     "output_type": "stream",
     "text": [
      "[[1 1 0 1 0 1 0 1]\n",
      " [0 1 0 1 0 1 0 1]\n",
      " [1 1 0 1 0 1 0 1]\n",
      " [0 1 0 1 0 1 0 1]\n",
      " [1 1 0 1 0 1 0 1]\n",
      " [0 1 0 1 0 1 0 1]\n",
      " [1 1 0 1 0 1 0 1]\n",
      " [0 1 0 1 0 1 0 1]]\n"
     ]
    }
   ],
   "source": [
    "#9) Write a program to create a checkerboard pattern .Don't use default array function Checkerboard pattern:                    \n",
    "#[[0 1 0 1 0 1 0 1]                                                      \n",
    "# [1 0 1 0 1 0 1 0]                                                      \n",
    "# [0 1 0 1 0 1 0 1]                                                      \n",
    "# [1 0 1 0 1 0 1 0]                                                      \n",
    "# [0 1 0 1 0 1 0 1]                                                      \n",
    "# [1 0 1 0 1 0 1 0]                                                      \n",
    "# [0 1 0 1 0 1 0 1]                                                      \n",
    "# [1 0 1 0 1 0 1 0]]\n",
    "\n",
    "\n",
    "l=[]\n",
    "for i in range(0,64):\n",
    "    a=i/8\n",
    "    if(a%2==0):\n",
    "        if(i%2==0):\n",
    "            l.append(1)\n",
    "        else:\n",
    "            l.append(0)\n",
    "    else:\n",
    "        if(i%2==0):\n",
    "            l.append(0)\n",
    "        else:\n",
    "            l.append(1)\n",
    "            \n",
    "x=np.array(l).reshape(8,8)\n",
    "print(x)\n"
   ]
  },
  {
   "cell_type": "code",
   "execution_count": 23,
   "id": "a9a6e688",
   "metadata": {},
   "outputs": [
    {
     "name": "stdout",
     "output_type": "stream",
     "text": [
      "[10, 40]\n"
     ]
    }
   ],
   "source": [
    "#10) Write a program to find common values between two arrays.\n",
    "#array1: [10 20 40 60]\n",
    "#array2: [10, 30, 40,50]\n",
    "\n",
    "l=[]\n",
    "x=np.array([10,20,40,60])\n",
    "y=np.array([10,30,40,50])\n",
    "for i in x:\n",
    "    for j in y:\n",
    "        if(i==j):\n",
    "            l.append(i)\n",
    "print(l)\n",
    "        "
   ]
  },
  {
   "cell_type": "code",
   "execution_count": 24,
   "id": "c0139972",
   "metadata": {},
   "outputs": [
    {
     "name": "stdout",
     "output_type": "stream",
     "text": [
      "enter the elements range: 4\n",
      "enter the elements into the array: 2\n",
      "enter the elements into the array: 3\n",
      "enter the elements into the array: 4\n",
      "enter the elements into the array: 5\n",
      "[[2 3 4 5]]\n",
      "[2 3 4 5]\n"
     ]
    }
   ],
   "source": [
    "#11) Write a program to create an array 2d array and then reshape into 1d array\n",
    "l=[]\n",
    "n=int(input(\"enter the elements range: \"))\n",
    "for i in range(n):\n",
    "    num=int(input(\"enter the elements into the array: \"))\n",
    "    l.append(num)\n",
    "m=len(l)\n",
    "x=np.array(l,ndmin=2)\n",
    "print(x)\n",
    "print(x.reshape(m,))"
   ]
  },
  {
   "cell_type": "code",
   "execution_count": 3,
   "id": "75b53e46",
   "metadata": {},
   "outputs": [
    {
     "name": "stdout",
     "output_type": "stream",
     "text": [
      "enter the range: 3\n",
      "enter the elements: 1,2,3,4\n",
      "enter the elements: 2,3,4,5\n",
      "enter the elements: 3,4,5,6\n",
      "['1,2,3,4', '2,3,4,5', '3,4,5,6']\n",
      "enter the dimension: 2\n",
      "array([[1,2,3,4]\n",
      "[2,3,4,5]\n",
      "[3,4,5,6]\n",
      "])\n"
     ]
    }
   ],
   "source": [
    "#12) Write a user defined function for creating a 1 or 2d array from scratch without using array functions\n",
    "\n",
    "\n",
    "def ndarray(x):\n",
    "    n=int(input(\"enter the dimension: \"))\n",
    "    if type(x)==list or type(x)==tuple:\n",
    "        c=len(x)\n",
    "    if n==1:\n",
    "        print(\"array({})\".format(x))\n",
    "    elif(n==0):\n",
    "        m=int(l[0])\n",
    "        print(\"array({})\".format(m)) \n",
    "    elif (n==2):    \n",
    "       \n",
    "        if(len(x[0])>1):\n",
    "            print(\"array([\",end=\"\")\n",
    "            for i in range(c):\n",
    "                print(\"[{}]\".format(x[i]))\n",
    "            print(\"])\")\n",
    "        else:\n",
    "            new=[]\n",
    "            for i in x:\n",
    "                if (i.isdigit()):\n",
    "                    z=int(i)\n",
    "                    new.append(z)\n",
    "            print(\"array([{}])\".format(new)) \n",
    "    else:\n",
    "        pass\n",
    "l=[]\n",
    "n=int(input(\"enter the range: \"))\n",
    "for i in range(n):\n",
    "    num=input(\"enter the elements: \")\n",
    "    l.append(num)\n",
    "print(l)\n",
    "ndarray(l)"
   ]
  },
  {
   "cell_type": "code",
   "execution_count": 13,
   "id": "411b4c19",
   "metadata": {},
   "outputs": [],
   "source": []
  }
 ],
 "metadata": {
  "kernelspec": {
   "display_name": "Python 3 (ipykernel)",
   "language": "python",
   "name": "python3"
  },
  "language_info": {
   "codemirror_mode": {
    "name": "ipython",
    "version": 3
   },
   "file_extension": ".py",
   "mimetype": "text/x-python",
   "name": "python",
   "nbconvert_exporter": "python",
   "pygments_lexer": "ipython3",
   "version": "3.11.3"
  }
 },
 "nbformat": 4,
 "nbformat_minor": 5
}

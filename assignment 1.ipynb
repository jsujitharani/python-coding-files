{
 "cells": [
  {
   "cell_type": "code",
   "execution_count": 1,
   "id": "1e9f14b7",
   "metadata": {},
   "outputs": [],
   "source": [
    "#1.Write a python program to convert a string to lower case"
   ]
  },
  {
   "cell_type": "code",
   "execution_count": 3,
   "id": "00ffdb26",
   "metadata": {},
   "outputs": [
    {
     "name": "stdout",
     "output_type": "stream",
     "text": [
      "SUJItharAni\n"
     ]
    },
    {
     "data": {
      "text/plain": [
       "'sujitharani'"
      ]
     },
     "execution_count": 3,
     "metadata": {},
     "output_type": "execute_result"
    }
   ],
   "source": [
    "string=input()\n",
    "string.lower()"
   ]
  },
  {
   "cell_type": "code",
   "execution_count": 4,
   "id": "22535618",
   "metadata": {},
   "outputs": [],
   "source": [
    "#2.Write a python program to convert only odd indexed characters to lower case\n",
    "\n",
    "#Ex:- PYTHON\n",
    "\n",
    "#Output: - PyThOn\n"
   ]
  },
  {
   "cell_type": "code",
   "execution_count": 8,
   "id": "be7d04b5",
   "metadata": {},
   "outputs": [
    {
     "data": {
      "text/plain": [
       "'PyThOn'"
      ]
     },
     "execution_count": 8,
     "metadata": {},
     "output_type": "execute_result"
    }
   ],
   "source": [
    "string=\"PYTHON\"\n",
    "string[0]+string[1].lower()+string[2]+string[3].lower()+string[4]+string[5].lower()"
   ]
  },
  {
   "cell_type": "code",
   "execution_count": 9,
   "id": "59739b25",
   "metadata": {},
   "outputs": [],
   "source": [
    "# 3.Write a python program to convert only even indexed characters to lower case\n",
    "\n",
    "#Ex:- PYTHON\n",
    "\n",
    "#Output: - pYtHoN\n"
   ]
  },
  {
   "cell_type": "code",
   "execution_count": 10,
   "id": "b73101ac",
   "metadata": {},
   "outputs": [
    {
     "data": {
      "text/plain": [
       "'pYtHoN'"
      ]
     },
     "execution_count": 10,
     "metadata": {},
     "output_type": "execute_result"
    }
   ],
   "source": [
    "string=\"PYTHON\"\n",
    "string[0].lower()+string[1]+string[2].lower()+string[3]+string[4].lower()+string[5]"
   ]
  },
  {
   "cell_type": "code",
   "execution_count": 11,
   "id": "0875e8cb",
   "metadata": {},
   "outputs": [],
   "source": [
    "# 4.Write a python program to convert only odd indexed characters to upper case\n",
    "\n",
    "#Ex:- python\n",
    "\n",
    "#Output: - pYtHoN\n"
   ]
  },
  {
   "cell_type": "code",
   "execution_count": 13,
   "id": "0bc14d14",
   "metadata": {},
   "outputs": [
    {
     "data": {
      "text/plain": [
       "'pYtHoN'"
      ]
     },
     "execution_count": 13,
     "metadata": {},
     "output_type": "execute_result"
    }
   ],
   "source": [
    "string=\"python\"\n",
    "string[0]+string[1].upper()+string[2]+string[3].upper()+string[4]+string[5].upper()"
   ]
  },
  {
   "cell_type": "code",
   "execution_count": 14,
   "id": "e9fd36fc",
   "metadata": {},
   "outputs": [],
   "source": [
    "# 5.Write a python program to convert only even indexed characters to upper case\n",
    "\n",
    "#Ex:- python\n",
    "\n",
    "#Output: - PyThOn\n",
    "\n"
   ]
  },
  {
   "cell_type": "code",
   "execution_count": 15,
   "id": "2cc98cc6",
   "metadata": {},
   "outputs": [
    {
     "data": {
      "text/plain": [
       "'PyThOn'"
      ]
     },
     "execution_count": 15,
     "metadata": {},
     "output_type": "execute_result"
    }
   ],
   "source": [
    "string=\"python\"\n",
    "string[0].upper()+string[1]+string[2].upper()+string[3]+string[4].upper()+string[5]"
   ]
  },
  {
   "cell_type": "code",
   "execution_count": 16,
   "id": "9541c4e0",
   "metadata": {},
   "outputs": [],
   "source": [
    "# 6.Write a python program where you have different variable which contains your name ,sex,age, phone no ,fathers name and mothers \n",
    "#name.And by using this variable create a variable named bio-data where you will use all this variable\n",
    "\n",
    "#Ex:-print(bio-data)\n",
    "\n",
    "#Output:- My name is …., My age is ….,My phone-no is ….,my fathers name is …,and my mothers name is……\n"
   ]
  },
  {
   "cell_type": "code",
   "execution_count": 20,
   "id": "deb62f84",
   "metadata": {},
   "outputs": [
    {
     "name": "stdout",
     "output_type": "stream",
     "text": [
      "enter your name: sujitha rani\n",
      "enter your gender: female\n",
      "enter your phone number: 6768754568\n",
      "enter your father's name: thirupal\n",
      "enter your mother's name: yallamma\n",
      "my name is sujitha rani, my gender is female, my phone number is 6768754568, my father name is thirupal, my mother name is yallamma and this is my bio data\n"
     ]
    }
   ],
   "source": [
    "name=input(\"enter your name: \")\n",
    "gender=input(\"enter your gender: \")\n",
    "phone_no=int(input(\"enter your phone number: \"))\n",
    "fathers_name=input(\"enter your father's name: \")\n",
    "mothers_name=input(\"enter your mother's name: \")\n",
    "bio_data=print(\"my name is {}, my gender is {}, my phone number is {}, my father name is {}, my mother name is {} and this is my bio data\".format(name,gender,phone_no,fathers_name,mothers_name))"
   ]
  },
  {
   "cell_type": "code",
   "execution_count": 21,
   "id": "236bb587",
   "metadata": {},
   "outputs": [
    {
     "name": "stdout",
     "output_type": "stream",
     "text": [
      "enter your string: @@@fghh@@@\n",
      "6\n"
     ]
    }
   ],
   "source": [
    "#Write a python program to count how many times “@” occurred\n",
    "a=input(\"enter your string: \")\n",
    "print(a.count(\"@\"))"
   ]
  },
  {
   "cell_type": "code",
   "execution_count": 33,
   "id": "2d449ae6",
   "metadata": {},
   "outputs": [
    {
     "name": "stdout",
     "output_type": "stream",
     "text": [
      "name1\n",
      "name2\n",
      "name3\n"
     ]
    }
   ],
   "source": [
    "#Write a python program to get only names from the string “name1.@gmail.com,name2.@gmail.com,name3.@gmail.com” \n",
    "#Output-name1,name2,name3\n",
    "name1=\"name1.@gmail.com\"\n",
    "name2=\"name2.@gmail.com\"\n",
    "name3=\"name3.@gmail.com\"\n",
    "print(name1[0:5])\n",
    "print(name2[0:5])\n",
    "print(name3[0:5])"
   ]
  },
  {
   "cell_type": "code",
   "execution_count": 25,
   "id": "0775a8cc",
   "metadata": {},
   "outputs": [
    {
     "data": {
      "text/plain": [
       "'mei'"
      ]
     },
     "execution_count": 25,
     "metadata": {},
     "output_type": "execute_result"
    }
   ],
   "source": [
    "#Given a string of odd length greater that 9, return a new string made of the middle three characters of a given String\n",
    "\n",
    "#Ex:- “mynameissan\n",
    "\n",
    "#Output:- “mei”\n",
    "\n",
    "string=\"mynameissan\"\n",
    "string[4:7]"
   ]
  },
  {
   "cell_type": "code",
   "execution_count": 26,
   "id": "cf11a601",
   "metadata": {},
   "outputs": [
    {
     "data": {
      "text/plain": [
       "'msayn'"
      ]
     },
     "execution_count": 26,
     "metadata": {},
     "output_type": "execute_result"
    }
   ],
   "source": [
    "#Write a python program to insert a 2 string in the middle of 1 string\n",
    "#Ex:-Str1=”myn”\n",
    "#str2=”sa”\n",
    "#Output:-“msayn”\n",
    "\n",
    "string1=\"myn\"\n",
    "string2=\"sa\"\n",
    "string1[0:1]+string2+string1[1:]\n"
   ]
  },
  {
   "cell_type": "code",
   "execution_count": 34,
   "id": "d62a3487",
   "metadata": {},
   "outputs": [
    {
     "name": "stdout",
     "output_type": "stream",
     "text": [
      "a\bbcde\bfghi\bjklmno\bpqrstu\bvwxyz\n"
     ]
    }
   ],
   "source": [
    "#Write a program to remove vowels from the entire alphabets.\n",
    "#Ex:- “abcdefghijklmnopqrstuvwxyz” Output:- “bcdfghjklmnpqrstvwxyz\n",
    "\n",
    "string=\"a\\bbcde\\bfghi\\bjklmno\\bpqrstu\\bvwxyz\"\n",
    "print(string)"
   ]
  },
  {
   "cell_type": "code",
   "execution_count": null,
   "id": "bc0fbe65",
   "metadata": {},
   "outputs": [],
   "source": []
  }
 ],
 "metadata": {
  "kernelspec": {
   "display_name": "Python 3 (ipykernel)",
   "language": "python",
   "name": "python3"
  },
  "language_info": {
   "codemirror_mode": {
    "name": "ipython",
    "version": 3
   },
   "file_extension": ".py",
   "mimetype": "text/x-python",
   "name": "python",
   "nbconvert_exporter": "python",
   "pygments_lexer": "ipython3",
   "version": "3.11.3"
  }
 },
 "nbformat": 4,
 "nbformat_minor": 5
}

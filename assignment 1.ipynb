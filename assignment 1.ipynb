{
 "cells": [
  {
   "cell_type": "code",
   "execution_count": 1,
   "id": "fdf1a335",
   "metadata": {},
   "outputs": [],
   "source": [
    "#1.Write a python program to convert a string to lower case"
   ]
  },
  {
   "cell_type": "code",
   "execution_count": 3,
   "id": "49a65322",
   "metadata": {},
   "outputs": [
    {
     "name": "stdout",
     "output_type": "stream",
     "text": [
      "SUJItharAni\n"
     ]
    },
    {
     "data": {
      "text/plain": [
       "'sujitharani'"
      ]
     },
     "execution_count": 3,
     "metadata": {},
     "output_type": "execute_result"
    }
   ],
   "source": [
    "string=input()\n",
    "string.lower()"
   ]
  },
  {
   "cell_type": "code",
   "execution_count": 4,
   "id": "604bb289",
   "metadata": {},
   "outputs": [],
   "source": [
    "#2.Write a python program to convert only odd indexed characters to lower case\n",
    "\n",
    "#Ex:- PYTHON\n",
    "\n",
    "#Output: - PyThOn\n"
   ]
  },
  {
   "cell_type": "code",
   "execution_count": 8,
   "id": "9770d6d4",
   "metadata": {},
   "outputs": [
    {
     "data": {
      "text/plain": [
       "'PyThOn'"
      ]
     },
     "execution_count": 8,
     "metadata": {},
     "output_type": "execute_result"
    }
   ],
   "source": [
    "string=\"PYTHON\"\n",
    "string[0]+string[1].lower()+string[2]+string[3].lower()+string[4]+string[5].lower()"
   ]
  },
  {
   "cell_type": "code",
   "execution_count": 9,
   "id": "18b21671",
   "metadata": {},
   "outputs": [],
   "source": [
    "# 3.Write a python program to convert only even indexed characters to lower case\n",
    "\n",
    "#Ex:- PYTHON\n",
    "\n",
    "#Output: - pYtHoN\n"
   ]
  },
  {
   "cell_type": "code",
   "execution_count": 10,
   "id": "09187a72",
   "metadata": {},
   "outputs": [
    {
     "data": {
      "text/plain": [
       "'pYtHoN'"
      ]
     },
     "execution_count": 10,
     "metadata": {},
     "output_type": "execute_result"
    }
   ],
   "source": [
    "string=\"PYTHON\"\n",
    "string[0].lower()+string[1]+string[2].lower()+string[3]+string[4].lower()+string[5]"
   ]
  },
  {
   "cell_type": "code",
   "execution_count": 11,
   "id": "7011b5c1",
   "metadata": {},
   "outputs": [],
   "source": [
    "# 4.Write a python program to convert only odd indexed characters to upper case\n",
    "\n",
    "#Ex:- python\n",
    "\n",
    "#Output: - pYtHoN\n"
   ]
  },
  {
   "cell_type": "code",
   "execution_count": 13,
   "id": "8caaa388",
   "metadata": {},
   "outputs": [
    {
     "data": {
      "text/plain": [
       "'pYtHoN'"
      ]
     },
     "execution_count": 13,
     "metadata": {},
     "output_type": "execute_result"
    }
   ],
   "source": [
    "string=\"python\"\n",
    "string[0]+string[1].upper()+string[2]+string[3].upper()+string[4]+string[5].upper()"
   ]
  },
  {
   "cell_type": "code",
   "execution_count": 14,
   "id": "54a20ae6",
   "metadata": {},
   "outputs": [],
   "source": [
    "# 5.Write a python program to convert only even indexed characters to upper case\n",
    "\n",
    "#Ex:- python\n",
    "\n",
    "#Output: - PyThOn\n",
    "\n"
   ]
  },
  {
   "cell_type": "code",
   "execution_count": 15,
   "id": "46857e23",
   "metadata": {},
   "outputs": [
    {
     "data": {
      "text/plain": [
       "'PyThOn'"
      ]
     },
     "execution_count": 15,
     "metadata": {},
     "output_type": "execute_result"
    }
   ],
   "source": [
    "string=\"python\"\n",
    "string[0].upper()+string[1]+string[2].upper()+string[3]+string[4].upper()+string[5]"
   ]
  },
  {
   "cell_type": "code",
   "execution_count": 16,
   "id": "921eb74e",
   "metadata": {},
   "outputs": [],
   "source": [
    "# 6.Write a python program where you have different variable which contains your name ,sex,age, phone no ,fathers name and mothers \n",
    "#name.And by using this variable create a variable named bio-data where you will use all this variable\n",
    "\n",
    "#Ex:-print(bio-data)\n",
    "\n",
    "#Output:- My name is …., My age is ….,My phone-no is ….,my fathers name is …,and my mothers name is……\n"
   ]
  },
  {
   "cell_type": "code",
   "execution_count": 20,
   "id": "665087af",
   "metadata": {},
   "outputs": [
    {
     "name": "stdout",
     "output_type": "stream",
     "text": [
      "enter your name: sujitha rani\n",
      "enter your gender: female\n",
      "enter your phone number: 6768754568\n",
      "enter your father's name: thirupal\n",
      "enter your mother's name: yallamma\n",
      "my name is sujitha rani, my gender is female, my phone number is 6768754568, my father name is thirupal, my mother name is yallamma and this is my bio data\n"
     ]
    }
   ],
   "source": [
    "name=input(\"enter your name: \")\n",
    "gender=input(\"enter your gender: \")\n",
    "phone_no=int(input(\"enter your phone number: \"))\n",
    "fathers_name=input(\"enter your father's name: \")\n",
    "mothers_name=input(\"enter your mother's name: \")\n",
    "bio_data=print(\"my name is {}, my gender is {}, my phone number is {}, my father name is {}, my mother name is {} and this is my bio data\".format(name,gender,phone_no,fathers_name,mothers_name))"
   ]
  },
  {
   "cell_type": "code",
   "execution_count": 21,
   "id": "a22af18c",
   "metadata": {},
   "outputs": [
    {
     "name": "stdout",
     "output_type": "stream",
     "text": [
      "enter your string: @@@fghh@@@\n",
      "6\n"
     ]
    }
   ],
   "source": [
    "#Write a python program to count how many times “@” occurred\n",
    "a=input(\"enter your string: \")\n",
    "print(a.count(\"@\"))"
   ]
  },
  {
   "cell_type": "code",
   "execution_count": 33,
   "id": "8b7dae20",
   "metadata": {},
   "outputs": [
    {
     "name": "stdout",
     "output_type": "stream",
     "text": [
      "name1\n",
      "name2\n",
      "name3\n"
     ]
    }
   ],
   "source": [
    "#Write a python program to get only names from the string “name1.@gmail.com,name2.@gmail.com,name3.@gmail.com” \n",
    "#Output-name1,name2,name3\n",
    "name1=\"name1.@gmail.com\"\n",
    "name2=\"name2.@gmail.com\"\n",
    "name3=\"name3.@gmail.com\"\n",
    "print(name1[0:5])\n",
    "print(name2[0:5])\n",
    "print(name3[0:5])"
   ]
  },
  {
   "cell_type": "code",
   "execution_count": 25,
   "id": "805bc2ae",
   "metadata": {},
   "outputs": [
    {
     "data": {
      "text/plain": [
       "'mei'"
      ]
     },
     "execution_count": 25,
     "metadata": {},
     "output_type": "execute_result"
    }
   ],
   "source": [
    "#Given a string of odd length greater that 9, return a new string made of the middle three characters of a given String\n",
    "\n",
    "#Ex:- “mynameissan\n",
    "\n",
    "#Output:- “mei”\n",
    "\n",
    "string=\"mynameissan\"\n",
    "string[4:7]"
   ]
  },
  {
   "cell_type": "code",
   "execution_count": 26,
   "id": "5745cf30",
   "metadata": {},
   "outputs": [
    {
     "data": {
      "text/plain": [
       "'msayn'"
      ]
     },
     "execution_count": 26,
     "metadata": {},
     "output_type": "execute_result"
    }
   ],
   "source": [
    "#Write a python program to insert a 2 string in the middle of 1 string\n",
    "#Ex:-Str1=”myn”\n",
    "#str2=”sa”\n",
    "#Output:-“msayn”\n",
    "\n",
    "string1=\"myn\"\n",
    "string2=\"sa\"\n",
    "string1[0:1]+string2+string1[1:]\n"
   ]
  },
  {
   "cell_type": "code",
   "execution_count": 34,
   "id": "f317e1d4",
   "metadata": {},
   "outputs": [
    {
     "name": "stdout",
     "output_type": "stream",
     "text": [
      "a\bbcde\bfghi\bjklmno\bpqrstu\bvwxyz\n"
     ]
    }
   ],
   "source": [
    "#Write a program to remove vowels from the entire alphabets.\n",
    "#Ex:- “abcdefghijklmnopqrstuvwxyz” Output:- “bcdfghjklmnpqrstvwxyz\n",
    "\n",
    "string=\"a\\bbcde\\bfghi\\bjklmno\\bpqrstu\\bvwxyz\"\n",
    "print(string)"
   ]
  },
  {
   "cell_type": "code",
   "execution_count": null,
   "id": "a51e0a7b",
   "metadata": {},
   "outputs": [],
   "source": [
    "#endd"
   ]
  }
 ],
 "metadata": {
  "kernelspec": {
   "display_name": "Python 3 (ipykernel)",
   "language": "python",
   "name": "python3"
  },
  "language_info": {
   "codemirror_mode": {
    "name": "ipython",
    "version": 3
   },
   "file_extension": ".py",
   "mimetype": "text/x-python",
   "name": "python",
   "nbconvert_exporter": "python",
   "pygments_lexer": "ipython3",
   "version": "3.11.3"
  }
 },
 "nbformat": 4,
 "nbformat_minor": 5
}

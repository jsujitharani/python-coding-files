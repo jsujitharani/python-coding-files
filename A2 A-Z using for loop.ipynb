{
 "cells": [
  {
   "cell_type": "code",
   "execution_count": 13,
   "id": "3fb77ba5",
   "metadata": {},
   "outputs": [
    {
     "name": "stdout",
     "output_type": "stream",
     "text": [
      "*****\n",
      "*   *\n",
      "* * *\n",
      "*   *\n",
      "*   *\n"
     ]
    }
   ],
   "source": [
    "x=\"12345\"\n",
    "for i in x:\n",
    "    if(i==\"1\"):\n",
    "        print(\"*****\")\n",
    "    elif(i==\"2\") or (i==\"4\") or (i==\"5\"):\n",
    "        print(\"*   *\")\n",
    "    else:\n",
    "        print(\"* * *\")"
   ]
  },
  {
   "cell_type": "code",
   "execution_count": 16,
   "id": "13ca43fb",
   "metadata": {},
   "outputs": [
    {
     "name": "stdout",
     "output_type": "stream",
     "text": [
      "****\n",
      "*   *\n",
      "****\n",
      "*   *\n",
      "****\n"
     ]
    }
   ],
   "source": [
    "x=\"12345\"\n",
    "for i in x:\n",
    "    if(i==\"1\") or (i==\"5\"):\n",
    "        print(\"****\")\n",
    "    elif(i==\"2\") or (i==\"4\") or (i==\"5\"):\n",
    "        print(\"*   *\")\n",
    "    else:\n",
    "        print(\"****\")"
   ]
  },
  {
   "cell_type": "code",
   "execution_count": 17,
   "id": "b4896087",
   "metadata": {},
   "outputs": [
    {
     "name": "stdout",
     "output_type": "stream",
     "text": [
      "*****\n",
      "*    \n",
      "*    \n",
      "*    \n",
      "*****\n"
     ]
    }
   ],
   "source": [
    "string=\"12345\"\n",
    "for x in string:\n",
    "    if(x==\"1\") or (x==\"5\"):\n",
    "        print(\"*****\")\n",
    "    else:\n",
    "        print(\"*    \")\n",
    "   "
   ]
  },
  {
   "cell_type": "code",
   "execution_count": 18,
   "id": "94f7a942",
   "metadata": {},
   "outputs": [
    {
     "name": "stdout",
     "output_type": "stream",
     "text": [
      "****\n",
      "*   *\n",
      "*   *\n",
      "*   *\n",
      "****\n"
     ]
    }
   ],
   "source": [
    "string=\"12345\"\n",
    "for x in string:\n",
    "    if(x==\"1\") or (x==\"5\"):\n",
    "        print(\"****\")\n",
    "    else:\n",
    "        print(\"*   *\")"
   ]
  },
  {
   "cell_type": "code",
   "execution_count": 21,
   "id": "f2fb3f69",
   "metadata": {},
   "outputs": [
    {
     "name": "stdout",
     "output_type": "stream",
     "text": [
      "****\n",
      "*\n",
      "****\n",
      "*\n",
      "****\n"
     ]
    }
   ],
   "source": [
    "string=\"12345\"\n",
    "for x in string:\n",
    "    if(x==\"1\") or (x==\"5\") or (x==\"3\"):\n",
    "        print(\"****\")\n",
    "    else:\n",
    "        print(\"*\")"
   ]
  },
  {
   "cell_type": "code",
   "execution_count": 22,
   "id": "c654b166",
   "metadata": {},
   "outputs": [
    {
     "name": "stdout",
     "output_type": "stream",
     "text": [
      "****\n",
      "*\n",
      "****\n",
      "*\n",
      "*\n"
     ]
    }
   ],
   "source": [
    "string=\"12345\"\n",
    "for x in string:\n",
    "    if(x==\"1\") or (x==\"3\"):\n",
    "        print(\"****\")\n",
    "    else:\n",
    "        print(\"*\")"
   ]
  },
  {
   "cell_type": "code",
   "execution_count": 26,
   "id": "305268d0",
   "metadata": {},
   "outputs": [
    {
     "name": "stdout",
     "output_type": "stream",
     "text": [
      "****\n",
      "*   \n",
      "* ****\n",
      "*    *\n",
      "**** *\n",
      "     *\n"
     ]
    }
   ],
   "source": [
    "string=\"123456\"\n",
    "for x in string:\n",
    "    if(x==\"1\") :\n",
    "        print(\"****\")\n",
    "    elif(x==\"2\"):\n",
    "        print(\"*   \")\n",
    "    elif(x==\"3\") :\n",
    "        print(\"* ****\")\n",
    "    elif(x==\"4\"):\n",
    "        print(\"*    *\")\n",
    "    elif(x==\"5\"):\n",
    "        print(\"**** *\")\n",
    "    else:\n",
    "        print(\"     *\")"
   ]
  },
  {
   "cell_type": "code",
   "execution_count": 30,
   "id": "9b679a1d",
   "metadata": {},
   "outputs": [
    {
     "name": "stdout",
     "output_type": "stream",
     "text": [
      "*   *\n",
      "*   *\n",
      "*****\n",
      "*   *\n",
      "*   *\n"
     ]
    }
   ],
   "source": [
    "string=\"12345\"\n",
    "for x in string:\n",
    "    if(x==\"3\"):\n",
    "        print(\"*****\")\n",
    "    else:\n",
    "        print(\"*   *\")"
   ]
  },
  {
   "cell_type": "code",
   "execution_count": 31,
   "id": "6b28cbe3",
   "metadata": {},
   "outputs": [
    {
     "name": "stdout",
     "output_type": "stream",
     "text": [
      "*****\n",
      "  *  \n",
      "  *  \n",
      "  *  \n",
      "*****\n"
     ]
    }
   ],
   "source": [
    "string=\"12345\"\n",
    "for x in string:\n",
    "    if(x==\"1\") or (x==\"5\"):\n",
    "        print(\"*****\")\n",
    "    else:\n",
    "        print(\"  *  \")"
   ]
  },
  {
   "cell_type": "code",
   "execution_count": 32,
   "id": "ba46c925",
   "metadata": {},
   "outputs": [
    {
     "name": "stdout",
     "output_type": "stream",
     "text": [
      "*****\n",
      "  *  \n",
      "  *  \n",
      "* *\n",
      "***\n"
     ]
    }
   ],
   "source": [
    "string=\"12345\"\n",
    "for x in string:\n",
    "    if(x==\"1\"):\n",
    "        print(\"*****\")\n",
    "    elif(x==\"2\") or (x==\"3\"):\n",
    "        print(\"  *  \")\n",
    "    elif(x==\"4\"):\n",
    "        print(\"* *\")\n",
    "    else:\n",
    "        print(\"***\")"
   ]
  },
  {
   "cell_type": "code",
   "execution_count": 35,
   "id": "157b970b",
   "metadata": {},
   "outputs": [
    {
     "name": "stdout",
     "output_type": "stream",
     "text": [
      "*   *\n",
      "* *\n",
      "*\n",
      "* *\n",
      "*   *\n"
     ]
    }
   ],
   "source": [
    "string=\"12345\"\n",
    "for x in string:\n",
    "    if(x==\"1\") or (x==\"5\"):\n",
    "        print(\"*   *\")\n",
    "    elif(x==\"2\") or (x==\"4\"):\n",
    "        print(\"* *\")\n",
    "    else:\n",
    "        print(\"*\")"
   ]
  },
  {
   "cell_type": "code",
   "execution_count": 38,
   "id": "ec3c197c",
   "metadata": {},
   "outputs": [
    {
     "name": "stdout",
     "output_type": "stream",
     "text": [
      "*\n",
      "*\n",
      "*\n",
      "*\n",
      "****\n"
     ]
    }
   ],
   "source": [
    "string=\"12345\"\n",
    "for x in string:\n",
    "    if(x==\"5\") :\n",
    "        print(\"****\")\n",
    "    else:\n",
    "        print(\"*\")"
   ]
  },
  {
   "cell_type": "code",
   "execution_count": 39,
   "id": "d16487f8",
   "metadata": {},
   "outputs": [
    {
     "name": "stdout",
     "output_type": "stream",
     "text": [
      "*     *\n",
      "* * * *\n",
      "*  *  *\n",
      "*     *\n",
      "*     *\n"
     ]
    }
   ],
   "source": [
    "string=\"12345\"\n",
    "for x in string:\n",
    "    if(x==\"1\") or (x==\"5\") or (x==\"4\"):\n",
    "        print(\"*     *\")\n",
    "    elif(x==\"2\") :\n",
    "        print(\"* * * *\")\n",
    "    else:\n",
    "        print(\"*  *  *\")"
   ]
  },
  {
   "cell_type": "code",
   "execution_count": 40,
   "id": "0bc38792",
   "metadata": {},
   "outputs": [
    {
     "name": "stdout",
     "output_type": "stream",
     "text": [
      "*     *\n",
      "* *   *\n",
      "*  *  *\n",
      "*   * *\n",
      "*     *\n"
     ]
    }
   ],
   "source": [
    "string=\"12345\"\n",
    "for x in string:\n",
    "    if(x==\"1\") or (x==\"5\"):\n",
    "        print(\"*     *\")\n",
    "    elif(x==\"2\") :\n",
    "        print(\"* *   *\")\n",
    "    elif(x==\"3\") :\n",
    "        print(\"*  *  *\")\n",
    "    else :\n",
    "        print(\"*   * *\")"
   ]
  },
  {
   "cell_type": "code",
   "execution_count": 41,
   "id": "f812795c",
   "metadata": {},
   "outputs": [
    {
     "name": "stdout",
     "output_type": "stream",
     "text": [
      " ***\n",
      "*   *\n",
      "*   *\n",
      "*   *\n",
      " ***\n"
     ]
    }
   ],
   "source": [
    "string=\"12345\"\n",
    "for x in string:\n",
    "    if(x==\"1\") or (x==\"5\") :\n",
    "        print(\" ***\")\n",
    "    else:\n",
    "        print(\"*   *\")"
   ]
  },
  {
   "cell_type": "code",
   "execution_count": 43,
   "id": "c527a119",
   "metadata": {},
   "outputs": [
    {
     "name": "stdout",
     "output_type": "stream",
     "text": [
      "****\n",
      "*   *\n",
      "*   *\n",
      "****\n",
      "*\n",
      "*\n"
     ]
    }
   ],
   "source": [
    "string=\"123456\"\n",
    "for x in string:\n",
    "    if(x==\"1\") or (x==\"4\"):\n",
    "        print(\"****\")\n",
    "    elif(x==\"2\")or (x==\"3\") :\n",
    "        print(\"*   *\")\n",
    "    else:\n",
    "        print(\"*\")"
   ]
  },
  {
   "cell_type": "code",
   "execution_count": 46,
   "id": "38d37b3d",
   "metadata": {},
   "outputs": [
    {
     "name": "stdout",
     "output_type": "stream",
     "text": [
      " ***\n",
      "*   *\n",
      "*   *\n",
      "*  \\*\n",
      " ***\\\n"
     ]
    }
   ],
   "source": [
    "string=\"12345\"\n",
    "for x in string:\n",
    "    if(x==\"1\"):\n",
    "        print(\" ***\")\n",
    "    elif(x==\"5\"):\n",
    "        print(\" ***\\\\\")\n",
    "    elif(x==\"4\"):\n",
    "        print(\"*  \\\\*\")\n",
    "    else:\n",
    "        print(\"*   *\")"
   ]
  },
  {
   "cell_type": "code",
   "execution_count": 47,
   "id": "e328bd60",
   "metadata": {},
   "outputs": [
    {
     "name": "stdout",
     "output_type": "stream",
     "text": [
      "****\n",
      "*   *\n",
      "*   *\n",
      "****\n",
      "* *\n",
      "*  *\n",
      "*   *\n"
     ]
    }
   ],
   "source": [
    "string=\"1234567\"\n",
    "for x in string:\n",
    "    if(x==\"1\") or (x==\"4\"):\n",
    "        print(\"****\")\n",
    "    elif(x==\"2\")or (x==\"3\") :\n",
    "        print(\"*   *\")\n",
    "    elif(x==\"5\"):\n",
    "        print(\"* *\")\n",
    "    elif(x==\"6\"):\n",
    "        print(\"*  *\")\n",
    "    else:\n",
    "        print(\"*   *\")"
   ]
  },
  {
   "cell_type": "code",
   "execution_count": 48,
   "id": "e6a775af",
   "metadata": {},
   "outputs": [
    {
     "name": "stdout",
     "output_type": "stream",
     "text": [
      "*****\n",
      "*\n",
      "*****\n",
      "    *\n",
      "*****\n"
     ]
    }
   ],
   "source": [
    "string=\"12345\"\n",
    "for x in string:\n",
    "    if(x==\"1\") or (x==\"5\") or (x==\"3\"):\n",
    "        print(\"*****\")\n",
    "    elif(x==\"4\"):\n",
    "        print(\"    *\")\n",
    "    else:\n",
    "        print(\"*\")"
   ]
  },
  {
   "cell_type": "code",
   "execution_count": 49,
   "id": "07ba01c8",
   "metadata": {},
   "outputs": [
    {
     "name": "stdout",
     "output_type": "stream",
     "text": [
      "*****\n",
      "  *  \n",
      "  *  \n",
      "  *  \n",
      "  *  \n"
     ]
    }
   ],
   "source": [
    "string=\"12345\"\n",
    "for x in string:\n",
    "    if(x==\"1\"):\n",
    "        print(\"*****\")\n",
    "    else:\n",
    "        print(\"  *  \")"
   ]
  },
  {
   "cell_type": "code",
   "execution_count": 50,
   "id": "da2c2eeb",
   "metadata": {},
   "outputs": [
    {
     "name": "stdout",
     "output_type": "stream",
     "text": [
      "*   *\n",
      "*   *\n",
      "*   *\n",
      "*   *\n",
      "*****\n"
     ]
    }
   ],
   "source": [
    "string=\"12345\"\n",
    "for x in string:\n",
    "    if (x==\"5\") :\n",
    "        print(\"*****\")\n",
    "    else:\n",
    "        print(\"*   *\")"
   ]
  },
  {
   "cell_type": "code",
   "execution_count": 53,
   "id": "e8f147ac",
   "metadata": {},
   "outputs": [
    {
     "name": "stdout",
     "output_type": "stream",
     "text": [
      "*       *\n",
      " *     * \n",
      "  *   * \n",
      "   * * \n",
      "    *\n"
     ]
    }
   ],
   "source": [
    "string=\"12345\"\n",
    "for x in string:\n",
    "    if (x==\"1\") :\n",
    "        print(\"*       *\")\n",
    "    elif(x==\"2\"):\n",
    "        print(\" *     * \")\n",
    "    elif(x==\"3\"):\n",
    "        print(\"  *   * \")\n",
    "    elif(x==\"4\"):\n",
    "        print(\"   * * \")\n",
    "    else:\n",
    "        print(\"    *\")"
   ]
  },
  {
   "cell_type": "code",
   "execution_count": 54,
   "id": "b545a2a3",
   "metadata": {},
   "outputs": [
    {
     "name": "stdout",
     "output_type": "stream",
     "text": [
      "*       *        *\n",
      " *     *  *     * \n",
      "  *   *    *   * \n",
      "   * *      * *  \n",
      "    *        *    \n"
     ]
    }
   ],
   "source": [
    "string=\"12345\"\n",
    "for x in string:\n",
    "    if (x==\"1\") :\n",
    "        print(\"*       *        *\")\n",
    "    elif(x==\"2\"):\n",
    "        print(\" *     *  *     * \")\n",
    "    elif(x==\"3\"):\n",
    "        print(\"  *   *    *   * \")\n",
    "    elif(x==\"4\"):\n",
    "        print(\"   * *      * *  \")\n",
    "    else:\n",
    "        print(\"    *        *    \")"
   ]
  },
  {
   "cell_type": "code",
   "execution_count": 55,
   "id": "866d2c57",
   "metadata": {},
   "outputs": [
    {
     "name": "stdout",
     "output_type": "stream",
     "text": [
      "*   *\n",
      " * * \n",
      "  *\n",
      " * * \n",
      "*   *\n"
     ]
    }
   ],
   "source": [
    "string=\"12345\"\n",
    "for x in string:\n",
    "    if(x==\"1\") or (x==\"5\"):\n",
    "        print(\"*   *\")\n",
    "    elif(x==\"2\") or (x==\"4\"):\n",
    "        print(\" * * \")\n",
    "    else:\n",
    "        print(\"  *\")"
   ]
  },
  {
   "cell_type": "code",
   "execution_count": 56,
   "id": "1007daf2",
   "metadata": {},
   "outputs": [
    {
     "name": "stdout",
     "output_type": "stream",
     "text": [
      "*    *\n",
      " *  * \n",
      "  *\n",
      " *\n",
      "*\n"
     ]
    }
   ],
   "source": [
    "string=\"12345\"\n",
    "for x in string:\n",
    "    if(x==\"1\") :\n",
    "        print(\"*    *\")\n",
    "    elif(x==\"2\") :\n",
    "        print(\" *  * \")\n",
    "    elif(x==\"4\"):\n",
    "        print(\" *\")\n",
    "    elif(x==\"5\"):\n",
    "        print(\"*\")\n",
    "    else:\n",
    "        print(\"  *\")"
   ]
  },
  {
   "cell_type": "code",
   "execution_count": 57,
   "id": "76c73137",
   "metadata": {},
   "outputs": [
    {
     "name": "stdout",
     "output_type": "stream",
     "text": [
      "*****\n",
      "   * \n",
      "  *\n",
      " *\n",
      "*****\n"
     ]
    }
   ],
   "source": [
    "string=\"12345\"\n",
    "for x in string:\n",
    "    if(x==\"1\") or (x==\"5\") :\n",
    "        print(\"*****\")\n",
    "    elif(x==\"2\") :\n",
    "        print(\"   * \")\n",
    "    elif(x==\"3\"):\n",
    "        print(\"  *\")\n",
    "    else:\n",
    "        print(\" *\")"
   ]
  },
  {
   "cell_type": "code",
   "execution_count": null,
   "id": "0bd95ddb",
   "metadata": {},
   "outputs": [],
   "source": []
  }
 ],
 "metadata": {
  "kernelspec": {
   "display_name": "Python 3 (ipykernel)",
   "language": "python",
   "name": "python3"
  },
  "language_info": {
   "codemirror_mode": {
    "name": "ipython",
    "version": 3
   },
   "file_extension": ".py",
   "mimetype": "text/x-python",
   "name": "python",
   "nbconvert_exporter": "python",
   "pygments_lexer": "ipython3",
   "version": "3.11.3"
  }
 },
 "nbformat": 4,
 "nbformat_minor": 5
}

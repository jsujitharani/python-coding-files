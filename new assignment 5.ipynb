{
 "cells": [
  {
   "cell_type": "code",
   "execution_count": 1,
   "id": "4d4d0c5b",
   "metadata": {},
   "outputs": [
    {
     "name": "stdout",
     "output_type": "stream",
     "text": [
      "enter the range5\n",
      "enter ur element2\n",
      "enter ur element2\n",
      "enter ur element23\n",
      "enter ur element12\n",
      "enter ur element34\n",
      "[2, 2, 23, 12, 34]\n",
      "[2, 12, 23, 34]\n"
     ]
    }
   ],
   "source": [
    "#1. Given a list of numbers, write a python program that returns a new list which Has all \n",
    "#duplicate elements removed. And is sorted in an increasing order.\n",
    "\n",
    "l=[]\n",
    "n=int(input(\"enter the range\"))\n",
    "for i in range(n):\n",
    "    num=input(\"enter ur element\")\n",
    "    if(num.isdigit()):\n",
    "        num=int(num)\n",
    "        l.append(num)\n",
    "    else:\n",
    "        l.append(num)\n",
    "print(l)\n",
    "new_list=[]\n",
    "for i in l:\n",
    "    if i not in new_list:\n",
    "        new_list.append(i)\n",
    "print(sorted(new_list))\n"
   ]
  },
  {
   "cell_type": "code",
   "execution_count": 2,
   "id": "86075fe1",
   "metadata": {},
   "outputs": [
    {
     "name": "stdout",
     "output_type": "stream",
     "text": [
      "(1, 'a')\n",
      "(2, 'b')\n",
      "(3, 'c')\n"
     ]
    }
   ],
   "source": [
    "##### 2. Write a Python program where you will iterate over both keys and values in dictionaries\n",
    "\n",
    "d={1:\"a\",2:\"b\",3:\"c\"}\n",
    "for i in d.items():\n",
    "    print(i)\n"
   ]
  },
  {
   "cell_type": "code",
   "execution_count": 19,
   "id": "ff3b4207",
   "metadata": {},
   "outputs": [
    {
     "name": "stdout",
     "output_type": "stream",
     "text": [
      "enter the range: 4\n",
      "enter name: 1\n",
      "enter values: sujji\n",
      "enter name: 2\n",
      "enter values: kathy\n",
      "enter name: 3\n",
      "enter values: bhar\n",
      "enter name: 4\n",
      "enter values: jay\n",
      "{'1': 'sujji', '2': 'kathy', '3': 'bhar', '4': 'jay'}\n",
      "['bhar', 'jay', 'kathy', 'sujji']\n"
     ]
    }
   ],
   "source": [
    "#3. Write a Python program that takes a dictionary of student names and returns a list of student names in alphabetical order.\n",
    "\n",
    "n=int(input(\"enter the range: \"))\n",
    "d={}\n",
    "for i in range(n):\n",
    "    key=input(\"enter name: \")\n",
    "    values=input(\"enter values: \")\n",
    "    d[key]=values\n",
    "print(d)\n",
    "new={}\n",
    "for i in d.values():\n",
    "    new=sorted(d.values())\n",
    "print(new)\n",
    "            \n"
   ]
  },
  {
   "cell_type": "code",
   "execution_count": 23,
   "id": "572b3d88",
   "metadata": {},
   "outputs": [
    {
     "name": "stdout",
     "output_type": "stream",
     "text": [
      "enter the range: 5\n",
      "enter the numbers: 1\n",
      "enter the numbers: 1\n",
      "enter the numbers: 1\n",
      "enter the numbers: 0\n",
      "enter the numbers: 0\n",
      "[1, 1, 1, 0, 0]\n",
      "[True, True, True, False, False]\n"
     ]
    }
   ],
   "source": [
    "#4. Write a Python which returns a new list of Booleans, from a given number. Iterating \n",
    "#through the number one digit at a time, append True if the digit is 1 and False if it is 0.\n",
    "l=[]\n",
    "n=int(input(\"enter the range: \"))\n",
    "for i in range(n):\n",
    "    num=input(\"enter the numbers: \")\n",
    "    if(num.isdigit()):\n",
    "        num=int(num)\n",
    "        l.append(num)\n",
    "    else:                                                      #need to work on this\n",
    "        l.append(num)\n",
    "print(l)\n",
    "x=list(map(lambda x:x==1,l))\n",
    "print(x)"
   ]
  },
  {
   "cell_type": "code",
   "execution_count": 2,
   "id": "50dbebc1",
   "metadata": {},
   "outputs": [
    {
     "name": "stdout",
     "output_type": "stream",
     "text": [
      "enter the string: sujji\n",
      "{'s': 1, 'u': 1, 'j': 2, 'i': 1}\n"
     ]
    }
   ],
   "source": [
    "#5. Write a Python program where you will return a dictionary where the keys will be the \n",
    "#character and the values will be the occurrence of the character in the string, and it should for any string inputs (dynamic).\n",
    "\n",
    "def string(s):\n",
    "    d={}\n",
    "    for i in s:\n",
    "        if i in d:\n",
    "            d[i]+=1\n",
    "        else:\n",
    "            d[i]=1\n",
    "    return d\n",
    "m=input(\"enter the string: \")\n",
    "l=string(m)\n",
    "print(l)"
   ]
  },
  {
   "cell_type": "code",
   "execution_count": 1,
   "id": "e04b3808",
   "metadata": {},
   "outputs": [
    {
     "name": "stdout",
     "output_type": "stream",
     "text": [
      "enter the range: 2\n",
      "enter name: s\n",
      "enter values: 12\n",
      "enter name: d\n",
      "enter values: 23\n",
      "{'s': '12', 'd': '23'}\n",
      "d\n"
     ]
    }
   ],
   "source": [
    "#6. Given a dictionary containing the names and ages of a group of people, return the name of the oldest person\n",
    "\n",
    "n=int(input(\"enter the range: \"))\n",
    "d={}\n",
    "for i in range(n):\n",
    "    key=input(\"enter name: \")\n",
    "    values=input(\"enter values: \")\n",
    "    d[key]=values\n",
    "print(d)\n",
    "older=max(d.values())\n",
    "for name,age in d.items():\n",
    "    if(age==older):\n",
    "        print(name)"
   ]
  },
  {
   "cell_type": "code",
   "execution_count": 7,
   "id": "caafaf04",
   "metadata": {},
   "outputs": [
    {
     "name": "stdout",
     "output_type": "stream",
     "text": [
      "enter input ROCK OR PAPERS OR SCISSORS: rock\n",
      "enter input ROCK OR PAPERS OR SCISSORS: rock\n",
      "both entered same values enetr again\n"
     ]
    }
   ],
   "source": [
    "#7. Write a Python program to create a Rock, Paper, Scissor game, use two inputs for two players:\n",
    "#Conditions: -Rock beats Scissors, Scissors beats Paper, Paper beats Rock\n",
    "\n",
    "n=input(\"enter input ROCK OR PAPERS OR SCISSORS: \")\n",
    "m=input(\"enter input ROCK OR PAPERS OR SCISSORS: \")\n",
    "if((n==\"rock\") and (m==\"scissors\")) or (n==\"scissors\") and (m==\"papers\") or (n==\"paper\") and (m==\"rock\"):\n",
    "    print(\"person1 wins\")\n",
    "elif((n==\"scissors\") and (m==\"rock\")) or (n==\"papers\") and (m==\"scissors\") or (n==\"rock\") and (m==\"papers\"):\n",
    "    print(\"person2 wins\")\n",
    "else:\n",
    "    print(\"both entered same values enetr again\")"
   ]
  },
  {
   "cell_type": "code",
   "execution_count": 8,
   "id": "780058b5",
   "metadata": {},
   "outputs": [
    {
     "name": "stdout",
     "output_type": "stream",
     "text": [
      "enter the range: 4\n",
      "enter product name: rice\n",
      "enter price: 1000\n",
      "enter product name: dal\n",
      "enter price: 100\n",
      "enter product name: oil\n",
      "enter price: 23\n",
      "enter product name: mirchi\n",
      "enter price: 34\n",
      "{'rice': 1000, 'dal': 100, 'oil': 23, 'mirchi': 34}\n",
      "enter how much money you have: 35\n",
      "['oil', 'mirchi']\n"
     ]
    }
   ],
   "source": [
    "#8. Create a program that returns a list of items that you can afford in the store with the \n",
    "#money you have in your wallet. Create a dictionary with items as key and price as values.\n",
    "\n",
    "n=int(input(\"enter the range: \"))\n",
    "d={}\n",
    "for i in range(n):\n",
    "    key=input(\"enter product name: \")\n",
    "    values=int(input(\"enter price: \"))\n",
    "    d[key]=values\n",
    "print(d)\n",
    "l=[]\n",
    "money=int(input(\"enter how much money you have: \"))\n",
    "for name,price in d.items():\n",
    "    if(price<=money):\n",
    "        l.append(name)\n",
    "print(l)"
   ]
  },
  {
   "cell_type": "code",
   "execution_count": 3,
   "id": "9493f118",
   "metadata": {},
   "outputs": [
    {
     "name": "stdout",
     "output_type": "stream",
     "text": [
      "{1, 2, 3, 4, 5, 7, 8, 9, 90}\n"
     ]
    }
   ],
   "source": [
    "#9. Write a Python program to create a union of sets\n",
    "\n",
    "s=set((1,2,3,4,5))\n",
    "s1=set((1,3,5,7,8,9,90))\n",
    "s3=s.union(s1)\n",
    "print(s3)\n"
   ]
  },
  {
   "cell_type": "code",
   "execution_count": 11,
   "id": "aaf800bc",
   "metadata": {},
   "outputs": [
    {
     "name": "stdout",
     "output_type": "stream",
     "text": [
      "enter the range: 2\n",
      "enter element into the set : 1\n",
      "enter element into the set : 2\n",
      "{'2', '1'}\n",
      "enter element to check: 3\n"
     ]
    }
   ],
   "source": [
    "#10. Write a Python program to check if a given value is present in a set or not (Dynamic).\n",
    "\n",
    "n=int(input(\"enter the range: \"))\n",
    "s=set()\n",
    "for i in range(n):\n",
    "    el=input(\"enter element into the set : \")\n",
    "    s.add(el)\n",
    "print(s)\n",
    "element=input(\"enter element to check: \")\n",
    "for i in s:\n",
    "    if(i==element):\n",
    "        print(\"The value is present\")\n",
    "        break\n"
   ]
  },
  {
   "cell_type": "code",
   "execution_count": 18,
   "id": "348baa95",
   "metadata": {},
   "outputs": [
    {
     "name": "stdout",
     "output_type": "stream",
     "text": [
      "enter the string: as as as sd sd\n",
      "['as', 'as', 'as', 'sd', 'sd']\n",
      "{'as': 3, 'sd': 2}\n",
      "[('as', 3), ('sd', 2)]\n"
     ]
    }
   ],
   "source": [
    "#11. Write a Python program to find the occurrences of 3 most common words in a given text. And make it as a dictionaries.\n",
    "\n",
    "string=input(\"enter the string: \")\n",
    "l=string.split()\n",
    "d={}\n",
    "c=0\n",
    "for i in l:\n",
    "    m=l.count(i)\n",
    "    d[i]=m\n",
    "\n",
    "print(l)\n",
    "print(d)\n",
    "dic=sorted(d.items())\n",
    "print(dic)\n",
    " \n",
    "    \n",
    "#need to complete this"
   ]
  },
  {
   "cell_type": "code",
   "execution_count": null,
   "id": "a06f552c",
   "metadata": {},
   "outputs": [],
   "source": []
  },
  {
   "cell_type": "code",
   "execution_count": null,
   "id": "f49e37dd",
   "metadata": {},
   "outputs": [],
   "source": []
  },
  {
   "cell_type": "code",
   "execution_count": 14,
   "id": "0fbdfd35",
   "metadata": {},
   "outputs": [
    {
     "name": "stdout",
     "output_type": "stream",
     "text": [
      "enter the total subjects: 3\n",
      "enter name of the subject: maths\n",
      "enter marks: 33\n",
      "enter name of the subject: social\n",
      "enter marks: 22\n",
      "enter name of the subject: english\n",
      "enter marks: 34\n",
      "{'maths': '33', 'social': '22', 'english': '34'}\n"
     ]
    }
   ],
   "source": [
    "#12. Write a Python program that accepts name of given subject and mark, and \n",
    "#make subjects as keys in dictionaries and marks as values and print the final\n",
    "#dictionary with subjects and marks\n",
    "\n",
    "n=int(input(\"enter the total subjects: \"))\n",
    "d={}\n",
    "for i in range(n):\n",
    "    key=input(\"enter name of the subject: \")\n",
    "    values=input(\"enter marks: \")\n",
    "    d[key]=values\n",
    "print(d)\n"
   ]
  },
  {
   "cell_type": "code",
   "execution_count": null,
   "id": "0542d2da",
   "metadata": {},
   "outputs": [],
   "source": []
  }
 ],
 "metadata": {
  "kernelspec": {
   "display_name": "Python 3 (ipykernel)",
   "language": "python",
   "name": "python3"
  },
  "language_info": {
   "codemirror_mode": {
    "name": "ipython",
    "version": 3
   },
   "file_extension": ".py",
   "mimetype": "text/x-python",
   "name": "python",
   "nbconvert_exporter": "python",
   "pygments_lexer": "ipython3",
   "version": "3.11.3"
  }
 },
 "nbformat": 4,
 "nbformat_minor": 5
}

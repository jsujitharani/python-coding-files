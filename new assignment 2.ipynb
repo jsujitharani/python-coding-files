{
 "cells": [
  {
   "cell_type": "code",
   "execution_count": 2,
   "id": "8cbb8408",
   "metadata": {},
   "outputs": [
    {
     "name": "stdout",
     "output_type": "stream",
     "text": [
      "enter a number3\n",
      "enter  another nnumber6\n",
      "product:  18\n",
      "remainder: 0.5\n"
     ]
    }
   ],
   "source": [
    "#1) Write a program to accept two numbers from the user \n",
    "#and calculate multiplication, division\n",
    "\n",
    "num=int(input(\"enter a number\"))\n",
    "num2=int(input(\"enter  another nnumber\"))\n",
    "print(\"product: \",num*num2)\n",
    "print(\"remainder:\",num/num2 )"
   ]
  },
  {
   "cell_type": "code",
   "execution_count": 8,
   "id": "b89690e5",
   "metadata": {},
   "outputs": [
    {
     "name": "stdout",
     "output_type": "stream",
     "text": [
      "enter a string:sujitha rani\n",
      "s j t a r n "
     ]
    }
   ],
   "source": [
    "#2) Write a python program to print the characters from a \n",
    "#string that are present at an even index\n",
    "\n",
    "string=input(\"enter a string:\")\n",
    "l=len(string)\n",
    "for i in range(l):\n",
    "    if(i%2==0):\n",
    "        print(string[i],end=\" \")"
   ]
  },
  {
   "cell_type": "code",
   "execution_count": 9,
   "id": "af36df6f",
   "metadata": {},
   "outputs": [
    {
     "name": "stdout",
     "output_type": "stream",
     "text": [
      "enter a string:sujitha rani\n",
      "u i h   a i "
     ]
    }
   ],
   "source": [
    "#3) Write a python program to print the characters from a \n",
    "#string that are present at an odd index\n",
    "\n",
    "string=input(\"enter a string:\")\n",
    "l=len(string)\n",
    "for i in range(l):\n",
    "    if(i%2!=0):\n",
    "        print(string[i],end=\" \")"
   ]
  },
  {
   "cell_type": "code",
   "execution_count": 11,
   "id": "40541196",
   "metadata": {},
   "outputs": [
    {
     "name": "stdout",
     "output_type": "stream",
     "text": [
      "enter a number2\n",
      "enter another number3\n",
      "dofference:  -1\n"
     ]
    }
   ],
   "source": [
    "#4) Write a python program which will print the sum of the \n",
    "#two numbers if the two numbers are even or it will print the \n",
    "#difference of two numbers\n",
    "\n",
    "num1=int(input(\"enter a number\"))\n",
    "num2=int(input(\"enter another number\"))\n",
    "if(num1%2==0) and (num2%2==0):\n",
    "    print(\"sum: \",num1+num2)\n",
    "else:\n",
    "    print(\"dofference: \",num1-num2)\n"
   ]
  },
  {
   "cell_type": "code",
   "execution_count": 18,
   "id": "cafde68d",
   "metadata": {},
   "outputs": [
    {
     "name": "stdout",
     "output_type": "stream",
     "text": [
      "enter a stringsujiTHarAnii\n",
      "S u J i T h A r A n I i "
     ]
    }
   ],
   "source": [
    "#5) Write a python program to convert all even indexed \n",
    "#alphabets to upper and odd indexed char\n",
    "\n",
    "string=input(\"enter a string\")\n",
    "l=len(string)\n",
    "for i in range(l):\n",
    "    if(i%2==0):\n",
    "        j=string[i]\n",
    "        print(j.upper(),end=\" \")\n",
    "    else:\n",
    "        j=string[i]\n",
    "        print(j.lower(),end=\" \")"
   ]
  },
  {
   "cell_type": "code",
   "execution_count": 20,
   "id": "9c83a165",
   "metadata": {},
   "outputs": [
    {
     "name": "stdout",
     "output_type": "stream",
     "text": [
      "enter a number: 8\n",
      "False\n"
     ]
    }
   ],
   "source": [
    "#6) Write a python program which will print True if the input\n",
    "#number is divisible by 5 or else False\n",
    "\n",
    "num=int(input(\"enter a number: \"))\n",
    "if(num%5==0):\n",
    "    print(True)\n",
    "else:\n",
    "    print(False)"
   ]
  },
  {
   "cell_type": "code",
   "execution_count": 22,
   "id": "67f4ef4c",
   "metadata": {},
   "outputs": [
    {
     "name": "stdout",
     "output_type": "stream",
     "text": [
      "enter num one200\n",
      "enter num two2\n",
      "202\n"
     ]
    }
   ],
   "source": [
    "#7) Given two integer numbers return their product only if the \n",
    "#product is greater than 1000, else return their sum\n",
    "\n",
    "num1=int(input(\"enter num one\"))\n",
    "num2=int(input(\"enter num two\"))\n",
    "if((num1*num2)>1000):\n",
    "    print(num1*num2)\n",
    "else:\n",
    "    print(num1+num2)\n"
   ]
  },
  {
   "cell_type": "code",
   "execution_count": 2,
   "id": "453e7666",
   "metadata": {},
   "outputs": [
    {
     "name": "stdout",
     "output_type": "stream",
     "text": [
      "enter string one: sujitha\n",
      "enter string two: rani\n",
      "srinai\n"
     ]
    }
   ],
   "source": [
    "#8) Given two strings x, y writes a program to return a new \n",
    "#string made of x and y’s first, middle, and last characters\n",
    "\n",
    "\n",
    "str1=input(\"enter string one: \")\n",
    "str2=input(\"enter string two: \")\n",
    "l=len(str1)\n",
    "m=len(str2)\n",
    "print(str1[0]+str2[0]+str1[l//2]+str2[m//2]+str1[-1]+str2[-1])"
   ]
  },
  {
   "cell_type": "code",
   "execution_count": 3,
   "id": "ba591c09",
   "metadata": {},
   "outputs": [
    {
     "name": "stdout",
     "output_type": "stream",
     "text": [
      "sujji\n",
      "name 1 :- sujji\n",
      "python\n",
      "name 2 :- python\n",
      "java\n",
      "name 3 :- java\n"
     ]
    }
   ],
   "source": [
    "#9) Write a python program to take three names as input \n",
    "#from a user in the single input () function call\n",
    "\n",
    "n=3\n",
    "for i in range(1,n+1):\n",
    "    n=input()\n",
    "    print(\"name\",i,\":-\",n)"
   ]
  },
  {
   "cell_type": "code",
   "execution_count": 11,
   "id": "01bc198b",
   "metadata": {},
   "outputs": [
    {
     "name": "stdout",
     "output_type": "stream",
     "text": [
      "enter the string: sujitha rani sis a super sujji ssperr\n",
      "sujitha rani @i@ a @uper @ujji @@perr\n"
     ]
    }
   ],
   "source": [
    "#10) Write a Python program to get a string from a given \n",
    "#string where all occurrences of its first char have been \n",
    "#changed to '@', except the first char itself.\n",
    "\n",
    "string=input(\"enter the string: \")\n",
    "a=string[0]\n",
    "res=string[0]+string[1:].replace(string[0],\"@\")\n",
    "print(res)"
   ]
  },
  {
   "cell_type": "code",
   "execution_count": 8,
   "id": "68f33e5b",
   "metadata": {},
   "outputs": [
    {
     "name": "stdout",
     "output_type": "stream",
     "text": [
      "enter a stringsi\n",
      "si\n"
     ]
    }
   ],
   "source": [
    "#11) Write a Python program to add 'ing' at the end of a given \n",
    "#string (string length should be equal to or more than 3). If \n",
    "#the given string already ends with 'ing' then add 'ly' instead. \n",
    "#If the string length of the given string is less than 3, leave it \n",
    "#unchanged\n",
    "\n",
    "string=input(\"enter a string\")\n",
    "if(string.endswith(\"ing\") and len(string)>4):\n",
    "    print(string[0:-4]+string[-4:].replace(\"ing\",\"ly\"))\n",
    "elif(len(string)<3):\n",
    "    print(string)\n",
    "else:\n",
    "    print(string+\"ing\")\n",
    "    "
   ]
  },
  {
   "cell_type": "code",
   "execution_count": 11,
   "id": "6158eecc",
   "metadata": {},
   "outputs": [
    {
     "name": "stdout",
     "output_type": "stream",
     "text": [
      "enter num1: 2\n",
      "enter num2: 10\n",
      "True\n"
     ]
    }
   ],
   "source": [
    "#12) Write a python program that accepts two inputs num1 and \n",
    "#num2 print True if one of them is 10 or if their sum is 10\n",
    "#otherwise print False\n",
    "\n",
    "num1=int(input(\"enter num1: \"))\n",
    "num2=int(input(\"enter num2: \"))\n",
    "if(num1==10) or (num2==10) or (num1+num2==10):\n",
    "    print(\"True\")\n",
    "else:\n",
    "    print(\"False\")"
   ]
  },
  {
   "cell_type": "code",
   "execution_count": 15,
   "id": "8cb71bb4",
   "metadata": {},
   "outputs": [
    {
     "name": "stdout",
     "output_type": "stream",
     "text": [
      "enter num one: 3\n",
      "enter num two: 5\n",
      "enter num three check: 5\n",
      "True\n"
     ]
    }
   ],
   "source": [
    "#13) Write a python program that accepts three inputs x, y and \n",
    "#z print True if x*y>z otherwise False\n",
    "\n",
    "x=int(input(\"enter num one: \"))\n",
    "y=int(input(\"enter num two: \"))\n",
    "z=int(input(\"enter num three check: \"))\n",
    "if(x*y>z):\n",
    "    print(\"True\")\n",
    "else:\n",
    "    print(\"False\")"
   ]
  },
  {
   "cell_type": "code",
   "execution_count": 17,
   "id": "e4f5f871",
   "metadata": {},
   "outputs": [
    {
     "name": "stdout",
     "output_type": "stream",
     "text": [
      "sujji\n",
      "sujjji\n",
      "False\n"
     ]
    }
   ],
   "source": [
    "#14) Write a python program that accepts two strings inputs \n",
    "#return True depending on whether the total number of \n",
    "#characters in the first string is equal to the total number of \n",
    "#characters in the second string\n",
    "\n",
    "str1=input()\n",
    "str2=input()\n",
    "if(len(str1)==len(str2)):\n",
    "    print(True)\n",
    "else:\n",
    "    print(False)"
   ]
  },
  {
   "cell_type": "code",
   "execution_count": 19,
   "id": "f3bcc757",
   "metadata": {},
   "outputs": [
    {
     "name": "stdout",
     "output_type": "stream",
     "text": [
      "enter a stringsuji\n",
      "suj\n",
      "suj\n",
      "suj\n"
     ]
    }
   ],
   "source": [
    "#15) Write a python program that takes a string input, we'll say \n",
    "#that the front is the first three characters of the string. If the \n",
    "#string length is less than three characters, the front is \n",
    "#whatever is there. Return a new string, which is three copies \n",
    "#of the front\n",
    "\n",
    "string=input(\"enter a string\")\n",
    "if(len(string)<3):\n",
    "    print(string)\n",
    "else:\n",
    "    for i in range(3):\n",
    "        print(string[:3])\n"
   ]
  },
  {
   "cell_type": "code",
   "execution_count": 21,
   "id": "9fe43e5c",
   "metadata": {},
   "outputs": [
    {
     "name": "stdout",
     "output_type": "stream",
     "text": [
      "enter a string: pencils\n",
      "plural\n"
     ]
    }
   ],
   "source": [
    "#16) Write a python program that takes in a word and \n",
    "#determines whether or not it is plural. A plural word is one \n",
    "#that ends in \"s\".\n",
    "\n",
    "string=input(\"enter a string: \")\n",
    "if(string.endswith(\"s\")):\n",
    "    print(\"plural\")\n",
    "else:\n",
    "    print(\"singular\")"
   ]
  },
  {
   "cell_type": "code",
   "execution_count": 3,
   "id": "651e5fe0",
   "metadata": {},
   "outputs": [
    {
     "name": "stdout",
     "output_type": "stream",
     "text": [
      "enter the persons age: 18\n",
      "enter true or falsefalse\n",
      "he couldn't serve drinks\n"
     ]
    }
   ],
   "source": [
    "#17) A bartender is writing a simple program to determine whether he should serve drinks to someone. He only serves \n",
    "#drinks to people 18 and older and when he's not on break (True means break and False means not a break time). Given \n",
    "#the person's age, and whether break time is in session, create a python program which prints whether he should serve \n",
    "#drinks or not.\n",
    "\n",
    "age=int(input(\"enter the persons age: \"))\n",
    "i=input(\"enter true or false\")\n",
    "if(age>=18) and (i==\"true\"):\n",
    "    print(\"he could serve drinks \")\n",
    "else:\n",
    "    print(\"he couldn't serve drinks\")"
   ]
  },
  {
   "cell_type": "code",
   "execution_count": 37,
   "id": "3804d0bb",
   "metadata": {},
   "outputs": [
    {
     "name": "stdout",
     "output_type": "stream",
     "text": [
      "my father name is shiva \n",
      "my mother name is  letha \n",
      "my brother name is  tarun \n",
      "my sister name is  kavitha\n"
     ]
    }
   ],
   "source": [
    "#18) Manoj Kumar has family and friends. Help him remind \n",
    "#them who is who. Given a string with a name, return the \n",
    "#relation of that person to Manoj Kumar.\n",
    "\n",
    "names=(\"shiva\",\"letha\",\"tarun\",\"kavitha\")\n",
    "father,mother,brother,sister=names\n",
    "print(\"my father name is\",father,\"\\nmy mother name is \",mother,\"\\nmy brother name is \",brother,\"\\nmy sister name is \",sister)"
   ]
  },
  {
   "cell_type": "code",
   "execution_count": 39,
   "id": "1b368778",
   "metadata": {},
   "outputs": [
    {
     "name": "stdout",
     "output_type": "stream",
     "text": [
      "enter a stringsujitha rano\n",
      "uiaaosjth rn\n"
     ]
    }
   ],
   "source": [
    "#19) Write a python program that takes a string, breaks it up and returns it with vowels first, consonants second. For any \n",
    "#character that's not a vowel (like special characters or spaces), treat them like consonants.\n",
    "\n",
    "string=input(\"enter a string: \")\n",
    "vovels=\"\"\n",
    "consonants=\"\"\n",
    "for i in string:\n",
    "    if (i.lower()==\"a\") or (i.lower()==\"e\") or (i.lower()==\"i\") or (i.lower()==\"o\") or (i.lower()==\"u\"):\n",
    "        vovels+=i\n",
    "    else:\n",
    "        consonants+=i\n",
    "print(vovels+consonants)"
   ]
  },
  {
   "cell_type": "code",
   "execution_count": 51,
   "id": "5ae2f826",
   "metadata": {},
   "outputs": [
    {
     "name": "stdout",
     "output_type": "stream",
     "text": [
      "enter a number: 2\n",
      "enter the operator +,-,//,*,**,%: %\n",
      "enter num two5\n",
      "remainder of  2 and 5  is  2\n"
     ]
    }
   ],
   "source": [
    "#20) Create a dynamic calculator which asks for numbers and operator and return the answers\n",
    "\n",
    "num1=int(input(\"enter a number: \"))\n",
    "operator=input(\"enter the operator +,-,//,*,**,%: \")\n",
    "num2=int(input(\"enter num two\"))\n",
    "if (operator==\"+\"):\n",
    "    print(\"sum of \",num1,\"and\",num2,\" is \",num1+num2)\n",
    "elif (operator==\"-\"):\n",
    "    print(\"difference between \",num1,\"and\",num2,\" is \",num1-num2)\n",
    "elif (operator==\"//\"):\n",
    "    print(\"floor value of \",num1,\"and\",num2,\" is \",num1//num2)\n",
    "elif (operator==\"**\"):\n",
    "    print(num2,\"to the power of\",num1,\" is \",num1**num2)\n",
    "elif (operator==\"*\"):\n",
    "    print(\"product of \",num1,\"and\",num2,\" is \",num1*num2)\n",
    "if (operator==\"%\"):\n",
    "    print(\"remainder of \",num1,\"and\",num2,\" is \",num1%num2)\n",
    "    "
   ]
  },
  {
   "cell_type": "code",
   "execution_count": null,
   "id": "e0f2baf5",
   "metadata": {},
   "outputs": [],
   "source": []
  }
 ],
 "metadata": {
  "kernelspec": {
   "display_name": "Python 3 (ipykernel)",
   "language": "python",
   "name": "python3"
  },
  "language_info": {
   "codemirror_mode": {
    "name": "ipython",
    "version": 3
   },
   "file_extension": ".py",
   "mimetype": "text/x-python",
   "name": "python",
   "nbconvert_exporter": "python",
   "pygments_lexer": "ipython3",
   "version": "3.11.3"
  }
 },
 "nbformat": 4,
 "nbformat_minor": 5
}

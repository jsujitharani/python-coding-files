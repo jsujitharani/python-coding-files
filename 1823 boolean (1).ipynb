{
 "cells": [
  {
   "cell_type": "code",
   "execution_count": 1,
   "id": "15972d5a",
   "metadata": {},
   "outputs": [],
   "source": [
    "x=0\n",
    "x1=0.0\n",
    "x2=0.0j"
   ]
  },
  {
   "cell_type": "code",
   "execution_count": 2,
   "id": "7a9adf7f",
   "metadata": {},
   "outputs": [
    {
     "data": {
      "text/plain": [
       "False"
      ]
     },
     "execution_count": 2,
     "metadata": {},
     "output_type": "execute_result"
    }
   ],
   "source": [
    "bool(x)"
   ]
  },
  {
   "cell_type": "code",
   "execution_count": 3,
   "id": "c66203f9",
   "metadata": {},
   "outputs": [
    {
     "data": {
      "text/plain": [
       "False"
      ]
     },
     "execution_count": 3,
     "metadata": {},
     "output_type": "execute_result"
    }
   ],
   "source": [
    "bool(x1)"
   ]
  },
  {
   "cell_type": "code",
   "execution_count": 4,
   "id": "509a6548",
   "metadata": {},
   "outputs": [
    {
     "data": {
      "text/plain": [
       "False"
      ]
     },
     "execution_count": 4,
     "metadata": {},
     "output_type": "execute_result"
    }
   ],
   "source": [
    "bool(x2)"
   ]
  },
  {
   "cell_type": "code",
   "execution_count": 5,
   "id": "dec78634",
   "metadata": {},
   "outputs": [
    {
     "data": {
      "text/plain": [
       "False"
      ]
     },
     "execution_count": 5,
     "metadata": {},
     "output_type": "execute_result"
    }
   ],
   "source": [
    "bool(None)"
   ]
  },
  {
   "cell_type": "code",
   "execution_count": 6,
   "id": "38d64049",
   "metadata": {},
   "outputs": [
    {
     "data": {
      "text/plain": [
       "False"
      ]
     },
     "execution_count": 6,
     "metadata": {},
     "output_type": "execute_result"
    }
   ],
   "source": [
    "bool(False)"
   ]
  },
  {
   "cell_type": "code",
   "execution_count": 7,
   "id": "8d5c8a01",
   "metadata": {},
   "outputs": [
    {
     "data": {
      "text/plain": [
       "False"
      ]
     },
     "execution_count": 7,
     "metadata": {},
     "output_type": "execute_result"
    }
   ],
   "source": [
    "bool(\"\")"
   ]
  },
  {
   "cell_type": "code",
   "execution_count": 8,
   "id": "ed4ebb80",
   "metadata": {},
   "outputs": [
    {
     "data": {
      "text/plain": [
       "True"
      ]
     },
     "execution_count": 8,
     "metadata": {},
     "output_type": "execute_result"
    }
   ],
   "source": [
    "bool(\" \")"
   ]
  },
  {
   "cell_type": "code",
   "execution_count": 14,
   "id": "ce07168c",
   "metadata": {},
   "outputs": [],
   "source": [
    "a=2\n",
    "b=10"
   ]
  },
  {
   "cell_type": "code",
   "execution_count": 15,
   "id": "0896b7fe",
   "metadata": {},
   "outputs": [
    {
     "data": {
      "text/plain": [
       "12"
      ]
     },
     "execution_count": 15,
     "metadata": {},
     "output_type": "execute_result"
    }
   ],
   "source": [
    "a+b"
   ]
  },
  {
   "cell_type": "code",
   "execution_count": 16,
   "id": "fcd840b7",
   "metadata": {},
   "outputs": [
    {
     "data": {
      "text/plain": [
       "-8"
      ]
     },
     "execution_count": 16,
     "metadata": {},
     "output_type": "execute_result"
    }
   ],
   "source": [
    "a-b"
   ]
  },
  {
   "cell_type": "code",
   "execution_count": 17,
   "id": "0ab18f8d",
   "metadata": {},
   "outputs": [
    {
     "data": {
      "text/plain": [
       "20"
      ]
     },
     "execution_count": 17,
     "metadata": {},
     "output_type": "execute_result"
    }
   ],
   "source": [
    "a*b"
   ]
  },
  {
   "cell_type": "code",
   "execution_count": 18,
   "id": "f9fdd8d5",
   "metadata": {},
   "outputs": [
    {
     "data": {
      "text/plain": [
       "1024"
      ]
     },
     "execution_count": 18,
     "metadata": {},
     "output_type": "execute_result"
    }
   ],
   "source": [
    "a**b"
   ]
  },
  {
   "cell_type": "code",
   "execution_count": 22,
   "id": "85e46ab7",
   "metadata": {},
   "outputs": [
    {
     "name": "stdout",
     "output_type": "stream",
     "text": [
      "2\n",
      "10\n",
      "sum of 2 and 10 is 12\n",
      "diference between 2 and 10 is -8\n",
      "multiplication of 2 and 10 is 20\n",
      "division between 2 and 10 is 0.2\n",
      "remainder of 2 and 10 is 2\n",
      "co-efficient of 2 and 10 is 0\n",
      "power of 2**10 is 1024\n"
     ]
    }
   ],
   "source": [
    "a=int(input())\n",
    "b=int(input())\n",
    "print(\"sum of {} and {} is {}\".format(a,b,a+b))\n",
    "print(\"diference between {} and {} is {}\".format(a,b,a-b))\n",
    "print(\"multiplication of {} and {} is {}\".format(a,b,a*b))\n",
    "print(\"division between {} and {} is {}\".format(a,b,a/b))\n",
    "print(\"remainder of {} and {} is {}\".format(a,b,a%b))\n",
    "print(\"co-efficient of {} and {} is {}\".format(a,b,a//b))\n",
    "print(\"power of {}**{} is {}\".format(a,b,a**b))"
   ]
  },
  {
   "cell_type": "code",
   "execution_count": 20,
   "id": "011d3fa0",
   "metadata": {},
   "outputs": [
    {
     "data": {
      "text/plain": [
       "2"
      ]
     },
     "execution_count": 20,
     "metadata": {},
     "output_type": "execute_result"
    }
   ],
   "source": [
    "2%10"
   ]
  },
  {
   "cell_type": "code",
   "execution_count": 21,
   "id": "2e56f02b",
   "metadata": {},
   "outputs": [
    {
     "data": {
      "text/plain": [
       "0"
      ]
     },
     "execution_count": 21,
     "metadata": {},
     "output_type": "execute_result"
    }
   ],
   "source": [
    "10%2"
   ]
  },
  {
   "cell_type": "code",
   "execution_count": 26,
   "id": "d2ad957a",
   "metadata": {},
   "outputs": [],
   "source": [
    "x=10"
   ]
  },
  {
   "cell_type": "code",
   "execution_count": 27,
   "id": "dfcfa785",
   "metadata": {},
   "outputs": [],
   "source": [
    "x+=10"
   ]
  },
  {
   "cell_type": "code",
   "execution_count": 28,
   "id": "27c1797d",
   "metadata": {},
   "outputs": [
    {
     "data": {
      "text/plain": [
       "20"
      ]
     },
     "execution_count": 28,
     "metadata": {},
     "output_type": "execute_result"
    }
   ],
   "source": [
    "x"
   ]
  },
  {
   "cell_type": "code",
   "execution_count": 29,
   "id": "af4eb39a",
   "metadata": {},
   "outputs": [
    {
     "ename": "SyntaxError",
     "evalue": "invalid syntax (906922286.py, line 2)",
     "output_type": "error",
     "traceback": [
      "\u001b[1;36m  Cell \u001b[1;32mIn[29], line 2\u001b[1;36m\u001b[0m\n\u001b[1;33m    print(x+=10)\u001b[0m\n\u001b[1;37m           ^\u001b[0m\n\u001b[1;31mSyntaxError\u001b[0m\u001b[1;31m:\u001b[0m invalid syntax\n"
     ]
    }
   ],
   "source": [
    "x=10\n",
    "print(x+=10)\n",
    "print(x-=10)\n",
    "print(x*=10)\n",
    "print(x/=10)\n",
    "print(x**=10)\n",
    "print(x//=10)\n",
    "print(x%=10)"
   ]
  },
  {
   "cell_type": "code",
   "execution_count": 32,
   "id": "9e2ebaf0",
   "metadata": {},
   "outputs": [],
   "source": [
    "x=10\n",
    "x+=20"
   ]
  },
  {
   "cell_type": "code",
   "execution_count": 33,
   "id": "b6d728b1",
   "metadata": {},
   "outputs": [
    {
     "data": {
      "text/plain": [
       "30"
      ]
     },
     "execution_count": 33,
     "metadata": {},
     "output_type": "execute_result"
    }
   ],
   "source": [
    "x"
   ]
  },
  {
   "cell_type": "code",
   "execution_count": 34,
   "id": "8ce98734",
   "metadata": {},
   "outputs": [],
   "source": [
    "x-=10"
   ]
  },
  {
   "cell_type": "code",
   "execution_count": 35,
   "id": "59edca6a",
   "metadata": {},
   "outputs": [
    {
     "data": {
      "text/plain": [
       "20"
      ]
     },
     "execution_count": 35,
     "metadata": {},
     "output_type": "execute_result"
    }
   ],
   "source": [
    "x"
   ]
  },
  {
   "cell_type": "code",
   "execution_count": 36,
   "id": "5b2a8819",
   "metadata": {},
   "outputs": [],
   "source": [
    "x*=10"
   ]
  },
  {
   "cell_type": "code",
   "execution_count": 37,
   "id": "f2a89729",
   "metadata": {},
   "outputs": [
    {
     "data": {
      "text/plain": [
       "200"
      ]
     },
     "execution_count": 37,
     "metadata": {},
     "output_type": "execute_result"
    }
   ],
   "source": [
    "x"
   ]
  },
  {
   "cell_type": "code",
   "execution_count": 38,
   "id": "a2ead93c",
   "metadata": {},
   "outputs": [],
   "source": [
    "x/=10"
   ]
  },
  {
   "cell_type": "code",
   "execution_count": 39,
   "id": "2b4cdd38",
   "metadata": {},
   "outputs": [
    {
     "data": {
      "text/plain": [
       "20.0"
      ]
     },
     "execution_count": 39,
     "metadata": {},
     "output_type": "execute_result"
    }
   ],
   "source": [
    "x"
   ]
  },
  {
   "cell_type": "code",
   "execution_count": 40,
   "id": "44243fb8",
   "metadata": {},
   "outputs": [],
   "source": [
    "x**=10"
   ]
  },
  {
   "cell_type": "code",
   "execution_count": 41,
   "id": "9ab02d0a",
   "metadata": {},
   "outputs": [
    {
     "data": {
      "text/plain": [
       "10240000000000.0"
      ]
     },
     "execution_count": 41,
     "metadata": {},
     "output_type": "execute_result"
    }
   ],
   "source": [
    "x"
   ]
  },
  {
   "cell_type": "code",
   "execution_count": 42,
   "id": "2fc5ac44",
   "metadata": {},
   "outputs": [],
   "source": [
    "x//=10"
   ]
  },
  {
   "cell_type": "code",
   "execution_count": 43,
   "id": "145c0eea",
   "metadata": {},
   "outputs": [
    {
     "data": {
      "text/plain": [
       "1024000000000.0"
      ]
     },
     "execution_count": 43,
     "metadata": {},
     "output_type": "execute_result"
    }
   ],
   "source": [
    "x"
   ]
  },
  {
   "cell_type": "code",
   "execution_count": 44,
   "id": "d295823c",
   "metadata": {},
   "outputs": [],
   "source": [
    "x=10 # i assigned 10 to x variable\n"
   ]
  },
  {
   "cell_type": "code",
   "execution_count": 45,
   "id": "bff292ec",
   "metadata": {},
   "outputs": [
    {
     "data": {
      "text/plain": [
       "False"
      ]
     },
     "execution_count": 45,
     "metadata": {},
     "output_type": "execute_result"
    }
   ],
   "source": [
    "x>10"
   ]
  },
  {
   "cell_type": "code",
   "execution_count": 46,
   "id": "37f07fa4",
   "metadata": {},
   "outputs": [
    {
     "data": {
      "text/plain": [
       "False"
      ]
     },
     "execution_count": 46,
     "metadata": {},
     "output_type": "execute_result"
    }
   ],
   "source": [
    "x<10"
   ]
  },
  {
   "cell_type": "code",
   "execution_count": 47,
   "id": "e836f31b",
   "metadata": {},
   "outputs": [
    {
     "data": {
      "text/plain": [
       "True"
      ]
     },
     "execution_count": 47,
     "metadata": {},
     "output_type": "execute_result"
    }
   ],
   "source": [
    "x>=10"
   ]
  },
  {
   "cell_type": "code",
   "execution_count": 48,
   "id": "2dae59f3",
   "metadata": {},
   "outputs": [
    {
     "data": {
      "text/plain": [
       "True"
      ]
     },
     "execution_count": 48,
     "metadata": {},
     "output_type": "execute_result"
    }
   ],
   "source": [
    "x<=12"
   ]
  },
  {
   "cell_type": "code",
   "execution_count": 49,
   "id": "de9c44e3",
   "metadata": {},
   "outputs": [
    {
     "data": {
      "text/plain": [
       "True"
      ]
     },
     "execution_count": 49,
     "metadata": {},
     "output_type": "execute_result"
    }
   ],
   "source": [
    "x==10"
   ]
  },
  {
   "cell_type": "code",
   "execution_count": 50,
   "id": "29744c8e",
   "metadata": {},
   "outputs": [
    {
     "data": {
      "text/plain": [
       "True"
      ]
     },
     "execution_count": 50,
     "metadata": {},
     "output_type": "execute_result"
    }
   ],
   "source": [
    "x==10 and x<=12"
   ]
  },
  {
   "cell_type": "code",
   "execution_count": 51,
   "id": "d6e4eafd",
   "metadata": {},
   "outputs": [
    {
     "data": {
      "text/plain": [
       "True"
      ]
     },
     "execution_count": 51,
     "metadata": {},
     "output_type": "execute_result"
    }
   ],
   "source": [
    "x==10 or x>10"
   ]
  },
  {
   "cell_type": "code",
   "execution_count": 52,
   "id": "c87b7da2",
   "metadata": {},
   "outputs": [
    {
     "data": {
      "text/plain": [
       "False"
      ]
     },
     "execution_count": 52,
     "metadata": {},
     "output_type": "execute_result"
    }
   ],
   "source": [
    "not((x==10) and (x<=10))"
   ]
  },
  {
   "cell_type": "code",
   "execution_count": 53,
   "id": "75340239",
   "metadata": {},
   "outputs": [
    {
     "data": {
      "text/plain": [
       "False"
      ]
     },
     "execution_count": 53,
     "metadata": {},
     "output_type": "execute_result"
    }
   ],
   "source": [
    "x!=10"
   ]
  },
  {
   "cell_type": "code",
   "execution_count": 54,
   "id": "7ac71114",
   "metadata": {},
   "outputs": [],
   "source": [
    "x=[1,2]\n",
    "y=[1,2]"
   ]
  },
  {
   "cell_type": "code",
   "execution_count": 55,
   "id": "bfc69d8d",
   "metadata": {},
   "outputs": [
    {
     "data": {
      "text/plain": [
       "True"
      ]
     },
     "execution_count": 55,
     "metadata": {},
     "output_type": "execute_result"
    }
   ],
   "source": [
    "x==y"
   ]
  },
  {
   "cell_type": "code",
   "execution_count": 56,
   "id": "d924873a",
   "metadata": {},
   "outputs": [
    {
     "data": {
      "text/plain": [
       "False"
      ]
     },
     "execution_count": 56,
     "metadata": {},
     "output_type": "execute_result"
    }
   ],
   "source": [
    "x is y"
   ]
  },
  {
   "cell_type": "code",
   "execution_count": 57,
   "id": "5c1893e2",
   "metadata": {},
   "outputs": [
    {
     "data": {
      "text/plain": [
       "2396023030976"
      ]
     },
     "execution_count": 57,
     "metadata": {},
     "output_type": "execute_result"
    }
   ],
   "source": [
    "id(x)"
   ]
  },
  {
   "cell_type": "code",
   "execution_count": 58,
   "id": "d8ec7545",
   "metadata": {},
   "outputs": [
    {
     "data": {
      "text/plain": [
       "2396023734976"
      ]
     },
     "execution_count": 58,
     "metadata": {},
     "output_type": "execute_result"
    }
   ],
   "source": [
    "id(y)"
   ]
  },
  {
   "cell_type": "code",
   "execution_count": null,
   "id": "94f576e0",
   "metadata": {},
   "outputs": [],
   "source": []
  }
 ],
 "metadata": {
  "kernelspec": {
   "display_name": "Python 3 (ipykernel)",
   "language": "python",
   "name": "python3"
  },
  "language_info": {
   "codemirror_mode": {
    "name": "ipython",
    "version": 3
   },
   "file_extension": ".py",
   "mimetype": "text/x-python",
   "name": "python",
   "nbconvert_exporter": "python",
   "pygments_lexer": "ipython3",
   "version": "3.11.3"
  }
 },
 "nbformat": 4,
 "nbformat_minor": 5
}

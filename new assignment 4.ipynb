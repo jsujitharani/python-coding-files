{
 "cells": [
  {
   "cell_type": "code",
   "execution_count": 3,
   "id": "cb32dc56",
   "metadata": {},
   "outputs": [
    {
     "name": "stdout",
     "output_type": "stream",
     "text": [
      "enter the range: 4\n",
      "enter the numbers: 1\n",
      "enter the numbers: 2\n",
      "enter the numbers: 3\n",
      "enter the numbers: 4\n",
      "[1, 2, 3, 4]\n",
      "1\n",
      "2\n",
      "3\n",
      "4\n"
     ]
    }
   ],
   "source": [
    "#1. Write a Python program to loop through all the elements in a list.\n",
    "\n",
    "l=[]\n",
    "n=int(input(\"enter the range: \"))\n",
    "for i in range(n):\n",
    "    num=input(\"enter the numbers: \")\n",
    "    if(num.isdigit()):\n",
    "        num=int(num)\n",
    "        l.append(num)\n",
    "    else:\n",
    "        l.append(num)\n",
    "print(l)\n",
    "for i in l:\n",
    "    print(i)"
   ]
  },
  {
   "cell_type": "code",
   "execution_count": 4,
   "id": "1f1bccd2",
   "metadata": {},
   "outputs": [
    {
     "name": "stdout",
     "output_type": "stream",
     "text": [
      "enter the range: 5\n",
      "enter the numbers: 1\n",
      "enter the numbers: 3\n",
      "enter the numbers: 2\n",
      "enter the numbers: 4\n",
      "enter the numbers: 6\n",
      "[1, 3, 2, 4, 6]\n"
     ]
    }
   ],
   "source": [
    "#2.Write a Python program where you will ask the users to insert elements in a list\n",
    "l=[]\n",
    "n=int(input(\"enter the range: \"))\n",
    "for i in range(n):\n",
    "    num=input(\"enter the numbers: \")\n",
    "    if(num.isdigit()):\n",
    "        num=int(num)\n",
    "        l.append(num)\n",
    "    else:\n",
    "        l.append(num)\n",
    "print(l)"
   ]
  },
  {
   "cell_type": "code",
   "execution_count": 7,
   "id": "405d4984",
   "metadata": {},
   "outputs": [
    {
     "name": "stdout",
     "output_type": "stream",
     "text": [
      "enter the range: 3\n",
      "enter the numbers: 1\n",
      "enter the numbers: 2\n",
      "enter the numbers: 3\n",
      "[1, 2, 3]\n",
      "1\n",
      "3\n"
     ]
    }
   ],
   "source": [
    "#3.Write a Python program to remove all the odd index value from a list and only even index elements should remain\n",
    "\n",
    "l=[]\n",
    "n=int(input(\"enter the range: \"))\n",
    "for i in range(n):\n",
    "    num=input(\"enter the numbers: \")\n",
    "    if(num.isdigit()):\n",
    "        num=int(num)\n",
    "        l.append(num)\n",
    "    else:\n",
    "        l.append(num)\n",
    "print(l)\n",
    "for i in l:\n",
    "    if(l.index(i)%2==0):\n",
    "        print(i)"
   ]
  },
  {
   "cell_type": "code",
   "execution_count": 27,
   "id": "fe18d273",
   "metadata": {},
   "outputs": [
    {
     "name": "stdout",
     "output_type": "stream",
     "text": [
      "enter the range: 4\n",
      "enter the numbers: 1\n",
      "enter the numbers: 2\n",
      "enter the numbers: 3\n",
      "enter the numbers: 4\n",
      "[1, 2, 3, 4]\n",
      "10\n",
      "24\n"
     ]
    }
   ],
   "source": [
    "#4.Write a Python program to sum and multiply all the items in a list.\n",
    "\n",
    "l=[]\n",
    "n=int(input(\"enter the range: \"))\n",
    "for i in range(n):\n",
    "    num=input(\"enter the numbers: \")\n",
    "    if(num.isdigit()):\n",
    "        num=int(num)\n",
    "        l.append(num)\n",
    "    else:\n",
    "        l.append(num)\n",
    "print(l)\n",
    "s=0\n",
    "product=1\n",
    "for i in l:\n",
    "    s+=i\n",
    "    product*=i\n",
    "print(s)\n",
    "print(product)"
   ]
  },
  {
   "cell_type": "code",
   "execution_count": 5,
   "id": "ace9820f",
   "metadata": {},
   "outputs": [
    {
     "name": "stdout",
     "output_type": "stream",
     "text": [
      "enter the range: 6\n",
      "enter the numbers: 34\n",
      "enter the numbers: 23\n",
      "enter the numbers: 45\n",
      "enter the numbers: 321\n",
      "enter the numbers: 56\n",
      "enter the numbers: 3\n",
      "[34, 23, 45, 321, 56, 3]\n",
      "321\n",
      "3\n"
     ]
    }
   ],
   "source": [
    "#5. Write a Python program to get the maximum and minimum numbers from a list.\n",
    "\n",
    "l=[]\n",
    "n=int(input(\"enter the range: \"))\n",
    "for i in range(n):\n",
    "    num=input(\"enter the numbers: \")\n",
    "    if(num.isdigit()):\n",
    "        num=int(num)\n",
    "        l.append(num)\n",
    "    else:\n",
    "        l.append(num)\n",
    "print(l)\n",
    "print(max(l))\n",
    "print(min(l))"
   ]
  },
  {
   "cell_type": "code",
   "execution_count": 7,
   "id": "cbac27d5",
   "metadata": {},
   "outputs": [
    {
     "name": "stdout",
     "output_type": "stream",
     "text": [
      "['sujji', 'bharghhavi', 'kathyayani', 'harshitha', 'nithya', 'jayanth', 'shalini', 'sai']\n",
      "['sujji', 'nithya', 'jayanth']\n"
     ]
    }
   ],
   "source": [
    "# 6. Write a Python program to print a specified list after removing the 0th, 4th and 5th elements.\n",
    "\n",
    "l=[\"sujji\",\"bharghhavi\",\"kathyayani\",\"harshitha\",\"nithya\",\"jayanth\",\"shalini\",\"sai\"]\n",
    "length=len(l)\n",
    "n=[]\n",
    "for i in range(length):\n",
    "    if(i==0) or (i==4) or (i==5):\n",
    "        n.append(l[i])\n",
    "print(l)\n",
    "print(n)\n"
   ]
  },
  {
   "cell_type": "code",
   "execution_count": 30,
   "id": "d6abe604",
   "metadata": {},
   "outputs": [
    {
     "name": "stdout",
     "output_type": "stream",
     "text": [
      "enter the range: 4\n",
      "enter the numbers: 1\n",
      "enter the numbers: 2\n",
      "enter the numbers: suj\n",
      "enter the numbers: 4\n",
      "[1, 2, 'suj', 4]\n",
      "12suj4\n"
     ]
    }
   ],
   "source": [
    "#7. Write a Python program to convert a list of characters into a string\n",
    "\n",
    "\n",
    "l=[]\n",
    "n=int(input(\"enter the range: \"))\n",
    "for i in range(n):\n",
    "    num=input(\"enter the numbers: \")\n",
    "    if(num.isdigit()):\n",
    "        num=int(num)\n",
    "        l.append(num)\n",
    "    else:\n",
    "        l.append(num)\n",
    "print(l)\n",
    "s=\"\"\n",
    "for i in l:\n",
    "    s=s+str(i)\n",
    "print(s)"
   ]
  },
  {
   "cell_type": "code",
   "execution_count": 20,
   "id": "73aae493",
   "metadata": {},
   "outputs": [
    {
     "data": {
      "text/plain": [
       "str"
      ]
     },
     "execution_count": 20,
     "metadata": {},
     "output_type": "execute_result"
    }
   ],
   "source": [
    "type(s)"
   ]
  },
  {
   "cell_type": "code",
   "execution_count": 26,
   "id": "efc9604c",
   "metadata": {},
   "outputs": [
    {
     "name": "stdout",
     "output_type": "stream",
     "text": [
      "enter the range: 4\n",
      "enter the numbers: 1\n",
      "enter the numbers: 2\n",
      "enter the numbers: 3\n",
      "enter the numbers: 4\n",
      "[1, 2, 3, 4]\n",
      "2.5\n"
     ]
    }
   ],
   "source": [
    "#8. Write a Python program to compute average of given lists.\n",
    "\n",
    "l=[]\n",
    "n=int(input(\"enter the range: \"))\n",
    "for i in range(n):\n",
    "    num=input(\"enter the numbers: \")\n",
    "    if(num.isdigit()):\n",
    "        num=int(num)\n",
    "        l.append(num)\n",
    "    else:\n",
    "        l.append(num)\n",
    "print(l)\n",
    "s=0\n",
    "avg=0\n",
    "length=len(l)\n",
    "for i in l:\n",
    "    s=s+i\n",
    "avg=s/length\n",
    "print(avg)\n"
   ]
  },
  {
   "cell_type": "code",
   "execution_count": 38,
   "id": "e534313a",
   "metadata": {},
   "outputs": [
    {
     "name": "stdout",
     "output_type": "stream",
     "text": [
      "enter the range: 4\n",
      "enter the numbers: 1\n",
      "enter the numbers: s\n",
      "enter the numbers: d\n",
      "enter the numbers: 4\n",
      "[1, 's', 'd', 4]\n",
      "2\n"
     ]
    }
   ],
   "source": [
    "#9. Write a Python program to count integer in a given mixed list.\n",
    "\n",
    "l=[]\n",
    "n=int(input(\"enter the range: \"))\n",
    "for i in range(n):\n",
    "    num=input(\"enter the numbers: \")\n",
    "    if(num.isdigit()):\n",
    "        num=int(num)\n",
    "        l.append(num)\n",
    "    else:\n",
    "        l.append(num)\n",
    "print(l)\n",
    "count=0\n",
    "for i in str(l):\n",
    "    if(i.isdigit()):\n",
    "        count+=1\n",
    "print(count)"
   ]
  },
  {
   "cell_type": "code",
   "execution_count": 6,
   "id": "3087a411",
   "metadata": {},
   "outputs": [
    {
     "name": "stdout",
     "output_type": "stream",
     "text": [
      "enter the range: 4\n",
      "enter the numbers: wer\n",
      "enter the numbers: 2\n",
      "enter the numbers: qw\n",
      "enter the numbers: 23\n",
      "['wer', 2, 'qw', 23]\n",
      "[23, 'qw', 2, 'wer']\n"
     ]
    }
   ],
   "source": [
    "#10. Write a Python program to reverse the list.\n",
    "\n",
    "\n",
    "l=[]\n",
    "n=int(input(\"enter the range: \"))\n",
    "for i in range(n):\n",
    "    num=input(\"enter the numbers: \")\n",
    "    if(num.isdigit()):\n",
    "        num=int(num)\n",
    "        l.append(num)\n",
    "    else:\n",
    "        l.append(num)\n",
    "print(l)\n",
    "l.reverse()\n",
    "print(l)"
   ]
  },
  {
   "cell_type": "code",
   "execution_count": 1,
   "id": "1ee00506",
   "metadata": {},
   "outputs": [
    {
     "name": "stdout",
     "output_type": "stream",
     "text": [
      "enter your stringsujitha rani\n",
      "('s', 'u', 'j', 'i', 't', 'h', 'a', ' ', 'r', 'a', 'n', 'i')\n"
     ]
    }
   ],
   "source": [
    "#11. Write a Python program convert a given string to a tuple.\n",
    "s=input(\"enter your string\")\n",
    "t=tuple(s)\n",
    "print(t)"
   ]
  },
  {
   "cell_type": "code",
   "execution_count": 2,
   "id": "03a445de",
   "metadata": {},
   "outputs": [
    {
     "data": {
      "text/plain": [
       "tuple"
      ]
     },
     "execution_count": 2,
     "metadata": {},
     "output_type": "execute_result"
    }
   ],
   "source": [
    "type(t)"
   ]
  },
  {
   "cell_type": "code",
   "execution_count": null,
   "id": "45f68200",
   "metadata": {},
   "outputs": [],
   "source": []
  }
 ],
 "metadata": {
  "kernelspec": {
   "display_name": "Python 3 (ipykernel)",
   "language": "python",
   "name": "python3"
  },
  "language_info": {
   "codemirror_mode": {
    "name": "ipython",
    "version": 3
   },
   "file_extension": ".py",
   "mimetype": "text/x-python",
   "name": "python",
   "nbconvert_exporter": "python",
   "pygments_lexer": "ipython3",
   "version": "3.11.3"
  }
 },
 "nbformat": 4,
 "nbformat_minor": 5
}

{
 "cells": [
  {
   "cell_type": "code",
   "execution_count": 1,
   "id": "2a90a9de",
   "metadata": {},
   "outputs": [
    {
     "name": "stdout",
     "output_type": "stream",
     "text": [
      "enter the range6\n",
      "enter the data type: int\n",
      "enter value4\n",
      "enter the data type: int\n",
      "enter value4\n",
      "enter the data type: int\n",
      "enter value5\n",
      "enter the data type: float\n",
      "enter value5.55\n",
      "enter the data type: f\n",
      "enter valuestring\n",
      "enter the data type: int\n",
      "enter value4\n",
      "[4, 4, 5, 5.55, 'string', 4]\n",
      "[4, 5, 5.55, 'string']\n"
     ]
    }
   ],
   "source": [
    "l=[]\n",
    "n=int(input(\"enter the range\"))\n",
    "for i in range(n):\n",
    "    var=input(\"enter the data type: \")\n",
    "    if var==\"int\":\n",
    "        l.insert(i,int(input(\"enter value\")))\n",
    "    elif var==\"float\":\n",
    "        l.insert(i,float(input(\"enter value\")))\n",
    "    elif var==\"complex\":\n",
    "        l.insert(i,complex(input(\"enter value\")))\n",
    "    else:\n",
    "        l.insert(i,str(input(\"enter value\")))\n",
    "print(l)\n",
    "b=[]\n",
    "for i in l:\n",
    "    if i not in b:\n",
    "        b.append(i)\n",
    "print(b)"
   ]
  },
  {
   "cell_type": "code",
   "execution_count": null,
   "id": "07870c52",
   "metadata": {},
   "outputs": [],
   "source": []
  }
 ],
 "metadata": {
  "kernelspec": {
   "display_name": "Python 3 (ipykernel)",
   "language": "python",
   "name": "python3"
  },
  "language_info": {
   "codemirror_mode": {
    "name": "ipython",
    "version": 3
   },
   "file_extension": ".py",
   "mimetype": "text/x-python",
   "name": "python",
   "nbconvert_exporter": "python",
   "pygments_lexer": "ipython3",
   "version": "3.11.3"
  }
 },
 "nbformat": 4,
 "nbformat_minor": 5
}

{
 "cells": [
  {
   "cell_type": "code",
   "execution_count": 2,
   "id": "50d98170-b948-4c45-bfba-7549f9bab2c5",
   "metadata": {},
   "outputs": [],
   "source": [
    "import random"
   ]
  },
  {
   "cell_type": "code",
   "execution_count": null,
   "id": "aed56f26-1e9c-4cef-ae3c-d72f40d10612",
   "metadata": {},
   "outputs": [],
   "source": []
  },
  {
   "cell_type": "code",
   "execution_count": 5,
   "id": "2028cc42-b205-45b0-a785-3200fad25f54",
   "metadata": {},
   "outputs": [
    {
     "name": "stdin",
     "output_type": "stream",
     "text": [
      "Player 1, press Enter to roll the dice... \n"
     ]
    },
    {
     "name": "stdout",
     "output_type": "stream",
     "text": [
      "player1 rolled dice  2\n",
      "player1 is at step 8\n"
     ]
    },
    {
     "name": "stdin",
     "output_type": "stream",
     "text": [
      "Player 2, press Enter to roll the dice... \n"
     ]
    },
    {
     "name": "stdout",
     "output_type": "stream",
     "text": [
      "player2 rolled dice  3\n",
      "player2(COMPUTER) is at step 7\n"
     ]
    },
    {
     "name": "stdin",
     "output_type": "stream",
     "text": [
      "Player 1, press Enter to roll the dice... \n"
     ]
    },
    {
     "name": "stdout",
     "output_type": "stream",
     "text": [
      "player1 rolled dice  3\n",
      "player1 is at step 5\n"
     ]
    },
    {
     "name": "stdin",
     "output_type": "stream",
     "text": [
      "Player 2, press Enter to roll the dice... \n"
     ]
    },
    {
     "name": "stdout",
     "output_type": "stream",
     "text": [
      "player2 rolled dice  1\n",
      "player2(COMPUTER) is at step 6\n"
     ]
    },
    {
     "name": "stdin",
     "output_type": "stream",
     "text": [
      "Player 1, press Enter to roll the dice... \n"
     ]
    },
    {
     "name": "stdout",
     "output_type": "stream",
     "text": [
      "player1 rolled dice  6\n",
      "player1 is at step 0\n",
      "player 1 winner\n"
     ]
    }
   ],
   "source": [
    "\n",
    "player1_at=10\n",
    "player2_at=10\n",
    "\n",
    "while player1_at<=10 and player2_at<=10:\n",
    "    \n",
    "    input(\"Player 1, press Enter to roll the dice...\")\n",
    "    p1=random.randint(1,6)\n",
    "    print(\"player1 rolled dice \",p1)\n",
    "    player1_at-=p1\n",
    "    \n",
    "    if player1_at<=0:\n",
    "        player1_at=0\n",
    "        print(\"player1 is at step\",player1_at)\n",
    "        print(\"player 1 winner\")\n",
    "        break\n",
    "    else:\n",
    "        print(\"player1 is at step\",player1_at)\n",
    "        \n",
    "    \n",
    "    input(\"Player 2, press Enter to roll the dice...\")\n",
    "    p2=random.randint(1,6)\n",
    "    print(\"player2 rolled dice \",p2)\n",
    "    player2_at-=p2\n",
    "    \n",
    "    if player2_at<=0:\n",
    "        print(\"player2(COMPUTER) is at step\",player2_at)\n",
    "        print(\"player 2(COMPUTER) winner\")\n",
    "        break\n",
    "    else:\n",
    "        print(\"player2(COMPUTER) is at step\",player2_at)\n",
    "\n"
   ]
  },
  {
   "cell_type": "code",
   "execution_count": null,
   "id": "a3425bf6-0149-4a49-a238-cd86b97db7cb",
   "metadata": {},
   "outputs": [],
   "source": []
  }
 ],
 "metadata": {
  "kernelspec": {
   "display_name": "Python 3 (ipykernel)",
   "language": "python",
   "name": "python3"
  },
  "language_info": {
   "codemirror_mode": {
    "name": "ipython",
    "version": 3
   },
   "file_extension": ".py",
   "mimetype": "text/x-python",
   "name": "python",
   "nbconvert_exporter": "python",
   "pygments_lexer": "ipython3",
   "version": "3.11.4"
  }
 },
 "nbformat": 4,
 "nbformat_minor": 5
}

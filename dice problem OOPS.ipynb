{
 "cells": [
  {
   "cell_type": "code",
   "execution_count": 1,
   "id": "50d98170-b948-4c45-bfba-7549f9bab2c5",
   "metadata": {},
   "outputs": [],
   "source": []
  },
  {
   "cell_type": "code",
   "execution_count": null,
   "id": "aed56f26-1e9c-4cef-ae3c-d72f40d10612",
   "metadata": {},
   "outputs": [],
   "source": []
  },
  {
   "cell_type": "code",
   "execution_count": null,
   "id": "2028cc42-b205-45b0-a785-3200fad25f54",
   "metadata": {},
   "outputs": [],
   "source": []
  },
  {
   "cell_type": "code",
   "execution_count": null,
   "id": "a3425bf6-0149-4a49-a238-cd86b97db7cb",
   "metadata": {},
   "outputs": [],
   "source": []
  },
  {
   "cell_type": "code",
   "execution_count": 1,
   "id": "5d06863b-9b6d-4f13-a231-c4816ad60de0",
   "metadata": {},
   "outputs": [
    {
     "name": "stdout",
     "output_type": "stream",
     "text": [
      "Welcome to the Dice Game!\n"
     ]
    },
    {
     "name": "stdin",
     "output_type": "stream",
     "text": [
      "Press Enter to start a new round... \n"
     ]
    },
    {
     "name": "stdout",
     "output_type": "stream",
     "text": [
      "Human player rolled a 2\n",
      "Computer player rolled a 5\n",
      "Computer player wins the round!\n",
      "Human player counter: 11\n",
      "Computer player counter: 9\n"
     ]
    },
    {
     "name": "stdin",
     "output_type": "stream",
     "text": [
      "Press Enter to start a new round... \n"
     ]
    },
    {
     "name": "stdout",
     "output_type": "stream",
     "text": [
      "Human player rolled a 5\n",
      "Computer player rolled a 1\n",
      "Human player wins the round!\n",
      "Human player counter: 10\n",
      "Computer player counter: 10\n"
     ]
    },
    {
     "name": "stdin",
     "output_type": "stream",
     "text": [
      "Press Enter to start a new round... \n"
     ]
    },
    {
     "name": "stdout",
     "output_type": "stream",
     "text": [
      "Human player rolled a 5\n",
      "Computer player rolled a 6\n",
      "Computer player wins the round!\n",
      "Human player counter: 11\n",
      "Computer player counter: 9\n"
     ]
    },
    {
     "name": "stdin",
     "output_type": "stream",
     "text": [
      "Press Enter to start a new round... \n"
     ]
    },
    {
     "name": "stdout",
     "output_type": "stream",
     "text": [
      "Human player rolled a 1\n",
      "Computer player rolled a 4\n",
      "Computer player wins the round!\n",
      "Human player counter: 12\n",
      "Computer player counter: 8\n"
     ]
    },
    {
     "name": "stdin",
     "output_type": "stream",
     "text": [
      "Press Enter to start a new round... \n"
     ]
    },
    {
     "name": "stdout",
     "output_type": "stream",
     "text": [
      "Human player rolled a 6\n",
      "Computer player rolled a 5\n",
      "Human player wins the round!\n",
      "Human player counter: 11\n",
      "Computer player counter: 9\n"
     ]
    },
    {
     "name": "stdin",
     "output_type": "stream",
     "text": [
      "Press Enter to start a new round... \n"
     ]
    },
    {
     "name": "stdout",
     "output_type": "stream",
     "text": [
      "Human player rolled a 2\n",
      "Computer player rolled a 4\n",
      "Computer player wins the round!\n",
      "Human player counter: 12\n",
      "Computer player counter: 8\n"
     ]
    },
    {
     "name": "stdin",
     "output_type": "stream",
     "text": [
      "Press Enter to start a new round... \n"
     ]
    },
    {
     "name": "stdout",
     "output_type": "stream",
     "text": [
      "Human player rolled a 6\n",
      "Computer player rolled a 1\n",
      "Human player wins the round!\n",
      "Human player counter: 11\n",
      "Computer player counter: 9\n"
     ]
    },
    {
     "name": "stdin",
     "output_type": "stream",
     "text": [
      "Press Enter to start a new round... \n"
     ]
    },
    {
     "name": "stdout",
     "output_type": "stream",
     "text": [
      "Human player rolled a 1\n",
      "Computer player rolled a 6\n",
      "Computer player wins the round!\n",
      "Human player counter: 12\n",
      "Computer player counter: 8\n"
     ]
    },
    {
     "name": "stdin",
     "output_type": "stream",
     "text": [
      "Press Enter to start a new round... \n"
     ]
    },
    {
     "name": "stdout",
     "output_type": "stream",
     "text": [
      "Human player rolled a 2\n",
      "Computer player rolled a 3\n",
      "Computer player wins the round!\n",
      "Human player counter: 13\n",
      "Computer player counter: 7\n"
     ]
    },
    {
     "name": "stdin",
     "output_type": "stream",
     "text": [
      "Press Enter to start a new round... \n"
     ]
    },
    {
     "name": "stdout",
     "output_type": "stream",
     "text": [
      "Human player rolled a 1\n",
      "Computer player rolled a 6\n",
      "Computer player wins the round!\n",
      "Human player counter: 14\n",
      "Computer player counter: 6\n"
     ]
    },
    {
     "name": "stdin",
     "output_type": "stream",
     "text": [
      "Press Enter to start a new round... \n"
     ]
    },
    {
     "name": "stdout",
     "output_type": "stream",
     "text": [
      "Human player rolled a 3\n",
      "Computer player rolled a 4\n",
      "Computer player wins the round!\n",
      "Human player counter: 15\n",
      "Computer player counter: 5\n"
     ]
    },
    {
     "name": "stdin",
     "output_type": "stream",
     "text": [
      "Press Enter to start a new round... \n"
     ]
    },
    {
     "name": "stdout",
     "output_type": "stream",
     "text": [
      "Human player rolled a 3\n",
      "Computer player rolled a 5\n",
      "Computer player wins the round!\n",
      "Human player counter: 16\n",
      "Computer player counter: 4\n"
     ]
    },
    {
     "name": "stdin",
     "output_type": "stream",
     "text": [
      "Press Enter to start a new round... \n"
     ]
    },
    {
     "name": "stdout",
     "output_type": "stream",
     "text": [
      "Human player rolled a 5\n",
      "Computer player rolled a 1\n",
      "Human player wins the round!\n",
      "Human player counter: 15\n",
      "Computer player counter: 5\n"
     ]
    },
    {
     "name": "stdin",
     "output_type": "stream",
     "text": [
      "Press Enter to start a new round... \n"
     ]
    },
    {
     "name": "stdout",
     "output_type": "stream",
     "text": [
      "Human player rolled a 2\n",
      "Computer player rolled a 4\n",
      "Computer player wins the round!\n",
      "Human player counter: 16\n",
      "Computer player counter: 4\n"
     ]
    },
    {
     "name": "stdin",
     "output_type": "stream",
     "text": [
      "Press Enter to start a new round... \n"
     ]
    },
    {
     "name": "stdout",
     "output_type": "stream",
     "text": [
      "Human player rolled a 1\n",
      "Computer player rolled a 3\n",
      "Computer player wins the round!\n",
      "Human player counter: 17\n",
      "Computer player counter: 3\n"
     ]
    },
    {
     "name": "stdin",
     "output_type": "stream",
     "text": [
      "Press Enter to start a new round... \n"
     ]
    },
    {
     "name": "stdout",
     "output_type": "stream",
     "text": [
      "Human player rolled a 3\n",
      "Computer player rolled a 5\n",
      "Computer player wins the round!\n",
      "Human player counter: 18\n",
      "Computer player counter: 2\n"
     ]
    },
    {
     "name": "stdin",
     "output_type": "stream",
     "text": [
      "Press Enter to start a new round... \n"
     ]
    },
    {
     "name": "stdout",
     "output_type": "stream",
     "text": [
      "Human player rolled a 1\n",
      "Computer player rolled a 3\n",
      "Computer player wins the round!\n",
      "Human player counter: 19\n",
      "Computer player counter: 1\n"
     ]
    },
    {
     "name": "stdin",
     "output_type": "stream",
     "text": [
      "Press Enter to start a new round... \n"
     ]
    },
    {
     "name": "stdout",
     "output_type": "stream",
     "text": [
      "Human player rolled a 5\n",
      "Computer player rolled a 4\n",
      "Human player wins the round!\n",
      "Human player counter: 18\n",
      "Computer player counter: 2\n"
     ]
    },
    {
     "name": "stdin",
     "output_type": "stream",
     "text": [
      "Press Enter to start a new round... \n"
     ]
    },
    {
     "name": "stdout",
     "output_type": "stream",
     "text": [
      "Human player rolled a 6\n",
      "Computer player rolled a 4\n",
      "Human player wins the round!\n",
      "Human player counter: 17\n",
      "Computer player counter: 3\n"
     ]
    },
    {
     "name": "stdin",
     "output_type": "stream",
     "text": [
      "Press Enter to start a new round... \n"
     ]
    },
    {
     "name": "stdout",
     "output_type": "stream",
     "text": [
      "Human player rolled a 2\n",
      "Computer player rolled a 1\n",
      "Human player wins the round!\n",
      "Human player counter: 16\n",
      "Computer player counter: 4\n"
     ]
    },
    {
     "name": "stdin",
     "output_type": "stream",
     "text": [
      "Press Enter to start a new round... \n"
     ]
    },
    {
     "name": "stdout",
     "output_type": "stream",
     "text": [
      "Human player rolled a 4\n",
      "Computer player rolled a 2\n",
      "Human player wins the round!\n",
      "Human player counter: 15\n",
      "Computer player counter: 5\n"
     ]
    },
    {
     "name": "stdin",
     "output_type": "stream",
     "text": [
      "Press Enter to start a new round... \n"
     ]
    },
    {
     "name": "stdout",
     "output_type": "stream",
     "text": [
      "Human player rolled a 2\n",
      "Computer player rolled a 2\n",
      "It's a tie!\n",
      "Human player counter: 15\n",
      "Computer player counter: 5\n"
     ]
    },
    {
     "name": "stdin",
     "output_type": "stream",
     "text": [
      "Press Enter to start a new round... \n"
     ]
    },
    {
     "name": "stdout",
     "output_type": "stream",
     "text": [
      "Human player rolled a 4\n",
      "Computer player rolled a 1\n",
      "Human player wins the round!\n",
      "Human player counter: 14\n",
      "Computer player counter: 6\n"
     ]
    },
    {
     "name": "stdin",
     "output_type": "stream",
     "text": [
      "Press Enter to start a new round... \n"
     ]
    },
    {
     "name": "stdout",
     "output_type": "stream",
     "text": [
      "Human player rolled a 1\n",
      "Computer player rolled a 3\n",
      "Computer player wins the round!\n",
      "Human player counter: 15\n",
      "Computer player counter: 5\n"
     ]
    },
    {
     "name": "stdin",
     "output_type": "stream",
     "text": [
      "Press Enter to start a new round... \n"
     ]
    },
    {
     "name": "stdout",
     "output_type": "stream",
     "text": [
      "Human player rolled a 2\n",
      "Computer player rolled a 6\n",
      "Computer player wins the round!\n",
      "Human player counter: 16\n",
      "Computer player counter: 4\n"
     ]
    },
    {
     "name": "stdin",
     "output_type": "stream",
     "text": [
      "Press Enter to start a new round... \n"
     ]
    },
    {
     "name": "stdout",
     "output_type": "stream",
     "text": [
      "Human player rolled a 6\n",
      "Computer player rolled a 6\n",
      "It's a tie!\n",
      "Human player counter: 16\n",
      "Computer player counter: 4\n"
     ]
    },
    {
     "name": "stdin",
     "output_type": "stream",
     "text": [
      "Press Enter to start a new round... \n"
     ]
    },
    {
     "name": "stdout",
     "output_type": "stream",
     "text": [
      "Human player rolled a 4\n",
      "Computer player rolled a 4\n",
      "It's a tie!\n",
      "Human player counter: 16\n",
      "Computer player counter: 4\n"
     ]
    },
    {
     "name": "stdin",
     "output_type": "stream",
     "text": [
      "Press Enter to start a new round... \n"
     ]
    },
    {
     "name": "stdout",
     "output_type": "stream",
     "text": [
      "Human player rolled a 4\n",
      "Computer player rolled a 3\n",
      "Human player wins the round!\n",
      "Human player counter: 15\n",
      "Computer player counter: 5\n"
     ]
    },
    {
     "name": "stdin",
     "output_type": "stream",
     "text": [
      "Press Enter to start a new round... \n"
     ]
    },
    {
     "name": "stdout",
     "output_type": "stream",
     "text": [
      "Human player rolled a 5\n",
      "Computer player rolled a 6\n",
      "Computer player wins the round!\n",
      "Human player counter: 16\n",
      "Computer player counter: 4\n"
     ]
    },
    {
     "name": "stdin",
     "output_type": "stream",
     "text": [
      "Press Enter to start a new round... \n"
     ]
    },
    {
     "name": "stdout",
     "output_type": "stream",
     "text": [
      "Human player rolled a 5\n",
      "Computer player rolled a 2\n",
      "Human player wins the round!\n",
      "Human player counter: 15\n",
      "Computer player counter: 5\n"
     ]
    },
    {
     "name": "stdin",
     "output_type": "stream",
     "text": [
      "Press Enter to start a new round... \n"
     ]
    },
    {
     "name": "stdout",
     "output_type": "stream",
     "text": [
      "Human player rolled a 5\n",
      "Computer player rolled a 1\n",
      "Human player wins the round!\n",
      "Human player counter: 14\n",
      "Computer player counter: 6\n"
     ]
    },
    {
     "name": "stdin",
     "output_type": "stream",
     "text": [
      "Press Enter to start a new round... \n"
     ]
    },
    {
     "name": "stdout",
     "output_type": "stream",
     "text": [
      "Human player rolled a 1\n",
      "Computer player rolled a 3\n",
      "Computer player wins the round!\n",
      "Human player counter: 15\n",
      "Computer player counter: 5\n"
     ]
    },
    {
     "name": "stdin",
     "output_type": "stream",
     "text": [
      "Press Enter to start a new round... \n"
     ]
    },
    {
     "name": "stdout",
     "output_type": "stream",
     "text": [
      "Human player rolled a 5\n",
      "Computer player rolled a 6\n",
      "Computer player wins the round!\n",
      "Human player counter: 16\n",
      "Computer player counter: 4\n"
     ]
    },
    {
     "name": "stdin",
     "output_type": "stream",
     "text": [
      "Press Enter to start a new round... \n"
     ]
    },
    {
     "name": "stdout",
     "output_type": "stream",
     "text": [
      "Human player rolled a 5\n",
      "Computer player rolled a 4\n",
      "Human player wins the round!\n",
      "Human player counter: 15\n",
      "Computer player counter: 5\n"
     ]
    },
    {
     "name": "stdin",
     "output_type": "stream",
     "text": [
      "Press Enter to start a new round... \n"
     ]
    },
    {
     "name": "stdout",
     "output_type": "stream",
     "text": [
      "Human player rolled a 3\n",
      "Computer player rolled a 5\n",
      "Computer player wins the round!\n",
      "Human player counter: 16\n",
      "Computer player counter: 4\n"
     ]
    },
    {
     "name": "stdin",
     "output_type": "stream",
     "text": [
      "Press Enter to start a new round... \n"
     ]
    },
    {
     "name": "stdout",
     "output_type": "stream",
     "text": [
      "Human player rolled a 1\n",
      "Computer player rolled a 3\n",
      "Computer player wins the round!\n",
      "Human player counter: 17\n",
      "Computer player counter: 3\n"
     ]
    },
    {
     "name": "stdin",
     "output_type": "stream",
     "text": [
      "Press Enter to start a new round... \n"
     ]
    },
    {
     "name": "stdout",
     "output_type": "stream",
     "text": [
      "Human player rolled a 5\n",
      "Computer player rolled a 6\n",
      "Computer player wins the round!\n",
      "Human player counter: 18\n",
      "Computer player counter: 2\n"
     ]
    },
    {
     "name": "stdin",
     "output_type": "stream",
     "text": [
      "Press Enter to start a new round... \n"
     ]
    },
    {
     "name": "stdout",
     "output_type": "stream",
     "text": [
      "Human player rolled a 5\n",
      "Computer player rolled a 3\n",
      "Human player wins the round!\n",
      "Human player counter: 17\n",
      "Computer player counter: 3\n"
     ]
    },
    {
     "name": "stdin",
     "output_type": "stream",
     "text": [
      "Press Enter to start a new round... \n"
     ]
    },
    {
     "name": "stdout",
     "output_type": "stream",
     "text": [
      "Human player rolled a 5\n",
      "Computer player rolled a 3\n",
      "Human player wins the round!\n",
      "Human player counter: 16\n",
      "Computer player counter: 4\n"
     ]
    },
    {
     "name": "stdin",
     "output_type": "stream",
     "text": [
      "Press Enter to start a new round... \n"
     ]
    },
    {
     "name": "stdout",
     "output_type": "stream",
     "text": [
      "Human player rolled a 2\n",
      "Computer player rolled a 6\n",
      "Computer player wins the round!\n",
      "Human player counter: 17\n",
      "Computer player counter: 3\n"
     ]
    },
    {
     "name": "stdin",
     "output_type": "stream",
     "text": [
      "Press Enter to start a new round... \n"
     ]
    },
    {
     "name": "stdout",
     "output_type": "stream",
     "text": [
      "Human player rolled a 2\n",
      "Computer player rolled a 2\n",
      "It's a tie!\n",
      "Human player counter: 17\n",
      "Computer player counter: 3\n"
     ]
    },
    {
     "name": "stdin",
     "output_type": "stream",
     "text": [
      "Press Enter to start a new round... \n"
     ]
    },
    {
     "name": "stdout",
     "output_type": "stream",
     "text": [
      "Human player rolled a 3\n",
      "Computer player rolled a 2\n",
      "Human player wins the round!\n",
      "Human player counter: 16\n",
      "Computer player counter: 4\n"
     ]
    },
    {
     "name": "stdin",
     "output_type": "stream",
     "text": [
      "Press Enter to start a new round... \n"
     ]
    },
    {
     "name": "stdout",
     "output_type": "stream",
     "text": [
      "Human player rolled a 6\n",
      "Computer player rolled a 1\n",
      "Human player wins the round!\n",
      "Human player counter: 15\n",
      "Computer player counter: 5\n"
     ]
    },
    {
     "name": "stdin",
     "output_type": "stream",
     "text": [
      "Press Enter to start a new round... \n"
     ]
    },
    {
     "name": "stdout",
     "output_type": "stream",
     "text": [
      "Human player rolled a 4\n",
      "Computer player rolled a 1\n",
      "Human player wins the round!\n",
      "Human player counter: 14\n",
      "Computer player counter: 6\n"
     ]
    },
    {
     "name": "stdin",
     "output_type": "stream",
     "text": [
      "Press Enter to start a new round... \n"
     ]
    },
    {
     "name": "stdout",
     "output_type": "stream",
     "text": [
      "Human player rolled a 3\n",
      "Computer player rolled a 3\n",
      "It's a tie!\n",
      "Human player counter: 14\n",
      "Computer player counter: 6\n"
     ]
    },
    {
     "name": "stdin",
     "output_type": "stream",
     "text": [
      "Press Enter to start a new round... \n"
     ]
    },
    {
     "name": "stdout",
     "output_type": "stream",
     "text": [
      "Human player rolled a 6\n",
      "Computer player rolled a 3\n",
      "Human player wins the round!\n",
      "Human player counter: 13\n",
      "Computer player counter: 7\n"
     ]
    },
    {
     "name": "stdin",
     "output_type": "stream",
     "text": [
      "Press Enter to start a new round... \n"
     ]
    },
    {
     "name": "stdout",
     "output_type": "stream",
     "text": [
      "Human player rolled a 6\n",
      "Computer player rolled a 5\n",
      "Human player wins the round!\n",
      "Human player counter: 12\n",
      "Computer player counter: 8\n"
     ]
    },
    {
     "name": "stdin",
     "output_type": "stream",
     "text": [
      "Press Enter to start a new round... \n"
     ]
    },
    {
     "name": "stdout",
     "output_type": "stream",
     "text": [
      "Human player rolled a 6\n",
      "Computer player rolled a 5\n",
      "Human player wins the round!\n",
      "Human player counter: 11\n",
      "Computer player counter: 9\n"
     ]
    },
    {
     "name": "stdin",
     "output_type": "stream",
     "text": [
      "Press Enter to start a new round... \n"
     ]
    },
    {
     "name": "stdout",
     "output_type": "stream",
     "text": [
      "Human player rolled a 4\n",
      "Computer player rolled a 1\n",
      "Human player wins the round!\n",
      "Human player counter: 10\n",
      "Computer player counter: 10\n"
     ]
    },
    {
     "name": "stdin",
     "output_type": "stream",
     "text": [
      "Press Enter to start a new round... \n"
     ]
    },
    {
     "name": "stdout",
     "output_type": "stream",
     "text": [
      "Human player rolled a 6\n",
      "Computer player rolled a 2\n",
      "Human player wins the round!\n",
      "Human player counter: 9\n",
      "Computer player counter: 11\n"
     ]
    },
    {
     "name": "stdin",
     "output_type": "stream",
     "text": [
      "Press Enter to start a new round... \n"
     ]
    },
    {
     "name": "stdout",
     "output_type": "stream",
     "text": [
      "Human player rolled a 5\n",
      "Computer player rolled a 6\n",
      "Computer player wins the round!\n",
      "Human player counter: 10\n",
      "Computer player counter: 10\n"
     ]
    },
    {
     "name": "stdin",
     "output_type": "stream",
     "text": [
      "Press Enter to start a new round... \n"
     ]
    },
    {
     "name": "stdout",
     "output_type": "stream",
     "text": [
      "Human player rolled a 3\n",
      "Computer player rolled a 6\n",
      "Computer player wins the round!\n",
      "Human player counter: 11\n",
      "Computer player counter: 9\n"
     ]
    },
    {
     "name": "stdin",
     "output_type": "stream",
     "text": [
      "Press Enter to start a new round... \n"
     ]
    },
    {
     "name": "stdout",
     "output_type": "stream",
     "text": [
      "Human player rolled a 5\n",
      "Computer player rolled a 5\n",
      "It's a tie!\n",
      "Human player counter: 11\n",
      "Computer player counter: 9\n"
     ]
    },
    {
     "name": "stdin",
     "output_type": "stream",
     "text": [
      "Press Enter to start a new round... \n"
     ]
    },
    {
     "name": "stdout",
     "output_type": "stream",
     "text": [
      "Human player rolled a 4\n",
      "Computer player rolled a 2\n",
      "Human player wins the round!\n",
      "Human player counter: 10\n",
      "Computer player counter: 10\n"
     ]
    },
    {
     "name": "stdin",
     "output_type": "stream",
     "text": [
      "Press Enter to start a new round... \n"
     ]
    },
    {
     "name": "stdout",
     "output_type": "stream",
     "text": [
      "Human player rolled a 2\n",
      "Computer player rolled a 1\n",
      "Human player wins the round!\n",
      "Human player counter: 9\n",
      "Computer player counter: 11\n"
     ]
    },
    {
     "name": "stdin",
     "output_type": "stream",
     "text": [
      "Press Enter to start a new round... \n"
     ]
    },
    {
     "name": "stdout",
     "output_type": "stream",
     "text": [
      "Human player rolled a 1\n",
      "Computer player rolled a 4\n",
      "Computer player wins the round!\n",
      "Human player counter: 10\n",
      "Computer player counter: 10\n"
     ]
    },
    {
     "name": "stdin",
     "output_type": "stream",
     "text": [
      "Press Enter to start a new round... \n"
     ]
    },
    {
     "name": "stdout",
     "output_type": "stream",
     "text": [
      "Human player rolled a 2\n",
      "Computer player rolled a 5\n",
      "Computer player wins the round!\n",
      "Human player counter: 11\n",
      "Computer player counter: 9\n"
     ]
    },
    {
     "name": "stdin",
     "output_type": "stream",
     "text": [
      "Press Enter to start a new round... \n"
     ]
    },
    {
     "name": "stdout",
     "output_type": "stream",
     "text": [
      "Human player rolled a 3\n",
      "Computer player rolled a 5\n",
      "Computer player wins the round!\n",
      "Human player counter: 12\n",
      "Computer player counter: 8\n"
     ]
    },
    {
     "name": "stdin",
     "output_type": "stream",
     "text": [
      "Press Enter to start a new round... \n"
     ]
    },
    {
     "name": "stdout",
     "output_type": "stream",
     "text": [
      "Human player rolled a 1\n",
      "Computer player rolled a 4\n",
      "Computer player wins the round!\n",
      "Human player counter: 13\n",
      "Computer player counter: 7\n"
     ]
    },
    {
     "name": "stdin",
     "output_type": "stream",
     "text": [
      "Press Enter to start a new round... \n"
     ]
    },
    {
     "name": "stdout",
     "output_type": "stream",
     "text": [
      "Human player rolled a 1\n",
      "Computer player rolled a 5\n",
      "Computer player wins the round!\n",
      "Human player counter: 14\n",
      "Computer player counter: 6\n"
     ]
    },
    {
     "name": "stdin",
     "output_type": "stream",
     "text": [
      "Press Enter to start a new round... \n"
     ]
    },
    {
     "name": "stdout",
     "output_type": "stream",
     "text": [
      "Human player rolled a 4\n",
      "Computer player rolled a 1\n",
      "Human player wins the round!\n",
      "Human player counter: 13\n",
      "Computer player counter: 7\n"
     ]
    },
    {
     "name": "stdin",
     "output_type": "stream",
     "text": [
      "Press Enter to start a new round... \n"
     ]
    },
    {
     "name": "stdout",
     "output_type": "stream",
     "text": [
      "Human player rolled a 1\n",
      "Computer player rolled a 5\n",
      "Computer player wins the round!\n",
      "Human player counter: 14\n",
      "Computer player counter: 6\n"
     ]
    },
    {
     "name": "stdin",
     "output_type": "stream",
     "text": [
      "Press Enter to start a new round... \n"
     ]
    },
    {
     "name": "stdout",
     "output_type": "stream",
     "text": [
      "Human player rolled a 4\n",
      "Computer player rolled a 5\n",
      "Computer player wins the round!\n",
      "Human player counter: 15\n",
      "Computer player counter: 5\n"
     ]
    },
    {
     "name": "stdin",
     "output_type": "stream",
     "text": [
      "Press Enter to start a new round... \n"
     ]
    },
    {
     "name": "stdout",
     "output_type": "stream",
     "text": [
      "Human player rolled a 1\n",
      "Computer player rolled a 3\n",
      "Computer player wins the round!\n",
      "Human player counter: 16\n",
      "Computer player counter: 4\n"
     ]
    },
    {
     "name": "stdin",
     "output_type": "stream",
     "text": [
      "Press Enter to start a new round... \n"
     ]
    },
    {
     "name": "stdout",
     "output_type": "stream",
     "text": [
      "Human player rolled a 1\n",
      "Computer player rolled a 4\n",
      "Computer player wins the round!\n",
      "Human player counter: 17\n",
      "Computer player counter: 3\n"
     ]
    },
    {
     "name": "stdin",
     "output_type": "stream",
     "text": [
      "Press Enter to start a new round... \n"
     ]
    },
    {
     "name": "stdout",
     "output_type": "stream",
     "text": [
      "Human player rolled a 5\n",
      "Computer player rolled a 3\n",
      "Human player wins the round!\n",
      "Human player counter: 16\n",
      "Computer player counter: 4\n"
     ]
    },
    {
     "name": "stdin",
     "output_type": "stream",
     "text": [
      "Press Enter to start a new round... \n"
     ]
    },
    {
     "name": "stdout",
     "output_type": "stream",
     "text": [
      "Human player rolled a 1\n",
      "Computer player rolled a 5\n",
      "Computer player wins the round!\n",
      "Human player counter: 17\n",
      "Computer player counter: 3\n"
     ]
    },
    {
     "name": "stdin",
     "output_type": "stream",
     "text": [
      "Press Enter to start a new round... \n"
     ]
    },
    {
     "name": "stdout",
     "output_type": "stream",
     "text": [
      "Human player rolled a 3\n",
      "Computer player rolled a 1\n",
      "Human player wins the round!\n",
      "Human player counter: 16\n",
      "Computer player counter: 4\n"
     ]
    },
    {
     "name": "stdin",
     "output_type": "stream",
     "text": [
      "Press Enter to start a new round... \n"
     ]
    },
    {
     "name": "stdout",
     "output_type": "stream",
     "text": [
      "Human player rolled a 2\n",
      "Computer player rolled a 3\n",
      "Computer player wins the round!\n",
      "Human player counter: 17\n",
      "Computer player counter: 3\n"
     ]
    },
    {
     "name": "stdin",
     "output_type": "stream",
     "text": [
      "Press Enter to start a new round... \n"
     ]
    },
    {
     "name": "stdout",
     "output_type": "stream",
     "text": [
      "Human player rolled a 6\n",
      "Computer player rolled a 3\n",
      "Human player wins the round!\n",
      "Human player counter: 16\n",
      "Computer player counter: 4\n"
     ]
    },
    {
     "name": "stdin",
     "output_type": "stream",
     "text": [
      "Press Enter to start a new round... \n"
     ]
    },
    {
     "name": "stdout",
     "output_type": "stream",
     "text": [
      "Human player rolled a 6\n",
      "Computer player rolled a 2\n",
      "Human player wins the round!\n",
      "Human player counter: 15\n",
      "Computer player counter: 5\n"
     ]
    },
    {
     "name": "stdin",
     "output_type": "stream",
     "text": [
      "Press Enter to start a new round... \n"
     ]
    },
    {
     "name": "stdout",
     "output_type": "stream",
     "text": [
      "Human player rolled a 6\n",
      "Computer player rolled a 5\n",
      "Human player wins the round!\n",
      "Human player counter: 14\n",
      "Computer player counter: 6\n"
     ]
    },
    {
     "name": "stdin",
     "output_type": "stream",
     "text": [
      "Press Enter to start a new round... \n"
     ]
    },
    {
     "name": "stdout",
     "output_type": "stream",
     "text": [
      "Human player rolled a 2\n",
      "Computer player rolled a 6\n",
      "Computer player wins the round!\n",
      "Human player counter: 15\n",
      "Computer player counter: 5\n"
     ]
    },
    {
     "name": "stdin",
     "output_type": "stream",
     "text": [
      "Press Enter to start a new round... \n"
     ]
    },
    {
     "name": "stdout",
     "output_type": "stream",
     "text": [
      "Human player rolled a 4\n",
      "Computer player rolled a 1\n",
      "Human player wins the round!\n",
      "Human player counter: 14\n",
      "Computer player counter: 6\n"
     ]
    },
    {
     "name": "stdin",
     "output_type": "stream",
     "text": [
      "Press Enter to start a new round... \n"
     ]
    },
    {
     "name": "stdout",
     "output_type": "stream",
     "text": [
      "Human player rolled a 1\n",
      "Computer player rolled a 4\n",
      "Computer player wins the round!\n",
      "Human player counter: 15\n",
      "Computer player counter: 5\n"
     ]
    },
    {
     "name": "stdin",
     "output_type": "stream",
     "text": [
      "Press Enter to start a new round... \n"
     ]
    },
    {
     "name": "stdout",
     "output_type": "stream",
     "text": [
      "Human player rolled a 5\n",
      "Computer player rolled a 5\n",
      "It's a tie!\n",
      "Human player counter: 15\n",
      "Computer player counter: 5\n"
     ]
    },
    {
     "name": "stdin",
     "output_type": "stream",
     "text": [
      "Press Enter to start a new round... \n"
     ]
    },
    {
     "name": "stdout",
     "output_type": "stream",
     "text": [
      "Human player rolled a 3\n",
      "Computer player rolled a 3\n",
      "It's a tie!\n",
      "Human player counter: 15\n",
      "Computer player counter: 5\n"
     ]
    },
    {
     "name": "stdin",
     "output_type": "stream",
     "text": [
      "Press Enter to start a new round... \n"
     ]
    },
    {
     "name": "stdout",
     "output_type": "stream",
     "text": [
      "Human player rolled a 6\n",
      "Computer player rolled a 1\n",
      "Human player wins the round!\n",
      "Human player counter: 14\n",
      "Computer player counter: 6\n"
     ]
    },
    {
     "name": "stdin",
     "output_type": "stream",
     "text": [
      "Press Enter to start a new round... \n"
     ]
    },
    {
     "name": "stdout",
     "output_type": "stream",
     "text": [
      "Human player rolled a 6\n",
      "Computer player rolled a 3\n",
      "Human player wins the round!\n",
      "Human player counter: 13\n",
      "Computer player counter: 7\n"
     ]
    },
    {
     "name": "stdin",
     "output_type": "stream",
     "text": [
      "Press Enter to start a new round... \n"
     ]
    },
    {
     "name": "stdout",
     "output_type": "stream",
     "text": [
      "Human player rolled a 1\n",
      "Computer player rolled a 5\n",
      "Computer player wins the round!\n",
      "Human player counter: 14\n",
      "Computer player counter: 6\n"
     ]
    },
    {
     "name": "stdin",
     "output_type": "stream",
     "text": [
      "Press Enter to start a new round... \n"
     ]
    },
    {
     "name": "stdout",
     "output_type": "stream",
     "text": [
      "Human player rolled a 4\n",
      "Computer player rolled a 2\n",
      "Human player wins the round!\n",
      "Human player counter: 13\n",
      "Computer player counter: 7\n"
     ]
    },
    {
     "name": "stdin",
     "output_type": "stream",
     "text": [
      "Press Enter to start a new round... \n"
     ]
    },
    {
     "name": "stdout",
     "output_type": "stream",
     "text": [
      "Human player rolled a 5\n",
      "Computer player rolled a 2\n",
      "Human player wins the round!\n",
      "Human player counter: 12\n",
      "Computer player counter: 8\n"
     ]
    },
    {
     "name": "stdin",
     "output_type": "stream",
     "text": [
      "Press Enter to start a new round... \n"
     ]
    },
    {
     "name": "stdout",
     "output_type": "stream",
     "text": [
      "Human player rolled a 3\n",
      "Computer player rolled a 3\n",
      "It's a tie!\n",
      "Human player counter: 12\n",
      "Computer player counter: 8\n"
     ]
    },
    {
     "name": "stdin",
     "output_type": "stream",
     "text": [
      "Press Enter to start a new round... \n"
     ]
    },
    {
     "name": "stdout",
     "output_type": "stream",
     "text": [
      "Human player rolled a 2\n",
      "Computer player rolled a 3\n",
      "Computer player wins the round!\n",
      "Human player counter: 13\n",
      "Computer player counter: 7\n"
     ]
    },
    {
     "name": "stdin",
     "output_type": "stream",
     "text": [
      "Press Enter to start a new round... \n"
     ]
    },
    {
     "name": "stdout",
     "output_type": "stream",
     "text": [
      "Human player rolled a 2\n",
      "Computer player rolled a 3\n",
      "Computer player wins the round!\n",
      "Human player counter: 14\n",
      "Computer player counter: 6\n"
     ]
    },
    {
     "name": "stdin",
     "output_type": "stream",
     "text": [
      "Press Enter to start a new round... \n"
     ]
    },
    {
     "name": "stdout",
     "output_type": "stream",
     "text": [
      "Human player rolled a 5\n",
      "Computer player rolled a 4\n",
      "Human player wins the round!\n",
      "Human player counter: 13\n",
      "Computer player counter: 7\n"
     ]
    },
    {
     "name": "stdin",
     "output_type": "stream",
     "text": [
      "Press Enter to start a new round... \n"
     ]
    },
    {
     "name": "stdout",
     "output_type": "stream",
     "text": [
      "Human player rolled a 2\n",
      "Computer player rolled a 4\n",
      "Computer player wins the round!\n",
      "Human player counter: 14\n",
      "Computer player counter: 6\n"
     ]
    },
    {
     "name": "stdin",
     "output_type": "stream",
     "text": [
      "Press Enter to start a new round... \n"
     ]
    },
    {
     "name": "stdout",
     "output_type": "stream",
     "text": [
      "Human player rolled a 6\n",
      "Computer player rolled a 6\n",
      "It's a tie!\n",
      "Human player counter: 14\n",
      "Computer player counter: 6\n"
     ]
    },
    {
     "name": "stdin",
     "output_type": "stream",
     "text": [
      "Press Enter to start a new round... \n"
     ]
    },
    {
     "name": "stdout",
     "output_type": "stream",
     "text": [
      "Human player rolled a 2\n",
      "Computer player rolled a 5\n",
      "Computer player wins the round!\n",
      "Human player counter: 15\n",
      "Computer player counter: 5\n"
     ]
    },
    {
     "name": "stdin",
     "output_type": "stream",
     "text": [
      "Press Enter to start a new round... \n"
     ]
    },
    {
     "name": "stdout",
     "output_type": "stream",
     "text": [
      "Human player rolled a 1\n",
      "Computer player rolled a 5\n",
      "Computer player wins the round!\n",
      "Human player counter: 16\n",
      "Computer player counter: 4\n"
     ]
    },
    {
     "name": "stdin",
     "output_type": "stream",
     "text": [
      "Press Enter to start a new round... \n"
     ]
    },
    {
     "name": "stdout",
     "output_type": "stream",
     "text": [
      "Human player rolled a 1\n",
      "Computer player rolled a 5\n",
      "Computer player wins the round!\n",
      "Human player counter: 17\n",
      "Computer player counter: 3\n"
     ]
    },
    {
     "name": "stdin",
     "output_type": "stream",
     "text": [
      "Press Enter to start a new round... \n"
     ]
    },
    {
     "name": "stdout",
     "output_type": "stream",
     "text": [
      "Human player rolled a 3\n",
      "Computer player rolled a 5\n",
      "Computer player wins the round!\n",
      "Human player counter: 18\n",
      "Computer player counter: 2\n"
     ]
    },
    {
     "name": "stdin",
     "output_type": "stream",
     "text": [
      "Press Enter to start a new round... \n"
     ]
    },
    {
     "name": "stdout",
     "output_type": "stream",
     "text": [
      "Human player rolled a 6\n",
      "Computer player rolled a 1\n",
      "Human player wins the round!\n",
      "Human player counter: 17\n",
      "Computer player counter: 3\n"
     ]
    },
    {
     "name": "stdin",
     "output_type": "stream",
     "text": [
      "Press Enter to start a new round... \n"
     ]
    },
    {
     "name": "stdout",
     "output_type": "stream",
     "text": [
      "Human player rolled a 4\n",
      "Computer player rolled a 3\n",
      "Human player wins the round!\n",
      "Human player counter: 16\n",
      "Computer player counter: 4\n"
     ]
    },
    {
     "name": "stdin",
     "output_type": "stream",
     "text": [
      "Press Enter to start a new round... \n"
     ]
    },
    {
     "name": "stdout",
     "output_type": "stream",
     "text": [
      "Human player rolled a 3\n",
      "Computer player rolled a 2\n",
      "Human player wins the round!\n",
      "Human player counter: 15\n",
      "Computer player counter: 5\n"
     ]
    },
    {
     "name": "stdin",
     "output_type": "stream",
     "text": [
      "Press Enter to start a new round... \n"
     ]
    },
    {
     "name": "stdout",
     "output_type": "stream",
     "text": [
      "Human player rolled a 1\n",
      "Computer player rolled a 3\n",
      "Computer player wins the round!\n",
      "Human player counter: 16\n",
      "Computer player counter: 4\n"
     ]
    },
    {
     "name": "stdin",
     "output_type": "stream",
     "text": [
      "Press Enter to start a new round... \n"
     ]
    },
    {
     "name": "stdout",
     "output_type": "stream",
     "text": [
      "Human player rolled a 2\n",
      "Computer player rolled a 6\n",
      "Computer player wins the round!\n",
      "Human player counter: 17\n",
      "Computer player counter: 3\n"
     ]
    },
    {
     "name": "stdin",
     "output_type": "stream",
     "text": [
      "Press Enter to start a new round... \n"
     ]
    },
    {
     "name": "stdout",
     "output_type": "stream",
     "text": [
      "Human player rolled a 1\n",
      "Computer player rolled a 3\n",
      "Computer player wins the round!\n",
      "Human player counter: 18\n",
      "Computer player counter: 2\n"
     ]
    },
    {
     "name": "stdin",
     "output_type": "stream",
     "text": [
      "Press Enter to start a new round... \n"
     ]
    },
    {
     "name": "stdout",
     "output_type": "stream",
     "text": [
      "Human player rolled a 6\n",
      "Computer player rolled a 5\n",
      "Human player wins the round!\n",
      "Human player counter: 17\n",
      "Computer player counter: 3\n"
     ]
    },
    {
     "name": "stdin",
     "output_type": "stream",
     "text": [
      "Press Enter to start a new round... \n"
     ]
    },
    {
     "name": "stdout",
     "output_type": "stream",
     "text": [
      "Human player rolled a 5\n",
      "Computer player rolled a 5\n",
      "It's a tie!\n",
      "Human player counter: 17\n",
      "Computer player counter: 3\n"
     ]
    },
    {
     "name": "stdin",
     "output_type": "stream",
     "text": [
      "Press Enter to start a new round... \n"
     ]
    },
    {
     "name": "stdout",
     "output_type": "stream",
     "text": [
      "Human player rolled a 4\n",
      "Computer player rolled a 2\n",
      "Human player wins the round!\n",
      "Human player counter: 16\n",
      "Computer player counter: 4\n"
     ]
    },
    {
     "name": "stdin",
     "output_type": "stream",
     "text": [
      "Press Enter to start a new round... \n"
     ]
    },
    {
     "name": "stdout",
     "output_type": "stream",
     "text": [
      "Human player rolled a 4\n",
      "Computer player rolled a 3\n",
      "Human player wins the round!\n",
      "Human player counter: 15\n",
      "Computer player counter: 5\n"
     ]
    },
    {
     "name": "stdin",
     "output_type": "stream",
     "text": [
      "Press Enter to start a new round... \n"
     ]
    },
    {
     "name": "stdout",
     "output_type": "stream",
     "text": [
      "Human player rolled a 6\n",
      "Computer player rolled a 2\n",
      "Human player wins the round!\n",
      "Human player counter: 14\n",
      "Computer player counter: 6\n"
     ]
    },
    {
     "name": "stdin",
     "output_type": "stream",
     "text": [
      "Press Enter to start a new round... \n"
     ]
    },
    {
     "name": "stdout",
     "output_type": "stream",
     "text": [
      "Human player rolled a 6\n",
      "Computer player rolled a 6\n",
      "It's a tie!\n",
      "Human player counter: 14\n",
      "Computer player counter: 6\n"
     ]
    },
    {
     "name": "stdin",
     "output_type": "stream",
     "text": [
      "Press Enter to start a new round... \n"
     ]
    },
    {
     "name": "stdout",
     "output_type": "stream",
     "text": [
      "Human player rolled a 5\n",
      "Computer player rolled a 5\n",
      "It's a tie!\n",
      "Human player counter: 14\n",
      "Computer player counter: 6\n"
     ]
    },
    {
     "name": "stdin",
     "output_type": "stream",
     "text": [
      "Press Enter to start a new round... \n"
     ]
    },
    {
     "name": "stdout",
     "output_type": "stream",
     "text": [
      "Human player rolled a 1\n",
      "Computer player rolled a 4\n",
      "Computer player wins the round!\n",
      "Human player counter: 15\n",
      "Computer player counter: 5\n"
     ]
    },
    {
     "name": "stdin",
     "output_type": "stream",
     "text": [
      "Press Enter to start a new round... \n"
     ]
    },
    {
     "name": "stdout",
     "output_type": "stream",
     "text": [
      "Human player rolled a 6\n",
      "Computer player rolled a 1\n",
      "Human player wins the round!\n",
      "Human player counter: 14\n",
      "Computer player counter: 6\n"
     ]
    },
    {
     "name": "stdin",
     "output_type": "stream",
     "text": [
      "Press Enter to start a new round... \n"
     ]
    },
    {
     "name": "stdout",
     "output_type": "stream",
     "text": [
      "Human player rolled a 4\n",
      "Computer player rolled a 3\n",
      "Human player wins the round!\n",
      "Human player counter: 13\n",
      "Computer player counter: 7\n"
     ]
    },
    {
     "name": "stdin",
     "output_type": "stream",
     "text": [
      "Press Enter to start a new round... \n"
     ]
    },
    {
     "name": "stdout",
     "output_type": "stream",
     "text": [
      "Human player rolled a 2\n",
      "Computer player rolled a 5\n",
      "Computer player wins the round!\n",
      "Human player counter: 14\n",
      "Computer player counter: 6\n"
     ]
    },
    {
     "name": "stdin",
     "output_type": "stream",
     "text": [
      "Press Enter to start a new round... \n"
     ]
    },
    {
     "name": "stdout",
     "output_type": "stream",
     "text": [
      "Human player rolled a 2\n",
      "Computer player rolled a 5\n",
      "Computer player wins the round!\n",
      "Human player counter: 15\n",
      "Computer player counter: 5\n"
     ]
    },
    {
     "name": "stdin",
     "output_type": "stream",
     "text": [
      "Press Enter to start a new round... \n"
     ]
    },
    {
     "name": "stdout",
     "output_type": "stream",
     "text": [
      "Human player rolled a 1\n",
      "Computer player rolled a 5\n",
      "Computer player wins the round!\n",
      "Human player counter: 16\n",
      "Computer player counter: 4\n"
     ]
    },
    {
     "name": "stdin",
     "output_type": "stream",
     "text": [
      "Press Enter to start a new round... \n"
     ]
    },
    {
     "name": "stdout",
     "output_type": "stream",
     "text": [
      "Human player rolled a 5\n",
      "Computer player rolled a 4\n",
      "Human player wins the round!\n",
      "Human player counter: 15\n",
      "Computer player counter: 5\n"
     ]
    },
    {
     "name": "stdin",
     "output_type": "stream",
     "text": [
      "Press Enter to start a new round... \n"
     ]
    },
    {
     "name": "stdout",
     "output_type": "stream",
     "text": [
      "Human player rolled a 6\n",
      "Computer player rolled a 2\n",
      "Human player wins the round!\n",
      "Human player counter: 14\n",
      "Computer player counter: 6\n"
     ]
    },
    {
     "name": "stdin",
     "output_type": "stream",
     "text": [
      "Press Enter to start a new round... \n"
     ]
    },
    {
     "name": "stdout",
     "output_type": "stream",
     "text": [
      "Human player rolled a 2\n",
      "Computer player rolled a 5\n",
      "Computer player wins the round!\n",
      "Human player counter: 15\n",
      "Computer player counter: 5\n"
     ]
    },
    {
     "name": "stdin",
     "output_type": "stream",
     "text": [
      "Press Enter to start a new round... \n"
     ]
    },
    {
     "name": "stdout",
     "output_type": "stream",
     "text": [
      "Human player rolled a 4\n",
      "Computer player rolled a 2\n",
      "Human player wins the round!\n",
      "Human player counter: 14\n",
      "Computer player counter: 6\n"
     ]
    },
    {
     "name": "stdin",
     "output_type": "stream",
     "text": [
      "Press Enter to start a new round... \n"
     ]
    },
    {
     "name": "stdout",
     "output_type": "stream",
     "text": [
      "Human player rolled a 1\n",
      "Computer player rolled a 4\n",
      "Computer player wins the round!\n",
      "Human player counter: 15\n",
      "Computer player counter: 5\n"
     ]
    },
    {
     "name": "stdin",
     "output_type": "stream",
     "text": [
      "Press Enter to start a new round... \n"
     ]
    },
    {
     "name": "stdout",
     "output_type": "stream",
     "text": [
      "Human player rolled a 4\n",
      "Computer player rolled a 4\n",
      "It's a tie!\n",
      "Human player counter: 15\n",
      "Computer player counter: 5\n"
     ]
    },
    {
     "name": "stdin",
     "output_type": "stream",
     "text": [
      "Press Enter to start a new round... \n"
     ]
    },
    {
     "name": "stdout",
     "output_type": "stream",
     "text": [
      "Human player rolled a 2\n",
      "Computer player rolled a 3\n",
      "Computer player wins the round!\n",
      "Human player counter: 16\n",
      "Computer player counter: 4\n"
     ]
    },
    {
     "name": "stdin",
     "output_type": "stream",
     "text": [
      "Press Enter to start a new round... \n"
     ]
    },
    {
     "name": "stdout",
     "output_type": "stream",
     "text": [
      "Human player rolled a 3\n",
      "Computer player rolled a 5\n",
      "Computer player wins the round!\n",
      "Human player counter: 17\n",
      "Computer player counter: 3\n"
     ]
    },
    {
     "name": "stdin",
     "output_type": "stream",
     "text": [
      "Press Enter to start a new round... \n"
     ]
    },
    {
     "name": "stdout",
     "output_type": "stream",
     "text": [
      "Human player rolled a 3\n",
      "Computer player rolled a 2\n",
      "Human player wins the round!\n",
      "Human player counter: 16\n",
      "Computer player counter: 4\n"
     ]
    },
    {
     "name": "stdin",
     "output_type": "stream",
     "text": [
      "Press Enter to start a new round... \n"
     ]
    },
    {
     "name": "stdout",
     "output_type": "stream",
     "text": [
      "Human player rolled a 5\n",
      "Computer player rolled a 6\n",
      "Computer player wins the round!\n",
      "Human player counter: 17\n",
      "Computer player counter: 3\n"
     ]
    },
    {
     "name": "stdin",
     "output_type": "stream",
     "text": [
      "Press Enter to start a new round... \n"
     ]
    },
    {
     "name": "stdout",
     "output_type": "stream",
     "text": [
      "Human player rolled a 4\n",
      "Computer player rolled a 4\n",
      "It's a tie!\n",
      "Human player counter: 17\n",
      "Computer player counter: 3\n"
     ]
    },
    {
     "name": "stdin",
     "output_type": "stream",
     "text": [
      "Press Enter to start a new round... \n"
     ]
    },
    {
     "name": "stdout",
     "output_type": "stream",
     "text": [
      "Human player rolled a 6\n",
      "Computer player rolled a 6\n",
      "It's a tie!\n",
      "Human player counter: 17\n",
      "Computer player counter: 3\n"
     ]
    },
    {
     "name": "stdin",
     "output_type": "stream",
     "text": [
      "Press Enter to start a new round... \n"
     ]
    },
    {
     "name": "stdout",
     "output_type": "stream",
     "text": [
      "Human player rolled a 2\n",
      "Computer player rolled a 6\n",
      "Computer player wins the round!\n",
      "Human player counter: 18\n",
      "Computer player counter: 2\n"
     ]
    },
    {
     "name": "stdin",
     "output_type": "stream",
     "text": [
      "Press Enter to start a new round... \n"
     ]
    },
    {
     "name": "stdout",
     "output_type": "stream",
     "text": [
      "Human player rolled a 4\n",
      "Computer player rolled a 2\n",
      "Human player wins the round!\n",
      "Human player counter: 17\n",
      "Computer player counter: 3\n"
     ]
    },
    {
     "name": "stdin",
     "output_type": "stream",
     "text": [
      "Press Enter to start a new round... \n"
     ]
    },
    {
     "name": "stdout",
     "output_type": "stream",
     "text": [
      "Human player rolled a 4\n",
      "Computer player rolled a 1\n",
      "Human player wins the round!\n",
      "Human player counter: 16\n",
      "Computer player counter: 4\n"
     ]
    },
    {
     "name": "stdin",
     "output_type": "stream",
     "text": [
      "Press Enter to start a new round... \n"
     ]
    },
    {
     "name": "stdout",
     "output_type": "stream",
     "text": [
      "Human player rolled a 4\n",
      "Computer player rolled a 4\n",
      "It's a tie!\n",
      "Human player counter: 16\n",
      "Computer player counter: 4\n"
     ]
    },
    {
     "name": "stdin",
     "output_type": "stream",
     "text": [
      "Press Enter to start a new round... \n"
     ]
    },
    {
     "name": "stdout",
     "output_type": "stream",
     "text": [
      "Human player rolled a 4\n",
      "Computer player rolled a 1\n",
      "Human player wins the round!\n",
      "Human player counter: 15\n",
      "Computer player counter: 5\n"
     ]
    },
    {
     "name": "stdin",
     "output_type": "stream",
     "text": [
      "Press Enter to start a new round... \n"
     ]
    },
    {
     "name": "stdout",
     "output_type": "stream",
     "text": [
      "Human player rolled a 5\n",
      "Computer player rolled a 1\n",
      "Human player wins the round!\n",
      "Human player counter: 14\n",
      "Computer player counter: 6\n"
     ]
    },
    {
     "name": "stdin",
     "output_type": "stream",
     "text": [
      "Press Enter to start a new round... \n"
     ]
    },
    {
     "name": "stdout",
     "output_type": "stream",
     "text": [
      "Human player rolled a 6\n",
      "Computer player rolled a 1\n",
      "Human player wins the round!\n",
      "Human player counter: 13\n",
      "Computer player counter: 7\n"
     ]
    },
    {
     "name": "stdin",
     "output_type": "stream",
     "text": [
      "Press Enter to start a new round... \n"
     ]
    },
    {
     "name": "stdout",
     "output_type": "stream",
     "text": [
      "Human player rolled a 4\n",
      "Computer player rolled a 5\n",
      "Computer player wins the round!\n",
      "Human player counter: 14\n",
      "Computer player counter: 6\n"
     ]
    },
    {
     "name": "stdin",
     "output_type": "stream",
     "text": [
      "Press Enter to start a new round... \n"
     ]
    },
    {
     "name": "stdout",
     "output_type": "stream",
     "text": [
      "Human player rolled a 2\n",
      "Computer player rolled a 4\n",
      "Computer player wins the round!\n",
      "Human player counter: 15\n",
      "Computer player counter: 5\n"
     ]
    },
    {
     "name": "stdin",
     "output_type": "stream",
     "text": [
      "Press Enter to start a new round... \n"
     ]
    },
    {
     "name": "stdout",
     "output_type": "stream",
     "text": [
      "Human player rolled a 6\n",
      "Computer player rolled a 1\n",
      "Human player wins the round!\n",
      "Human player counter: 14\n",
      "Computer player counter: 6\n"
     ]
    },
    {
     "name": "stdin",
     "output_type": "stream",
     "text": [
      "Press Enter to start a new round... \n"
     ]
    },
    {
     "name": "stdout",
     "output_type": "stream",
     "text": [
      "Human player rolled a 1\n",
      "Computer player rolled a 6\n",
      "Computer player wins the round!\n",
      "Human player counter: 15\n",
      "Computer player counter: 5\n"
     ]
    },
    {
     "name": "stdin",
     "output_type": "stream",
     "text": [
      "Press Enter to start a new round... \n"
     ]
    },
    {
     "name": "stdout",
     "output_type": "stream",
     "text": [
      "Human player rolled a 5\n",
      "Computer player rolled a 4\n",
      "Human player wins the round!\n",
      "Human player counter: 14\n",
      "Computer player counter: 6\n"
     ]
    },
    {
     "name": "stdin",
     "output_type": "stream",
     "text": [
      "Press Enter to start a new round... \n"
     ]
    },
    {
     "name": "stdout",
     "output_type": "stream",
     "text": [
      "Human player rolled a 5\n",
      "Computer player rolled a 4\n",
      "Human player wins the round!\n",
      "Human player counter: 13\n",
      "Computer player counter: 7\n"
     ]
    },
    {
     "name": "stdin",
     "output_type": "stream",
     "text": [
      "Press Enter to start a new round... \n"
     ]
    },
    {
     "name": "stdout",
     "output_type": "stream",
     "text": [
      "Human player rolled a 1\n",
      "Computer player rolled a 6\n",
      "Computer player wins the round!\n",
      "Human player counter: 14\n",
      "Computer player counter: 6\n"
     ]
    },
    {
     "name": "stdin",
     "output_type": "stream",
     "text": [
      "Press Enter to start a new round... \n"
     ]
    },
    {
     "name": "stdout",
     "output_type": "stream",
     "text": [
      "Human player rolled a 1\n",
      "Computer player rolled a 4\n",
      "Computer player wins the round!\n",
      "Human player counter: 15\n",
      "Computer player counter: 5\n"
     ]
    },
    {
     "name": "stdin",
     "output_type": "stream",
     "text": [
      "Press Enter to start a new round... \n"
     ]
    },
    {
     "name": "stdout",
     "output_type": "stream",
     "text": [
      "Human player rolled a 6\n",
      "Computer player rolled a 6\n",
      "It's a tie!\n",
      "Human player counter: 15\n",
      "Computer player counter: 5\n"
     ]
    },
    {
     "name": "stdin",
     "output_type": "stream",
     "text": [
      "Press Enter to start a new round... \n"
     ]
    },
    {
     "name": "stdout",
     "output_type": "stream",
     "text": [
      "Human player rolled a 3\n",
      "Computer player rolled a 6\n",
      "Computer player wins the round!\n",
      "Human player counter: 16\n",
      "Computer player counter: 4\n"
     ]
    },
    {
     "name": "stdin",
     "output_type": "stream",
     "text": [
      "Press Enter to start a new round... \n"
     ]
    },
    {
     "name": "stdout",
     "output_type": "stream",
     "text": [
      "Human player rolled a 3\n",
      "Computer player rolled a 1\n",
      "Human player wins the round!\n",
      "Human player counter: 15\n",
      "Computer player counter: 5\n"
     ]
    },
    {
     "name": "stdin",
     "output_type": "stream",
     "text": [
      "Press Enter to start a new round... \n"
     ]
    },
    {
     "name": "stdout",
     "output_type": "stream",
     "text": [
      "Human player rolled a 6\n",
      "Computer player rolled a 6\n",
      "It's a tie!\n",
      "Human player counter: 15\n",
      "Computer player counter: 5\n"
     ]
    },
    {
     "name": "stdin",
     "output_type": "stream",
     "text": [
      "Press Enter to start a new round... \n"
     ]
    },
    {
     "name": "stdout",
     "output_type": "stream",
     "text": [
      "Human player rolled a 6\n",
      "Computer player rolled a 3\n",
      "Human player wins the round!\n",
      "Human player counter: 14\n",
      "Computer player counter: 6\n"
     ]
    },
    {
     "name": "stdin",
     "output_type": "stream",
     "text": [
      "Press Enter to start a new round... \n"
     ]
    },
    {
     "name": "stdout",
     "output_type": "stream",
     "text": [
      "Human player rolled a 2\n",
      "Computer player rolled a 4\n",
      "Computer player wins the round!\n",
      "Human player counter: 15\n",
      "Computer player counter: 5\n"
     ]
    },
    {
     "name": "stdin",
     "output_type": "stream",
     "text": [
      "Press Enter to start a new round... \n"
     ]
    },
    {
     "name": "stdout",
     "output_type": "stream",
     "text": [
      "Human player rolled a 4\n",
      "Computer player rolled a 3\n",
      "Human player wins the round!\n",
      "Human player counter: 14\n",
      "Computer player counter: 6\n"
     ]
    },
    {
     "name": "stdin",
     "output_type": "stream",
     "text": [
      "Press Enter to start a new round... \n"
     ]
    },
    {
     "name": "stdout",
     "output_type": "stream",
     "text": [
      "Human player rolled a 5\n",
      "Computer player rolled a 4\n",
      "Human player wins the round!\n",
      "Human player counter: 13\n",
      "Computer player counter: 7\n"
     ]
    },
    {
     "name": "stdin",
     "output_type": "stream",
     "text": [
      "Press Enter to start a new round... \n"
     ]
    },
    {
     "name": "stdout",
     "output_type": "stream",
     "text": [
      "Human player rolled a 4\n",
      "Computer player rolled a 6\n",
      "Computer player wins the round!\n",
      "Human player counter: 14\n",
      "Computer player counter: 6\n"
     ]
    },
    {
     "name": "stdin",
     "output_type": "stream",
     "text": [
      "Press Enter to start a new round... \n"
     ]
    },
    {
     "name": "stdout",
     "output_type": "stream",
     "text": [
      "Human player rolled a 4\n",
      "Computer player rolled a 3\n",
      "Human player wins the round!\n",
      "Human player counter: 13\n",
      "Computer player counter: 7\n"
     ]
    },
    {
     "name": "stdin",
     "output_type": "stream",
     "text": [
      "Press Enter to start a new round... \n"
     ]
    },
    {
     "name": "stdout",
     "output_type": "stream",
     "text": [
      "Human player rolled a 2\n",
      "Computer player rolled a 1\n",
      "Human player wins the round!\n",
      "Human player counter: 12\n",
      "Computer player counter: 8\n"
     ]
    },
    {
     "name": "stdin",
     "output_type": "stream",
     "text": [
      "Press Enter to start a new round... \n"
     ]
    },
    {
     "name": "stdout",
     "output_type": "stream",
     "text": [
      "Human player rolled a 6\n",
      "Computer player rolled a 1\n",
      "Human player wins the round!\n",
      "Human player counter: 11\n",
      "Computer player counter: 9\n"
     ]
    },
    {
     "name": "stdin",
     "output_type": "stream",
     "text": [
      "Press Enter to start a new round... \n"
     ]
    },
    {
     "name": "stdout",
     "output_type": "stream",
     "text": [
      "Human player rolled a 6\n",
      "Computer player rolled a 2\n",
      "Human player wins the round!\n",
      "Human player counter: 10\n",
      "Computer player counter: 10\n"
     ]
    },
    {
     "name": "stdin",
     "output_type": "stream",
     "text": [
      "Press Enter to start a new round... \n"
     ]
    },
    {
     "name": "stdout",
     "output_type": "stream",
     "text": [
      "Human player rolled a 6\n",
      "Computer player rolled a 1\n",
      "Human player wins the round!\n",
      "Human player counter: 9\n",
      "Computer player counter: 11\n"
     ]
    },
    {
     "name": "stdin",
     "output_type": "stream",
     "text": [
      "Press Enter to start a new round... \n"
     ]
    },
    {
     "name": "stdout",
     "output_type": "stream",
     "text": [
      "Human player rolled a 6\n",
      "Computer player rolled a 4\n",
      "Human player wins the round!\n",
      "Human player counter: 8\n",
      "Computer player counter: 12\n"
     ]
    },
    {
     "name": "stdin",
     "output_type": "stream",
     "text": [
      "Press Enter to start a new round... \n"
     ]
    },
    {
     "name": "stdout",
     "output_type": "stream",
     "text": [
      "Human player rolled a 3\n",
      "Computer player rolled a 3\n",
      "It's a tie!\n",
      "Human player counter: 8\n",
      "Computer player counter: 12\n"
     ]
    },
    {
     "name": "stdin",
     "output_type": "stream",
     "text": [
      "Press Enter to start a new round... \n"
     ]
    },
    {
     "name": "stdout",
     "output_type": "stream",
     "text": [
      "Human player rolled a 1\n",
      "Computer player rolled a 3\n",
      "Computer player wins the round!\n",
      "Human player counter: 9\n",
      "Computer player counter: 11\n"
     ]
    },
    {
     "name": "stdin",
     "output_type": "stream",
     "text": [
      "Press Enter to start a new round... \n"
     ]
    },
    {
     "name": "stdout",
     "output_type": "stream",
     "text": [
      "Human player rolled a 5\n",
      "Computer player rolled a 6\n",
      "Computer player wins the round!\n",
      "Human player counter: 10\n",
      "Computer player counter: 10\n"
     ]
    },
    {
     "name": "stdin",
     "output_type": "stream",
     "text": [
      "Press Enter to start a new round... \n"
     ]
    },
    {
     "name": "stdout",
     "output_type": "stream",
     "text": [
      "Human player rolled a 3\n",
      "Computer player rolled a 1\n",
      "Human player wins the round!\n",
      "Human player counter: 9\n",
      "Computer player counter: 11\n"
     ]
    },
    {
     "name": "stdin",
     "output_type": "stream",
     "text": [
      "Press Enter to start a new round... \n"
     ]
    },
    {
     "name": "stdout",
     "output_type": "stream",
     "text": [
      "Human player rolled a 4\n",
      "Computer player rolled a 6\n",
      "Computer player wins the round!\n",
      "Human player counter: 10\n",
      "Computer player counter: 10\n"
     ]
    },
    {
     "name": "stdin",
     "output_type": "stream",
     "text": [
      "Press Enter to start a new round... \n"
     ]
    },
    {
     "name": "stdout",
     "output_type": "stream",
     "text": [
      "Human player rolled a 6\n",
      "Computer player rolled a 3\n",
      "Human player wins the round!\n",
      "Human player counter: 9\n",
      "Computer player counter: 11\n"
     ]
    },
    {
     "name": "stdin",
     "output_type": "stream",
     "text": [
      "Press Enter to start a new round... \n"
     ]
    },
    {
     "name": "stdout",
     "output_type": "stream",
     "text": [
      "Human player rolled a 3\n",
      "Computer player rolled a 1\n",
      "Human player wins the round!\n",
      "Human player counter: 8\n",
      "Computer player counter: 12\n"
     ]
    },
    {
     "name": "stdin",
     "output_type": "stream",
     "text": [
      "Press Enter to start a new round... \n"
     ]
    },
    {
     "name": "stdout",
     "output_type": "stream",
     "text": [
      "Human player rolled a 1\n",
      "Computer player rolled a 6\n",
      "Computer player wins the round!\n",
      "Human player counter: 9\n",
      "Computer player counter: 11\n"
     ]
    },
    {
     "name": "stdin",
     "output_type": "stream",
     "text": [
      "Press Enter to start a new round... \n"
     ]
    },
    {
     "name": "stdout",
     "output_type": "stream",
     "text": [
      "Human player rolled a 6\n",
      "Computer player rolled a 3\n",
      "Human player wins the round!\n",
      "Human player counter: 8\n",
      "Computer player counter: 12\n"
     ]
    },
    {
     "name": "stdin",
     "output_type": "stream",
     "text": [
      "Press Enter to start a new round... \n"
     ]
    },
    {
     "name": "stdout",
     "output_type": "stream",
     "text": [
      "Human player rolled a 1\n",
      "Computer player rolled a 4\n",
      "Computer player wins the round!\n",
      "Human player counter: 9\n",
      "Computer player counter: 11\n"
     ]
    },
    {
     "name": "stdin",
     "output_type": "stream",
     "text": [
      "Press Enter to start a new round... \n"
     ]
    },
    {
     "name": "stdout",
     "output_type": "stream",
     "text": [
      "Human player rolled a 4\n",
      "Computer player rolled a 5\n",
      "Computer player wins the round!\n",
      "Human player counter: 10\n",
      "Computer player counter: 10\n"
     ]
    },
    {
     "name": "stdin",
     "output_type": "stream",
     "text": [
      "Press Enter to start a new round... \n"
     ]
    },
    {
     "name": "stdout",
     "output_type": "stream",
     "text": [
      "Human player rolled a 4\n",
      "Computer player rolled a 1\n",
      "Human player wins the round!\n",
      "Human player counter: 9\n",
      "Computer player counter: 11\n"
     ]
    },
    {
     "name": "stdin",
     "output_type": "stream",
     "text": [
      "Press Enter to start a new round... \n"
     ]
    },
    {
     "name": "stdout",
     "output_type": "stream",
     "text": [
      "Human player rolled a 1\n",
      "Computer player rolled a 6\n",
      "Computer player wins the round!\n",
      "Human player counter: 10\n",
      "Computer player counter: 10\n"
     ]
    },
    {
     "name": "stdin",
     "output_type": "stream",
     "text": [
      "Press Enter to start a new round... \n"
     ]
    },
    {
     "name": "stdout",
     "output_type": "stream",
     "text": [
      "Human player rolled a 2\n",
      "Computer player rolled a 4\n",
      "Computer player wins the round!\n",
      "Human player counter: 11\n",
      "Computer player counter: 9\n"
     ]
    },
    {
     "name": "stdin",
     "output_type": "stream",
     "text": [
      "Press Enter to start a new round... \n"
     ]
    },
    {
     "name": "stdout",
     "output_type": "stream",
     "text": [
      "Human player rolled a 1\n",
      "Computer player rolled a 2\n",
      "Computer player wins the round!\n",
      "Human player counter: 12\n",
      "Computer player counter: 8\n"
     ]
    },
    {
     "name": "stdin",
     "output_type": "stream",
     "text": [
      "Press Enter to start a new round... \n"
     ]
    },
    {
     "name": "stdout",
     "output_type": "stream",
     "text": [
      "Human player rolled a 6\n",
      "Computer player rolled a 2\n",
      "Human player wins the round!\n",
      "Human player counter: 11\n",
      "Computer player counter: 9\n"
     ]
    },
    {
     "name": "stdin",
     "output_type": "stream",
     "text": [
      "Press Enter to start a new round... \n"
     ]
    },
    {
     "name": "stdout",
     "output_type": "stream",
     "text": [
      "Human player rolled a 3\n",
      "Computer player rolled a 4\n",
      "Computer player wins the round!\n",
      "Human player counter: 12\n",
      "Computer player counter: 8\n"
     ]
    },
    {
     "name": "stdin",
     "output_type": "stream",
     "text": [
      "Press Enter to start a new round... \n"
     ]
    },
    {
     "name": "stdout",
     "output_type": "stream",
     "text": [
      "Human player rolled a 3\n",
      "Computer player rolled a 6\n",
      "Computer player wins the round!\n",
      "Human player counter: 13\n",
      "Computer player counter: 7\n"
     ]
    },
    {
     "name": "stdin",
     "output_type": "stream",
     "text": [
      "Press Enter to start a new round... \n"
     ]
    },
    {
     "name": "stdout",
     "output_type": "stream",
     "text": [
      "Human player rolled a 2\n",
      "Computer player rolled a 2\n",
      "It's a tie!\n",
      "Human player counter: 13\n",
      "Computer player counter: 7\n"
     ]
    },
    {
     "name": "stdin",
     "output_type": "stream",
     "text": [
      "Press Enter to start a new round... \n"
     ]
    },
    {
     "name": "stdout",
     "output_type": "stream",
     "text": [
      "Human player rolled a 1\n",
      "Computer player rolled a 1\n",
      "It's a tie!\n",
      "Human player counter: 13\n",
      "Computer player counter: 7\n"
     ]
    },
    {
     "name": "stdin",
     "output_type": "stream",
     "text": [
      "Press Enter to start a new round... \n"
     ]
    },
    {
     "name": "stdout",
     "output_type": "stream",
     "text": [
      "Human player rolled a 4\n",
      "Computer player rolled a 5\n",
      "Computer player wins the round!\n",
      "Human player counter: 14\n",
      "Computer player counter: 6\n"
     ]
    },
    {
     "name": "stdin",
     "output_type": "stream",
     "text": [
      "Press Enter to start a new round... \n"
     ]
    },
    {
     "name": "stdout",
     "output_type": "stream",
     "text": [
      "Human player rolled a 2\n",
      "Computer player rolled a 5\n",
      "Computer player wins the round!\n",
      "Human player counter: 15\n",
      "Computer player counter: 5\n"
     ]
    },
    {
     "name": "stdin",
     "output_type": "stream",
     "text": [
      "Press Enter to start a new round... \n"
     ]
    },
    {
     "name": "stdout",
     "output_type": "stream",
     "text": [
      "Human player rolled a 5\n",
      "Computer player rolled a 6\n",
      "Computer player wins the round!\n",
      "Human player counter: 16\n",
      "Computer player counter: 4\n"
     ]
    },
    {
     "name": "stdin",
     "output_type": "stream",
     "text": [
      "Press Enter to start a new round... \n"
     ]
    },
    {
     "name": "stdout",
     "output_type": "stream",
     "text": [
      "Human player rolled a 3\n",
      "Computer player rolled a 5\n",
      "Computer player wins the round!\n",
      "Human player counter: 17\n",
      "Computer player counter: 3\n"
     ]
    },
    {
     "name": "stdin",
     "output_type": "stream",
     "text": [
      "Press Enter to start a new round... \n"
     ]
    },
    {
     "name": "stdout",
     "output_type": "stream",
     "text": [
      "Human player rolled a 2\n",
      "Computer player rolled a 5\n",
      "Computer player wins the round!\n",
      "Human player counter: 18\n",
      "Computer player counter: 2\n"
     ]
    },
    {
     "name": "stdin",
     "output_type": "stream",
     "text": [
      "Press Enter to start a new round... \n"
     ]
    },
    {
     "name": "stdout",
     "output_type": "stream",
     "text": [
      "Human player rolled a 1\n",
      "Computer player rolled a 1\n",
      "It's a tie!\n",
      "Human player counter: 18\n",
      "Computer player counter: 2\n"
     ]
    },
    {
     "name": "stdin",
     "output_type": "stream",
     "text": [
      "Press Enter to start a new round... \n"
     ]
    },
    {
     "name": "stdout",
     "output_type": "stream",
     "text": [
      "Human player rolled a 1\n",
      "Computer player rolled a 1\n",
      "It's a tie!\n",
      "Human player counter: 18\n",
      "Computer player counter: 2\n"
     ]
    },
    {
     "name": "stdin",
     "output_type": "stream",
     "text": [
      "Press Enter to start a new round... \n"
     ]
    },
    {
     "name": "stdout",
     "output_type": "stream",
     "text": [
      "Human player rolled a 2\n",
      "Computer player rolled a 3\n",
      "Computer player wins the round!\n",
      "Human player counter: 19\n",
      "Computer player counter: 1\n"
     ]
    },
    {
     "name": "stdin",
     "output_type": "stream",
     "text": [
      "Press Enter to start a new round... \n"
     ]
    },
    {
     "name": "stdout",
     "output_type": "stream",
     "text": [
      "Human player rolled a 2\n",
      "Computer player rolled a 6\n",
      "Computer player wins the round!\n",
      "Human player counter: 20\n",
      "Computer player counter: 0\n",
      "Computer player wins the game!\n"
     ]
    }
   ],
   "source": [
    "import random\n",
    "\n",
    "class Die:\n",
    "    def __init__(self):\n",
    "        self.value = None\n",
    "\n",
    "    def roll(self):\n",
    "        self.value = random.randint(1, 6)\n",
    "\n",
    "class Player:\n",
    "    def __init__(self, is_human):\n",
    "        self.die = Die()\n",
    "        self.is_human = is_human\n",
    "        self.counter = 10\n",
    "\n",
    "    def increment_counter(self):\n",
    "        self.counter += 1\n",
    "\n",
    "    def decrement_counter(self):\n",
    "        self.counter -= 1\n",
    "\n",
    "    def roll_die(self):\n",
    "        self.die.roll()\n",
    "\n",
    "class DiceGame:\n",
    "    def __init__(self):\n",
    "        self.human_player = Player(True)\n",
    "        self.computer_player = Player(False)\n",
    "\n",
    "    def start(self):\n",
    "        print(\"Welcome to the Dice Game!\")\n",
    "        while True:\n",
    "            self.play_round()\n",
    "            if self.is_game_over():\n",
    "                break\n",
    "        self.display_game_result()\n",
    "\n",
    "    def play_round(self):\n",
    "        input(\"Press Enter to start a new round...\")\n",
    "        self.human_player.roll_die()\n",
    "        self.computer_player.roll_die()\n",
    "        print(f\"Human player rolled a {self.human_player.die.value}\")\n",
    "        print(f\"Computer player rolled a {self.computer_player.die.value}\")\n",
    "\n",
    "        if self.human_player.die.value > self.computer_player.die.value:\n",
    "            print(\"Human player wins the round!\")\n",
    "            self.computer_player.increment_counter()\n",
    "            self.human_player.decrement_counter()\n",
    "        elif self.human_player.die.value < self.computer_player.die.value:\n",
    "            print(\"Computer player wins the round!\")\n",
    "            self.human_player.increment_counter()\n",
    "            self.computer_player.decrement_counter()\n",
    "        else:\n",
    "            print(\"It's a tie!\")\n",
    "\n",
    "        print(f\"Human player counter: {self.human_player.counter}\")\n",
    "        print(f\"Computer player counter: {self.computer_player.counter}\")\n",
    "\n",
    "    def is_game_over(self):\n",
    "        return self.human_player.counter == 0 or self.computer_player.counter == 0\n",
    "\n",
    "    def display_game_result(self):\n",
    "        if self.human_player.counter == 0:\n",
    "            print(\"Human player wins the game!\n",
    "            \")\n",
    "        else:\n",
    "            print(\"Computer player wins the game!\")\n",
    "\n",
    "if __name__ == \"__main__\":\n",
    "    game = DiceGame()\n",
    "    game.start()\n"
   ]
  },
  {
   "cell_type": "code",
   "execution_count": null,
   "id": "2c1f602a-146b-4101-b5fb-1ea5a1795dfa",
   "metadata": {},
   "outputs": [],
   "source": []
  }
 ],
 "metadata": {
  "kernelspec": {
   "display_name": "Python 3 (ipykernel)",
   "language": "python",
   "name": "python3"
  },
  "language_info": {
   "codemirror_mode": {
    "name": "ipython",
    "version": 3
   },
   "file_extension": ".py",
   "mimetype": "text/x-python",
   "name": "python",
   "nbconvert_exporter": "python",
   "pygments_lexer": "ipython3",
   "version": "3.11.4"
  }
 },
 "nbformat": 4,
 "nbformat_minor": 5
}

{
 "cells": [
  {
   "cell_type": "code",
   "execution_count": 1,
   "id": "2f366a72",
   "metadata": {},
   "outputs": [
    {
     "name": "stdout",
     "output_type": "stream",
     "text": [
      "enter the string to convert to lowerADHgh\n",
      "adhgh\n"
     ]
    }
   ],
   "source": [
    "#lower()\n",
    "\n",
    "\n",
    "s=input(\"enter the string to convert to lower\")\n",
    "res=\"\"\n",
    "for i in s:\n",
    "    \n",
    "    v=ord(i)\n",
    "    if 65<=v<=90:\n",
    "        c=v+32\n",
    "        res+=chr(c)\n",
    "    else:\n",
    "        res+=chr(v)\n",
    "print(res)"
   ]
  },
  {
   "cell_type": "code",
   "execution_count": 2,
   "id": "e4a92c56",
   "metadata": {},
   "outputs": [
    {
     "name": "stdout",
     "output_type": "stream",
     "text": [
      "enter the string to convert to uppersdfgGG\n",
      "SDFGGG\n"
     ]
    }
   ],
   "source": [
    "#upper()\n",
    "\n",
    "s=input(\"enter the string to convert to upper\")\n",
    "res=\"\"\n",
    "for i in s:\n",
    "    \n",
    "    v=ord(i)\n",
    "    if 97<=v<=122:\n",
    "        c=v-32\n",
    "        res+=chr(c)\n",
    "    else:\n",
    "        res+=chr(v)\n",
    "print(res)"
   ]
  },
  {
   "cell_type": "code",
   "execution_count": 3,
   "id": "969ee4b1",
   "metadata": {},
   "outputs": [
    {
     "name": "stdout",
     "output_type": "stream",
     "text": [
      "enter the string to convert to capitalize: sujitha Ran is a good girl\n",
      "Sujitha ran is a good girl\n"
     ]
    }
   ],
   "source": [
    "#capitalize\n",
    "\n",
    "s=input(\"enter the string to convert to capitalize: \")\n",
    "res=\"\"\n",
    "start=ord(s[0])\n",
    "for i in range(len(s)):\n",
    "    e=s[i]\n",
    "    v=ord(e)\n",
    "    if 97<=v<=122 and i==0:\n",
    "        c=v-32\n",
    "        res+=chr(c)\n",
    "    elif 65<=v<=90 :\n",
    "        c=v+32\n",
    "        res+=chr(c)\n",
    "    else:\n",
    "        res+=chr(v)\n",
    "print(res)"
   ]
  },
  {
   "cell_type": "code",
   "execution_count": 4,
   "id": "bd96f239",
   "metadata": {},
   "outputs": [
    {
     "name": "stdout",
     "output_type": "stream",
     "text": [
      "enter a string to check whether upper or not: SFGH\n",
      "True\n"
     ]
    }
   ],
   "source": [
    "#isupper()\n",
    "\n",
    "s=input(\"enter a string to check whether upper or not: \")\n",
    "c=0\n",
    "l=len(s)\n",
    "for i in s:\n",
    "    v=ord(i)\n",
    "    if 65<=v<=90:\n",
    "        c+=1\n",
    "if c==l:\n",
    "    print(\"True\")\n",
    "else:\n",
    "    print(\"False\")"
   ]
  },
  {
   "cell_type": "code",
   "execution_count": 5,
   "id": "83aad972",
   "metadata": {},
   "outputs": [
    {
     "name": "stdout",
     "output_type": "stream",
     "text": [
      "enter a string to check whether lower or not: sdfgh\n",
      "True\n"
     ]
    }
   ],
   "source": [
    "#islower()\n",
    "\n",
    "s=input(\"enter a string to check whether lower or not: \")\n",
    "c=0\n",
    "l=len(s)\n",
    "for i in s:\n",
    "    v=ord(i)\n",
    "    if 97<=v<=122:\n",
    "        c+=1\n",
    "if c==l:\n",
    "    print(\"True\")\n",
    "else:\n",
    "    print(\"False\")"
   ]
  },
  {
   "cell_type": "code",
   "execution_count": 6,
   "id": "92716583",
   "metadata": {},
   "outputs": [
    {
     "name": "stdout",
     "output_type": "stream",
     "text": [
      "enter a string to check whether digit or not: 1234\n",
      "True\n"
     ]
    }
   ],
   "source": [
    "#isdigit()\n",
    "\n",
    "s=input(\"enter a string to check whether digit or not: \")\n",
    "c=0\n",
    "l=len(s)\n",
    "for i in s:\n",
    "    v=ord(i)\n",
    "    if 48<=v<=57:\n",
    "        c+=1\n",
    "if c==l:\n",
    "    print(\"True\")\n",
    "else:\n",
    "    print(\"False\")"
   ]
  },
  {
   "cell_type": "code",
   "execution_count": 7,
   "id": "be657e9c",
   "metadata": {},
   "outputs": [
    {
     "name": "stdout",
     "output_type": "stream",
     "text": [
      "ener the string: sujitha\n",
      "enter the element or seq of elements to replace with : j\n",
      "enter the element or string to replace : i\n",
      "suiitha\n"
     ]
    }
   ],
   "source": [
    "#replace single element\n",
    "s=input(\"ener the string: \")\n",
    "r1=input(\"enter the element or seq of elements to replace with : \")\n",
    "r2=input(\"enter the element or string to replace : \")\n",
    "res=\"\"\n",
    "for i in range(len(s)):\n",
    "    if s[i]==r1:\n",
    "        res+=r2\n",
    "    else:\n",
    "        res+=s[i]\n",
    "print(res)"
   ]
  },
  {
   "cell_type": "code",
   "execution_count": 9,
   "id": "b575c05c",
   "metadata": {},
   "outputs": [
    {
     "name": "stdout",
     "output_type": "stream",
     "text": [
      "Enter the string: sujitha rani\n",
      "Enter the substring to replace: rani\n",
      "Enter the replacement substring: j\n",
      "sujitha j\n"
     ]
    }
   ],
   "source": [
    "#replace sequence of elements\n",
    "\n",
    "\n",
    "s = input(\"Enter the string: \")\n",
    "r1 = input(\"Enter the substring to replace: \")\n",
    "r2 = input(\"Enter the replacement substring: \")\n",
    "\n",
    "res = \"\"\n",
    "i = 0\n",
    "\n",
    "while i < len(s):\n",
    "    if s[i:i+len(r1)] == r1:\n",
    "        res += r2\n",
    "        i += len(r1)\n",
    "    else:\n",
    "        res += s[i]\n",
    "        i += 1\n",
    "\n",
    "print(res)"
   ]
  },
  {
   "cell_type": "code",
   "execution_count": 11,
   "id": "b380707e",
   "metadata": {},
   "outputs": [
    {
     "name": "stdout",
     "output_type": "stream",
     "text": [
      "enter the string to convert to title : sujitha rani from kadapa\n",
      "Sujitha Rani From Kadapa\n"
     ]
    }
   ],
   "source": [
    "#title\n",
    "\n",
    "s=input(\"enter the string to convert to title : \")\n",
    "res=\"\"\n",
    "start=ord(s[0])\n",
    "for i in range(len(s)):\n",
    "    e=s[i]\n",
    "    v=ord(e)\n",
    "    if 97<=v<=122 and i==0 or s[i-1]==\" \":\n",
    "        c=v-32\n",
    "        res+=chr(c)\n",
    "    elif 65<=v<=90 :\n",
    "        c=v+32\n",
    "        res+=chr(c)\n",
    "    else:\n",
    "        res+=chr(v)\n",
    "print(res)"
   ]
  },
  {
   "cell_type": "code",
   "execution_count": null,
   "id": "f4cd187e",
   "metadata": {},
   "outputs": [],
   "source": []
  }
 ],
 "metadata": {
  "kernelspec": {
   "display_name": "Python 3 (ipykernel)",
   "language": "python",
   "name": "python3"
  },
  "language_info": {
   "codemirror_mode": {
    "name": "ipython",
    "version": 3
   },
   "file_extension": ".py",
   "mimetype": "text/x-python",
   "name": "python",
   "nbconvert_exporter": "python",
   "pygments_lexer": "ipython3",
   "version": "3.11.3"
  }
 },
 "nbformat": 4,
 "nbformat_minor": 5
}

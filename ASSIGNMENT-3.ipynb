{
 "cells": [
  {
   "cell_type": "code",
   "execution_count": 1,
   "id": "d3a23986",
   "metadata": {},
   "outputs": [
    {
     "name": "stdout",
     "output_type": "stream",
     "text": [
      "1\n",
      "22\n",
      "333\n",
      "4444\n",
      "55555\n"
     ]
    }
   ],
   "source": [
    "#a) \n",
    "\n",
    "#1  \n",
    "#2 2  \n",
    "#3 3 3  \n",
    "#4 4 4 4  \n",
    "#5 5 5 5 5\n",
    "\n",
    "n=6\n",
    "for i in range(1,n):\n",
    "    print(str(i)*i)"
   ]
  },
  {
   "cell_type": "code",
   "execution_count": 3,
   "id": "773794d7",
   "metadata": {},
   "outputs": [
    {
     "name": "stdout",
     "output_type": "stream",
     "text": [
      "1\n",
      "12\n",
      "123\n",
      "1234\n",
      "12345\n"
     ]
    }
   ],
   "source": [
    "#B\n",
    "\n",
    "#1\n",
    "#12\n",
    "#123\n",
    "#1234\n",
    "#12345\n",
    "\n",
    "\n",
    "n=6\n",
    "result=\"\"\n",
    "for i in range(1,n):\n",
    "    result+=str(i)\n",
    "    print(result)"
   ]
  },
  {
   "cell_type": "code",
   "execution_count": 8,
   "id": "50933e8b",
   "metadata": {},
   "outputs": [
    {
     "name": "stdout",
     "output_type": "stream",
     "text": [
      "11111\n",
      "2222\n",
      "333\n",
      "44\n",
      "5\n",
      "\n"
     ]
    }
   ],
   "source": [
    "#c)\n",
    "#1 1 1 1 1 \n",
    "#2 2 2 2 \n",
    "#3 3 3 \n",
    "#4 4 \n",
    "#5\n",
    "\n",
    "n=6\n",
    "for i in range(1,n+1):\n",
    "    print(str(i)*(n-i))"
   ]
  },
  {
   "cell_type": "code",
   "execution_count": 10,
   "id": "ae78aa99",
   "metadata": {},
   "outputs": [
    {
     "name": "stdout",
     "output_type": "stream",
     "text": [
      "55555\n",
      "5555\n",
      "555\n",
      "55\n",
      "5\n"
     ]
    }
   ],
   "source": [
    "#D\n",
    "\n",
    "#5 5 5 5 5 \n",
    "#5 5 5 5 \n",
    "#5 5 5 \n",
    "#5 5 \n",
    "#5\n",
    "\n",
    "n=5\n",
    "for i in range(n):\n",
    "    print(str(n)*(n-i))"
   ]
  },
  {
   "cell_type": "code",
   "execution_count": 6,
   "id": "e380a3c2",
   "metadata": {},
   "outputs": [
    {
     "name": "stdout",
     "output_type": "stream",
     "text": [
      " 0 1 2 3 4 5 \n",
      " 0 1 2 3 4 \n",
      " 0 1 2 3 \n",
      " 0 1 2 \n",
      " 0 1 \n"
     ]
    }
   ],
   "source": [
    "#E\n",
    "#0 1 2 3 4 5 \n",
    "#0 1 2 3 4 \n",
    "#0 1 2 3 \n",
    "#0 1 2 \n",
    "#0 1\n",
    "\n",
    "n=5\n",
    "result=\" \"\n",
    "for i in range(n,0,-1):\n",
    "    for j in range(0,i+1):\n",
    "        result=result+str(j)+\" \"\n",
    "    print(result)\n",
    "    result=\" \"\n",
    "    "
   ]
  },
  {
   "cell_type": "code",
   "execution_count": 12,
   "id": "e8d0b88b",
   "metadata": {},
   "outputs": [
    {
     "name": "stdout",
     "output_type": "stream",
     "text": [
      "1\n",
      "33\n",
      "555\n",
      "7777\n",
      "99999\n"
     ]
    }
   ],
   "source": [
    "#F)\n",
    "#1 \n",
    "#3 3 \n",
    "#5 5 5 \n",
    "#7 7 7 7 \n",
    "#9 9 9 9 9\n",
    "  \n",
    "    \n",
    "n=10\n",
    "x=1\n",
    "for i in range(n):\n",
    "    if(i%2!=0):\n",
    "        print(str(i)*x)\n",
    "        x=x+1"
   ]
  },
  {
   "cell_type": "code",
   "execution_count": 5,
   "id": "d47836df",
   "metadata": {},
   "outputs": [
    {
     "name": "stdout",
     "output_type": "stream",
     "text": [
      "55555\n",
      "4444\n",
      "333\n",
      "22\n",
      "1\n"
     ]
    }
   ],
   "source": [
    "#G)\n",
    "#5 5 5 5 5 \n",
    "#4 4 4 4 \n",
    "#3 3 3 \n",
    "#2 2 \n",
    "#1\n",
    "\n",
    "\n",
    "n=5\n",
    "res=\" \"\n",
    "for i in range(n,0,-1):\n",
    "    res=str(i)*i\n",
    "    print(res)\n",
    "    "
   ]
  },
  {
   "cell_type": "code",
   "execution_count": 3,
   "id": "0951a9c0",
   "metadata": {},
   "outputs": [
    {
     "name": "stdout",
     "output_type": "stream",
     "text": [
      "1  \n",
      "2 1  \n",
      "3 2 1  \n",
      "4 3 2 1  \n",
      "5 4 3 2 1  \n"
     ]
    }
   ],
   "source": [
    "#H\n",
    "\n",
    "#1 \n",
    "#2 1 \n",
    "#3 2 1 \n",
    "#4 3 2 1 \n",
    "#5 4 3 2 1\n",
    "\n",
    "\n",
    "n=6\n",
    "res=\" \"\n",
    "for i in range(1,n):\n",
    "    res=str(i)+\" \"+res\n",
    "    print(res)"
   ]
  },
  {
   "cell_type": "code",
   "execution_count": 34,
   "id": "e1be9790",
   "metadata": {},
   "outputs": [
    {
     "name": "stdout",
     "output_type": "stream",
     "text": [
      " 5 4 3 2 1 \n",
      " 4 3 2 1 \n",
      " 3 2 1 \n",
      " 2 1 \n",
      " 1 \n"
     ]
    }
   ],
   "source": [
    "#I)\n",
    "\n",
    "#5 4 3 2 1 \n",
    "#4 3 2 1 \n",
    "#3 2 1 \n",
    "#2 1 \n",
    "#1\n",
    "\n",
    "\n",
    "n=5\n",
    "x=1\n",
    "result=\" \"\n",
    "for i in range(n,0,-1):\n",
    "    for j in range(i,0,-1):\n",
    "        result=result+str(j)+\" \"\n",
    "    print(result)\n",
    "    result=\" \""
   ]
  },
  {
   "cell_type": "code",
   "execution_count": 49,
   "id": "739f8a80",
   "metadata": {},
   "outputs": [
    {
     "name": "stdout",
     "output_type": "stream",
     "text": [
      "1 \n",
      "32 \n",
      "654 \n",
      "10987 \n"
     ]
    }
   ],
   "source": [
    "#J\n",
    "#1\n",
    "#3 2\n",
    "#6 5 4\n",
    "#10 9 8 7\n",
    "\n",
    "n=1 \n",
    "m=2\n",
    "res=m\n",
    "for i in range(2,6):\n",
    "    for j in range(n,m):\n",
    "        res=res-1\n",
    "        print(res,end='')\n",
    "    print(\" \")\n",
    "    n=m\n",
    "    m=m+i\n",
    "    res=m"
   ]
  },
  {
   "cell_type": "code",
   "execution_count": 51,
   "id": "633c7f5d",
   "metadata": {},
   "outputs": [
    {
     "name": "stdout",
     "output_type": "stream",
     "text": [
      "          1 \n",
      "        1 2 \n",
      "      1 2 3 \n",
      "    1 2 3 4 \n",
      "  1 2 3 4 5 \n"
     ]
    }
   ],
   "source": [
    "#k)\n",
    "#         1 \n",
    "#       1 2 \n",
    "#     1 2 3 \n",
    "#   1 2 3 4 \n",
    "# 1 2 3 4 5\n",
    "\n",
    "n=5\n",
    "for i  in range(n):\n",
    "    p=1\n",
    "    for j  in range(i,n):\n",
    "        print(\" \",end=' ')\n",
    "    for j in range(i+1):\n",
    "        print(p,end=' ')\n",
    "        p=p+1\n",
    "    print()"
   ]
  },
  {
   "cell_type": "code",
   "execution_count": 53,
   "id": "9c179f3a",
   "metadata": {},
   "outputs": [
    {
     "name": "stdout",
     "output_type": "stream",
     "text": [
      "* \n",
      "* * \n",
      "* * * \n",
      "* * * * \n",
      "* * * * * \n"
     ]
    }
   ],
   "source": [
    "#O)\n",
    "#* \n",
    "#* * \n",
    "#* * * \n",
    "#* * * * \n",
    "#* * * * * \n",
    "\n",
    "n=5\n",
    "for i in range(n):\n",
    "    for j in range(i+1):\n",
    "        print(\"*\",end=\" \")\n",
    "    print()"
   ]
  },
  {
   "cell_type": "code",
   "execution_count": 54,
   "id": "87595be1",
   "metadata": {},
   "outputs": [
    {
     "name": "stdout",
     "output_type": "stream",
     "text": [
      "          * \n",
      "        * * \n",
      "      * * * \n",
      "    * * * * \n",
      "  * * * * * \n"
     ]
    }
   ],
   "source": [
    "#p)\n",
    "#        * \n",
    "#      * * \n",
    "#    * * * \n",
    "#  * * * * \n",
    "#* * * * * \n",
    "\n",
    "n=5\n",
    "for i in range(n):\n",
    "    for j in range(i,n):\n",
    "        print(\" \",end=\" \")\n",
    "    for j in range(i+1):\n",
    "        print(\"*\",end=\" \")\n",
    "    print()"
   ]
  },
  {
   "cell_type": "code",
   "execution_count": 55,
   "id": "384f319d",
   "metadata": {},
   "outputs": [
    {
     "name": "stdout",
     "output_type": "stream",
     "text": [
      "* * * * * \n",
      "* * * * \n",
      "* * * \n",
      "* * \n",
      "* \n"
     ]
    }
   ],
   "source": [
    "#Q)\n",
    "#* * * * *  \n",
    "#* * * *  \n",
    "#* * *  \n",
    "#* *  \n",
    "#*\n",
    "\n",
    "n=5\n",
    "for i in range(n):\n",
    "    for j in range(i,n):\n",
    "        print(\"*\",end=\" \")\n",
    "    print()"
   ]
  },
  {
   "cell_type": "code",
   "execution_count": 70,
   "id": "df9602a1",
   "metadata": {},
   "outputs": [
    {
     "name": "stdout",
     "output_type": "stream",
     "text": [
      "   *   *   *   *   *   *  \n",
      "     *   *   *   *   *  \n",
      "       *   *   *   *  \n",
      "         *   *   *  \n",
      "           *   *  \n",
      "             *  \n"
     ]
    }
   ],
   "source": [
    "#R\n",
    "\n",
    "        #* * * * * * \n",
    "        # * * * * * \n",
    "         # * * * * \n",
    "          # * * * \n",
    "           # * * \n",
    "            # * \n",
    "            \n",
    "n=6\n",
    "for i in range(6):\n",
    "    for j in range(i+1):\n",
    "        print(\" \",end=\" \")\n",
    "    for j in range(i,n):\n",
    "        print(\" * \",end=\" \")\n",
    "    print()\n"
   ]
  },
  {
   "cell_type": "code",
   "execution_count": 71,
   "id": "7ff3fcb0",
   "metadata": {},
   "outputs": [
    {
     "name": "stdout",
     "output_type": "stream",
     "text": [
      "  * * * * * \n",
      "    * * * * \n",
      "      * * * \n",
      "        * * \n",
      "          * \n"
     ]
    }
   ],
   "source": [
    "#S)\n",
    "#*****\n",
    "# ****\n",
    "#  ***\n",
    "#   **\n",
    "#    *\n",
    "\n",
    "n=5\n",
    "for i in range(n):\n",
    "    for j in range(i+1):\n",
    "        print(\" \",end=\" \")\n",
    "    for j in range(i,n):\n",
    "        print(\"*\",end=\" \")\n",
    "    print()\n"
   ]
  },
  {
   "cell_type": "code",
   "execution_count": 72,
   "id": "2142a84a",
   "metadata": {},
   "outputs": [
    {
     "name": "stdout",
     "output_type": "stream",
     "text": [
      "               *  \n",
      "             *   *  \n",
      "           *   *   *  \n",
      "         *   *   *   *  \n",
      "       *   *   *   *   *  \n",
      "     *   *   *   *   *   *  \n",
      "   *   *   *   *   *   *   *  \n"
     ]
    }
   ],
   "source": [
    "#T)\n",
    "            #*   \n",
    "          # *  *   \n",
    "          #*  *  *   \n",
    "         #*  *  *  *   \n",
    "        #*  *  *  *  *   \n",
    "       #*  *  *  *  *  *   \n",
    "      #*  *  *  *  *  *  *   \n",
    "\n",
    "n=7\n",
    "for i in range(n):\n",
    "    for j in range(i,n):\n",
    "        print(\" \",end=\" \")\n",
    "    for j in range(i+1):\n",
    "        print(\" * \",end=\" \")\n",
    "    print()\n"
   ]
  },
  {
   "cell_type": "code",
   "execution_count": 75,
   "id": "01da757a",
   "metadata": {},
   "outputs": [
    {
     "name": "stdout",
     "output_type": "stream",
     "text": [
      "* \n",
      "* * \n",
      "* * * \n",
      "* * * * \n",
      "* * * * * \n",
      "* * * * * * \n",
      " \n",
      "* * * * * * \n",
      "* * * * * \n",
      "* * * * \n",
      "* * * \n",
      "* * \n",
      "* \n"
     ]
    }
   ],
   "source": [
    "#U\n",
    "#*  \n",
    "#* *  \n",
    "#* * *  \n",
    "#* * * *  \n",
    "#* * * * *  \n",
    "#* * * * * *  \n",
    " \n",
    "#* * * * * *  \n",
    "#* * * * *  \n",
    "#* * * *  \n",
    "#* * *  \n",
    "#* *  \n",
    "#*  \n",
    "\n",
    "n=6\n",
    "for i in range(n):\n",
    "    for j in range(i+1):\n",
    "        print(\"*\",end=\" \")\n",
    "    print()\n",
    "print(\" \")\n",
    "for i in range(n):\n",
    "    for j in range(i,n):\n",
    "        print(\"*\",end=\" \")\n",
    "    print()\n"
   ]
  },
  {
   "cell_type": "code",
   "execution_count": 78,
   "id": "95636b0e",
   "metadata": {},
   "outputs": [
    {
     "name": "stdout",
     "output_type": "stream",
     "text": [
      "* \n",
      "* * \n",
      "* * * \n",
      "* * * * \n",
      "* * * * * \n",
      "* * * * \n",
      "* * * \n",
      "* * \n",
      "* \n"
     ]
    }
   ],
   "source": [
    "#V\n",
    "#* \n",
    "#* * \n",
    "#* * * \n",
    "#* * * * \n",
    "#* * * * * \n",
    "#* * * * \n",
    "#* * * \n",
    "#* * \n",
    "#* \n",
    "\n",
    "n=5\n",
    "for i in range(n):\n",
    "    for j in range(i+1):\n",
    "        print(\"*\",end=\" \")\n",
    "    print()\n",
    "for i in range(n-1):\n",
    "    for j in range(i,n-1):\n",
    "        print(\"*\",end=\" \")\n",
    "    print()\n"
   ]
  },
  {
   "cell_type": "code",
   "execution_count": 81,
   "id": "47705f19",
   "metadata": {},
   "outputs": [
    {
     "name": "stdout",
     "output_type": "stream",
     "text": [
      "        * \n",
      "      * * \n",
      "    * * * \n",
      "  * * * * \n",
      "* * * * * \n",
      "  * * * * \n",
      "    * * * \n",
      "      * * \n",
      "        * \n",
      "          \n"
     ]
    }
   ],
   "source": [
    "#W)\n",
    "\n",
    "#        * \n",
    "#      * * \n",
    "#    * * * \n",
    "#  * * * * \n",
    "#* * * * * \n",
    " # * * * * \n",
    "  #  * * * \n",
    "   #   * * \n",
    "   #     * \n",
    "\n",
    "n=5\n",
    "for i in range(n):\n",
    "    for j in range(i,n-1):\n",
    "        print(\" \",end=\" \")\n",
    "    for j in range(i+1):\n",
    "        print(\"*\",end=\" \")\n",
    "    print()\n",
    "for i in range(n):\n",
    "    for j in range(i+1):\n",
    "        print(\" \",end=\" \")\n",
    "    for j in range(i,n-1):\n",
    "        print(\"*\",end=\" \")\n",
    "    print()\n"
   ]
  },
  {
   "cell_type": "code",
   "execution_count": 88,
   "id": "1b78531a",
   "metadata": {},
   "outputs": [
    {
     "name": "stdout",
     "output_type": "stream",
     "text": [
      " * * * * * \n",
      "  * * * * \n",
      "   * * * \n",
      "    * * \n",
      "     * \n",
      "     * \n",
      "    * * \n",
      "   * * * \n",
      "  * * * * \n",
      " * * * * * \n"
     ]
    }
   ],
   "source": [
    "#X)\n",
    "#* * * * * \n",
    "# * * * * \n",
    "#  * * * \n",
    "#   * * \n",
    "#    * \n",
    "#    * \n",
    "#   * * \n",
    "#  * * * \n",
    "# * * * * \n",
    "#* * * * * \n",
    "\n",
    "n=5\n",
    "for i in range(n):\n",
    "    for j in range(i+1):\n",
    "        print(\"\",end=\" \")\n",
    "    for j in range(i,n):\n",
    "        print(\"*\",end=\" \")\n",
    "    print()\n",
    "for i in range(n):\n",
    "    for j in range(i,n):\n",
    "        print(\"\",end=\" \")\n",
    "    for j in range(i+1):\n",
    "        print(\"*\",end=\" \")\n",
    "    print()\n",
    "\n",
    "\n"
   ]
  },
  {
   "cell_type": "code",
   "execution_count": 93,
   "id": "36d05d6e",
   "metadata": {},
   "outputs": [
    {
     "name": "stdout",
     "output_type": "stream",
     "text": [
      "     * \n",
      "    * * \n",
      "   * * * \n",
      "  * * * * \n",
      " * * * * * \n",
      "  * * * * \n",
      "   * * * \n",
      "    * * \n",
      "     * \n"
     ]
    }
   ],
   "source": [
    "#Y)\n",
    "#        * \n",
    "#       * * \n",
    "#      * * * \n",
    "#     * * * * \n",
    "#    * * * * * \n",
    "#   * * * * * * \n",
    "#    * * * * * \n",
    "#     * * * * \n",
    "#      * * * \n",
    "#       * * \n",
    "#        * \n",
    "\n",
    "n=5\n",
    "for i in range(n-1):\n",
    "    for j in range(i,n):\n",
    "        print(\"\",end=\" \")\n",
    "    for j in range(i+1):\n",
    "        print(\"*\",end=\" \")\n",
    "    print()\n",
    "for i in range(n):\n",
    "    for j in range(i+1):\n",
    "        print(\"\",end=\" \")\n",
    "    for j in range(i,n):\n",
    "        print(\"*\",end=\" \")\n",
    "    print()"
   ]
  },
  {
   "cell_type": "code",
   "execution_count": 138,
   "id": "f85b66e7",
   "metadata": {},
   "outputs": [
    {
     "name": "stdout",
     "output_type": "stream",
     "text": [
      "    * \n",
      "   *  * \n",
      "  *    * \n",
      " *      * \n",
      "*        * \n",
      " *      * \n",
      "  *    * \n",
      "   *  * \n",
      "    * \n"
     ]
    }
   ],
   "source": [
    "#Z)\n",
    "\n",
    "#    *\n",
    "#   * *\n",
    "#  *   *\n",
    "# *     *\n",
    "#*       *\n",
    "# *     *\n",
    "#  *   *\n",
    "#   * *\n",
    "#    *\n",
    "\n",
    "n=5\n",
    "for i in range(n-1):\n",
    "    for j in range(i,n-1):\n",
    "        print(\"\",end=\" \")\n",
    "    for j in range(i):\n",
    "        if(j==0):\n",
    "            print(\"*\",end=\" \")\n",
    "        else:\n",
    "            print(\"\",end=\" \")\n",
    "    for j in range(i+1):\n",
    "        if(j==i):\n",
    "            print(\"*\",end=\" \")\n",
    "        else:\n",
    "            print(\"\",end=\" \")\n",
    "    print()\n",
    "for i in range(n):\n",
    "    for j in range(i):\n",
    "        print(\"\",end=\" \")\n",
    "    for j in range(i,n):\n",
    "        if(j==i):\n",
    "            print(\"*\",end=\" \")\n",
    "        else:\n",
    "            print(\"\",end=\" \")\n",
    "    for j in range(i,n-1):\n",
    "        if(j==n-2):\n",
    "            print(\"*\",end=\" \")\n",
    "        else:\n",
    "            print(\"\",end=\" \")\n",
    "    print()"
   ]
  },
  {
   "cell_type": "code",
   "execution_count": 165,
   "id": "105633ff",
   "metadata": {},
   "outputs": [
    {
     "name": "stdout",
     "output_type": "stream",
     "text": [
      "1 2 3 4 5 \n",
      "2 2 3 4 5 \n",
      "3 3 3 4 5 \n",
      "4 4 4 4 5 \n",
      "5 5 5 5 5 \n"
     ]
    }
   ],
   "source": [
    "#l)\n",
    "#1 2 3 4 5 \n",
    "#2 2 3 4 5 \n",
    "#3 3 3 4 5 \n",
    "#4 4 4 4 5 \n",
    "#5 5 5 5 5\n",
    "\n",
    "n=5\n",
    "p=1\n",
    "k=2\n",
    "for i in range(n):\n",
    "    q=k\n",
    "    for j in range(i+1):\n",
    "        print(p,end=\" \")\n",
    "    p=p+1\n",
    "    for j in range(i,n-1):\n",
    "        print(q,end=\" \")\n",
    "        q=q+1\n",
    "    k=k+1\n",
    "    print()\n"
   ]
  },
  {
   "cell_type": "code",
   "execution_count": null,
   "id": "73752b3a",
   "metadata": {},
   "outputs": [],
   "source": [
    "#i am unable to find a logic for questions M and N sir."
   ]
  },
  {
   "cell_type": "code",
   "execution_count": null,
   "id": "3582aa9c",
   "metadata": {},
   "outputs": [],
   "source": []
  }
 ],
 "metadata": {
  "kernelspec": {
   "display_name": "Python 3 (ipykernel)",
   "language": "python",
   "name": "python3"
  },
  "language_info": {
   "codemirror_mode": {
    "name": "ipython",
    "version": 3
   },
   "file_extension": ".py",
   "mimetype": "text/x-python",
   "name": "python",
   "nbconvert_exporter": "python",
   "pygments_lexer": "ipython3",
   "version": "3.11.3"
  }
 },
 "nbformat": 4,
 "nbformat_minor": 5
}

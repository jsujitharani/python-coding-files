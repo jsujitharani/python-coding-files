{
 "cells": [
  {
   "cell_type": "code",
   "execution_count": 2,
   "id": "c7bd5c27",
   "metadata": {},
   "outputs": [
    {
     "name": "stdout",
     "output_type": "stream",
     "text": [
      " * * \n",
      "*   *\n",
      "*   *\n",
      "*   *\n",
      " * * *\n"
     ]
    }
   ],
   "source": [
    "string=\"12345\"\n",
    "for x in string:\n",
    "    if(x==\"2\") or (x==\"3\") or (x==\"4\"):\n",
    "        print(\"*   *\")\n",
    "    elif(x==\"1\"):\n",
    "        print(\" * * \")\n",
    "    else:\n",
    "        print(\" * * *\")"
   ]
  },
  {
   "cell_type": "code",
   "execution_count": 4,
   "id": "8efcab29",
   "metadata": {},
   "outputs": [
    {
     "name": "stdout",
     "output_type": "stream",
     "text": [
      "*\n",
      "*\n",
      "*\n",
      "* * *\n",
      "*   *\n",
      "* * *\n"
     ]
    }
   ],
   "source": [
    "string=\"123456\"\n",
    "for x in string:\n",
    "    if(x==\"1\") or (x==\"2\") or (x==\"3\"):\n",
    "        print(\"*\")\n",
    "    elif(x==\"4\") or (x==\"6\"):\n",
    "        print(\"* * *\")\n",
    "    else:\n",
    "        print(\"*   *\")"
   ]
  },
  {
   "cell_type": "code",
   "execution_count": 5,
   "id": "4716379f",
   "metadata": {},
   "outputs": [
    {
     "name": "stdout",
     "output_type": "stream",
     "text": [
      " ****\n",
      "*    \n",
      "*    \n",
      "*    \n",
      " ****\n"
     ]
    }
   ],
   "source": [
    "string=\"12345\"\n",
    "for x in string:\n",
    "    if(x==\"1\") or (x==\"5\"):\n",
    "        print(\" ****\")\n",
    "    else:\n",
    "        print(\"*    \")"
   ]
  },
  {
   "cell_type": "code",
   "execution_count": 7,
   "id": "a759dd99",
   "metadata": {},
   "outputs": [
    {
     "name": "stdout",
     "output_type": "stream",
     "text": [
      "    *\n",
      "    *\n",
      "    *\n",
      "* * *\n",
      "*   *\n",
      "* * *\n"
     ]
    }
   ],
   "source": [
    "string=\"123456\"\n",
    "for x in string:\n",
    "    if(x==\"1\") or (x==\"2\") or (x==\"3\"):\n",
    "        print(\"    *\")\n",
    "    elif(x==\"4\") or (x==\"6\"):\n",
    "        print(\"* * *\")\n",
    "    else:\n",
    "        print(\"*   *\")"
   ]
  },
  {
   "cell_type": "code",
   "execution_count": 8,
   "id": "f3dc04b9",
   "metadata": {},
   "outputs": [
    {
     "name": "stdout",
     "output_type": "stream",
     "text": [
      " ***\n",
      "*   *\n",
      "* ***\n",
      "*\n",
      " ****\n"
     ]
    }
   ],
   "source": [
    "string=\"12345\"\n",
    "for x in string:\n",
    "    if(x==\"1\"):\n",
    "        print(\" ***\")\n",
    "    elif(x==\"2\"):\n",
    "        print(\"*   *\")\n",
    "    elif(x==\"3\"):\n",
    "        print(\"* ***\")\n",
    "    elif(x==\"4\"):\n",
    "        print(\"*\")\n",
    "    else:\n",
    "        print(\" ****\")"
   ]
  },
  {
   "cell_type": "code",
   "execution_count": 10,
   "id": "1731d282",
   "metadata": {},
   "outputs": [
    {
     "name": "stdout",
     "output_type": "stream",
     "text": [
      "  ***\n",
      "  * *\n",
      "  *\n",
      "*****\n",
      "  *\n",
      "  *\n"
     ]
    }
   ],
   "source": [
    "string=\"123456\"\n",
    "for x in string:\n",
    "    if(x==\"1\"):\n",
    "        print(\"  ***\")\n",
    "    elif(x==\"2\"):\n",
    "        print(\"  * *\")\n",
    "    elif(x==\"4\"):\n",
    "        print(\"*****\")\n",
    "    else:\n",
    "        print(\"  *\")"
   ]
  },
  {
   "cell_type": "code",
   "execution_count": 13,
   "id": "39fd6665",
   "metadata": {},
   "outputs": [
    {
     "name": "stdout",
     "output_type": "stream",
     "text": [
      "* * *\n",
      "*   *  *\n",
      "* * * *\n",
      "    *\n",
      " *  *\n",
      "*   *\n",
      "* * *\n"
     ]
    }
   ],
   "source": [
    "string=\"1234567\"\n",
    "for x in string:\n",
    "    if(x==\"1\") or (x==\"7\"):\n",
    "        print(\"* * *\")\n",
    "    elif (x==\"6\"):\n",
    "        print(\"*   *\")\n",
    "    elif (x==\"2\"):\n",
    "        print(\"*   *  *\")\n",
    "    elif(x==\"3\"):\n",
    "        print(\"* * * *\")\n",
    "    elif(x==\"4\"):\n",
    "        print(\"    *\")\n",
    "    else:\n",
    "        print(\" *  *\")"
   ]
  },
  {
   "cell_type": "code",
   "execution_count": 14,
   "id": "374aed7a",
   "metadata": {},
   "outputs": [
    {
     "name": "stdout",
     "output_type": "stream",
     "text": [
      "*\n",
      "*\n",
      "*\n",
      "* * *\n",
      "*   *\n",
      "*   *\n"
     ]
    }
   ],
   "source": [
    "string=\"123456\"\n",
    "for x in string:\n",
    "    if(x==\"1\") or (x==\"2\") or (x==\"3\"):\n",
    "        print(\"*\")\n",
    "    elif(x==\"4\") :\n",
    "        print(\"* * *\")\n",
    "    else:\n",
    "        print(\"*   *\")"
   ]
  },
  {
   "cell_type": "code",
   "execution_count": 15,
   "id": "f060e3c7",
   "metadata": {},
   "outputs": [
    {
     "name": "stdout",
     "output_type": "stream",
     "text": [
      "   *\n",
      " \n",
      "   *\n",
      "   *\n",
      "   *\n",
      "   *\n",
      "   *\n"
     ]
    }
   ],
   "source": [
    "string=\"123456\"\n",
    "for x in string:\n",
    "    if(x==\"2\"):\n",
    "        print(\" \")\n",
    "    print(\"   *\")"
   ]
  },
  {
   "cell_type": "code",
   "execution_count": 22,
   "id": "8e38f7f2",
   "metadata": {},
   "outputs": [
    {
     "name": "stdout",
     "output_type": "stream",
     "text": [
      "  *  \n",
      "  *  \n",
      "  *  \n",
      "* *\n",
      "***\n"
     ]
    }
   ],
   "source": [
    "string=\"12345\"\n",
    "for x in string:\n",
    "    if(x==\"1\") or (x==\"2\") or (x==\"3\"):\n",
    "        print(\"  *  \")\n",
    "    elif(x==\"4\"):\n",
    "        print(\"* *\")\n",
    "    else:\n",
    "        print(\"***\")"
   ]
  },
  {
   "cell_type": "code",
   "execution_count": 25,
   "id": "9f9f5149",
   "metadata": {},
   "outputs": [
    {
     "name": "stdout",
     "output_type": "stream",
     "text": [
      "*\n",
      "*\n",
      "*   *\n",
      "* *\n",
      "*\n",
      "* *\n",
      "*   *\n"
     ]
    }
   ],
   "source": [
    "string=\"1234567\"\n",
    "for x in string:\n",
    "    if(x==\"3\") or (x==\"7\"):\n",
    "        print(\"*   *\")\n",
    "    elif(x==\"4\") or (x==\"6\"):\n",
    "        print(\"* *\")\n",
    "    else:\n",
    "        print(\"*\")"
   ]
  },
  {
   "cell_type": "code",
   "execution_count": 26,
   "id": "b6002dbd",
   "metadata": {},
   "outputs": [
    {
     "name": "stdout",
     "output_type": "stream",
     "text": [
      "   *\n",
      "   *\n",
      "   *\n",
      "   *\n",
      "   *\n",
      "   *\n",
      "   *\n"
     ]
    }
   ],
   "source": [
    "string=\"1234567\"\n",
    "for x in string:\n",
    "     print(\"   *\")"
   ]
  },
  {
   "cell_type": "code",
   "execution_count": 27,
   "id": "9a509557",
   "metadata": {},
   "outputs": [
    {
     "name": "stdout",
     "output_type": "stream",
     "text": [
      "*  *   * \n",
      " *   *   *\n",
      " *   *   *\n",
      " *   *   *\n",
      " *   *   *\n"
     ]
    }
   ],
   "source": [
    "string=\"12345\"\n",
    "for x in string:\n",
    "    if(x==\"1\"):\n",
    "        print(\"*  *   * \")\n",
    "    else:\n",
    "        print(\" *   *   *\")"
   ]
  },
  {
   "cell_type": "code",
   "execution_count": 30,
   "id": "1b1a610d",
   "metadata": {},
   "outputs": [
    {
     "name": "stdout",
     "output_type": "stream",
     "text": [
      "*  * *\n",
      " *     *\n",
      " *     *\n",
      " *     *\n",
      " *     *\n"
     ]
    }
   ],
   "source": [
    "string=\"12345\"\n",
    "for x in string:\n",
    "    if(x==\"1\"):\n",
    "        print(\"*  * *\")\n",
    "    else:\n",
    "        print(\" *     *\")"
   ]
  },
  {
   "cell_type": "code",
   "execution_count": 31,
   "id": "81fe03eb",
   "metadata": {},
   "outputs": [
    {
     "name": "stdout",
     "output_type": "stream",
     "text": [
      " ***\n",
      "*   *\n",
      "*   *\n",
      "*   *\n",
      " ***\n"
     ]
    }
   ],
   "source": [
    "string=\"12345\"\n",
    "for x in string:\n",
    "    if(x==\"1\") or (x==\"5\") :\n",
    "        print(\" ***\")\n",
    "    else:\n",
    "        print(\"*   *\")"
   ]
  },
  {
   "cell_type": "code",
   "execution_count": 33,
   "id": "6b31628f",
   "metadata": {},
   "outputs": [
    {
     "name": "stdout",
     "output_type": "stream",
     "text": [
      "****\n",
      "*   *\n",
      "*   *\n",
      "****\n",
      "*\n",
      "*\n",
      "*\n"
     ]
    }
   ],
   "source": [
    "string=\"1234567\"\n",
    "for x in string:\n",
    "    if(x==\"1\") or (x==\"4\"):\n",
    "        print(\"****\")\n",
    "    elif(x==\"2\")or (x==\"3\") :\n",
    "        print(\"*   *\")\n",
    "    else:\n",
    "        print(\"*\")"
   ]
  },
  {
   "cell_type": "code",
   "execution_count": 34,
   "id": "a35feb78",
   "metadata": {},
   "outputs": [
    {
     "name": "stdout",
     "output_type": "stream",
     "text": [
      " ****\n",
      "*   *\n",
      "*   *\n",
      " ****\n",
      "    *  *\n",
      "    * *\n",
      "    *\n"
     ]
    }
   ],
   "source": [
    "string=\"1234567\"\n",
    "for x in string:\n",
    "    if(x==\"1\") or (x==\"4\"):\n",
    "        print(\" ****\")\n",
    "    elif(x==\"2\")or (x==\"3\") :\n",
    "        print(\"*   *\")\n",
    "    elif (x==\"5\"):\n",
    "        print(\"    *  *\")\n",
    "    elif (x==\"6\"):\n",
    "        print(\"    * *\")\n",
    "    else:\n",
    "        print(\"    *\")"
   ]
  },
  {
   "cell_type": "code",
   "execution_count": 35,
   "id": "fdbab6ce",
   "metadata": {},
   "outputs": [
    {
     "name": "stdout",
     "output_type": "stream",
     "text": [
      "*   *\n",
      "*  *\n",
      "* *\n",
      "*\n",
      "*\n",
      "*\n"
     ]
    }
   ],
   "source": [
    "string=\"123456\"\n",
    "for x in string:\n",
    "    if(x==\"1\"):\n",
    "        print(\"*   *\")\n",
    "    elif(x==\"2\"):\n",
    "        print(\"*  *\")\n",
    "    elif(x==\"3\"):\n",
    "        print(\"* *\")\n",
    "    else:\n",
    "        print(\"*\")"
   ]
  },
  {
   "cell_type": "code",
   "execution_count": 37,
   "id": "fc596a01",
   "metadata": {},
   "outputs": [
    {
     "name": "stdout",
     "output_type": "stream",
     "text": [
      " **** \n",
      "* \n",
      " **** \n",
      "     * \n",
      " **** \n"
     ]
    }
   ],
   "source": [
    "string=\"12345\"\n",
    "for x in string:\n",
    "    if(x==\"1\") or (x==\"5\") or (x==\"3\"):\n",
    "        print(\" **** \")\n",
    "    elif(x==\"4\"):\n",
    "        print(\"     * \")\n",
    "    else:\n",
    "        print(\"* \")"
   ]
  },
  {
   "cell_type": "code",
   "execution_count": 38,
   "id": "69d967b1",
   "metadata": {},
   "outputs": [
    {
     "name": "stdout",
     "output_type": "stream",
     "text": [
      "  *\n",
      "  *\n",
      "*****\n",
      "  *\n",
      "  ***\n"
     ]
    }
   ],
   "source": [
    "string=\"12345\"\n",
    "for x in string:\n",
    "    if(x==\"5\"):\n",
    "        print(\"  ***\")\n",
    "    elif(x==\"3\"):\n",
    "        print(\"*****\")\n",
    "    else:\n",
    "        print(\"  *\")"
   ]
  },
  {
   "cell_type": "code",
   "execution_count": 39,
   "id": "7f9629bb",
   "metadata": {},
   "outputs": [
    {
     "name": "stdout",
     "output_type": "stream",
     "text": [
      "*   *\n",
      "*   *\n",
      "*   *\n",
      "*   *\n",
      " *** *\n"
     ]
    }
   ],
   "source": [
    "string=\"12345\"\n",
    "for x in string:\n",
    "    if (x==\"5\") :\n",
    "        print(\" *** *\")\n",
    "    else:\n",
    "        print(\"*   *\")"
   ]
  },
  {
   "cell_type": "code",
   "execution_count": 40,
   "id": "75c5e3df",
   "metadata": {},
   "outputs": [
    {
     "name": "stdout",
     "output_type": "stream",
     "text": [
      "*       *\n",
      " *     * \n",
      "  *   * \n",
      "   * * \n",
      "    *\n"
     ]
    }
   ],
   "source": [
    "string=\"12345\"\n",
    "for x in string:\n",
    "    if (x==\"1\") :\n",
    "        print(\"*       *\")\n",
    "    elif(x==\"2\"):\n",
    "        print(\" *     * \")\n",
    "    elif(x==\"3\"):\n",
    "        print(\"  *   * \")\n",
    "    elif(x==\"4\"):\n",
    "        print(\"   * * \")\n",
    "    else:\n",
    "        print(\"    *\")"
   ]
  },
  {
   "cell_type": "code",
   "execution_count": 41,
   "id": "7f7192da",
   "metadata": {},
   "outputs": [
    {
     "name": "stdout",
     "output_type": "stream",
     "text": [
      "*   *   *\n",
      "*   *   *\n",
      "*   *   *\n",
      "*   *   *\n",
      "  *   *  *\n"
     ]
    }
   ],
   "source": [
    "string=\"12345\"\n",
    "for x in string:\n",
    "    if(x==\"5\"):\n",
    "        print(\"  *   *  *\")\n",
    "    else:\n",
    "        print(\"*   *   *\")"
   ]
  },
  {
   "cell_type": "code",
   "execution_count": 42,
   "id": "41a896be",
   "metadata": {},
   "outputs": [
    {
     "name": "stdout",
     "output_type": "stream",
     "text": [
      "*   *\n",
      " * * \n",
      "  *\n",
      " * * \n",
      "*   *\n"
     ]
    }
   ],
   "source": [
    "string=\"12345\"\n",
    "for x in string:\n",
    "    if(x==\"1\") or (x==\"5\"):\n",
    "        print(\"*   *\")\n",
    "    elif(x==\"2\") or (x==\"4\"):\n",
    "        print(\" * * \")\n",
    "    else:\n",
    "        print(\"  *\")"
   ]
  },
  {
   "cell_type": "code",
   "execution_count": 43,
   "id": "dc35b1b1",
   "metadata": {},
   "outputs": [
    {
     "name": "stdout",
     "output_type": "stream",
     "text": [
      "*   *\n",
      "*   *  *\n",
      "* * * *\n",
      "    *\n",
      " *  *\n",
      "*   *\n",
      "* * *\n"
     ]
    }
   ],
   "source": [
    "string=\"1234567\"\n",
    "for x in string:\n",
    "    if(x==\"1\") :\n",
    "        print(\"*   *\")\n",
    "    elif (x==\"6\"):\n",
    "        print(\"*   *\")\n",
    "    elif (x==\"2\"):\n",
    "        print(\"*   *  *\")\n",
    "    elif(x==\"3\"):\n",
    "        print(\"* * * *\")\n",
    "    elif(x==\"4\"):\n",
    "        print(\"    *\")\n",
    "    elif(x==\"7\"):\n",
    "        print(\"* * *\")\n",
    "    else:\n",
    "        print(\" *  *\")"
   ]
  },
  {
   "cell_type": "code",
   "execution_count": 45,
   "id": "9676d1c6",
   "metadata": {},
   "outputs": [
    {
     "name": "stdout",
     "output_type": "stream",
     "text": [
      "*****\n",
      "   * \n",
      "  *\n",
      " *\n",
      "*****\n"
     ]
    }
   ],
   "source": [
    "string=\"12345\"\n",
    "for x in string:\n",
    "    if(x==\"1\") or (x==\"5\") :\n",
    "        print(\"*****\")\n",
    "    elif(x==\"2\") :\n",
    "        print(\"   * \")\n",
    "    elif(x==\"3\"):\n",
    "        print(\"  *\")\n",
    "    else:\n",
    "        print(\" *\")"
   ]
  },
  {
   "cell_type": "code",
   "execution_count": null,
   "id": "4c8342a9",
   "metadata": {},
   "outputs": [],
   "source": []
  }
 ],
 "metadata": {
  "kernelspec": {
   "display_name": "Python 3 (ipykernel)",
   "language": "python",
   "name": "python3"
  },
  "language_info": {
   "codemirror_mode": {
    "name": "ipython",
    "version": 3
   },
   "file_extension": ".py",
   "mimetype": "text/x-python",
   "name": "python",
   "nbconvert_exporter": "python",
   "pygments_lexer": "ipython3",
   "version": "3.11.3"
  }
 },
 "nbformat": 4,
 "nbformat_minor": 5
}

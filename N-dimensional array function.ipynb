{
 "cells": [
  {
   "cell_type": "code",
   "execution_count": null,
   "id": "1e4535e3",
   "metadata": {},
   "outputs": [],
   "source": []
  },
  {
   "cell_type": "code",
   "execution_count": null,
   "id": "286ba4ad",
   "metadata": {},
   "outputs": [],
   "source": []
  },
  {
   "cell_type": "code",
   "execution_count": 19,
   "id": "1d3b5cc7",
   "metadata": {},
   "outputs": [
    {
     "name": "stdout",
     "output_type": "stream",
     "text": [
      "enter the range3\n",
      "enter the elements1,2,3\n",
      "enter the elements2,3,4\n",
      "enter the elements3,4,5\n",
      "['1,2,3', '2,3,4', '3,4,5']\n",
      "enter the dimension3\n",
      "array([[[1,2,3]\n",
      "        [2,3,4]\n",
      "        [3,4,5]\n",
      "              ]])\n"
     ]
    }
   ],
   "source": [
    "def ndarray(x):\n",
    "    n=int(input(\"enter the dimension\"))\n",
    "    if type(x)==list or type(x)==tuple:\n",
    "        c=len(x)\n",
    "    if n==1:\n",
    "        print(\"array({})\".format(x))\n",
    "    elif(n==0):\n",
    "        m=int(l[0])\n",
    "        print(\"array({})\".format(m)) \n",
    "    elif (n==2):\n",
    "        print(\"array([\",end=\"\")\n",
    "        print(\"[{}]\".format(x[0]))\n",
    "        for i in range(1,c):\n",
    "             print(\"[{}]\".format(x[i]))\n",
    "        print(\"              ]])\")\n",
    "    elif (n==3):\n",
    "        print(\"array([[\",end=\"\")\n",
    "        print(\"[{}]\".format(x[0]))\n",
    "        for i in range(1,c):\n",
    "             print(\"        [{}]\".format(x[i]))\n",
    "        print(\"              ]])\")\n",
    "    else:\n",
    "        pass\n",
    "l=[]\n",
    "n=int(input(\"enter the range\"))\n",
    "for i in range(n):\n",
    "    num=input(\"enter the elements\")\n",
    "    if num.isdigit():\n",
    "        num=int(num)\n",
    "        l.append(num)\n",
    "    else:\n",
    "        l.append(num)\n",
    "print(l)\n",
    "ndarray(l)"
   ]
  },
  {
   "cell_type": "code",
   "execution_count": null,
   "id": "0782858b",
   "metadata": {},
   "outputs": [],
   "source": []
  },
  {
   "cell_type": "code",
   "execution_count": null,
   "id": "52d37b9f",
   "metadata": {},
   "outputs": [],
   "source": []
  },
  {
   "cell_type": "code",
   "execution_count": null,
   "id": "056d081d",
   "metadata": {},
   "outputs": [],
   "source": []
  },
  {
   "cell_type": "code",
   "execution_count": null,
   "id": "7dc98d5c",
   "metadata": {},
   "outputs": [],
   "source": []
  }
 ],
 "metadata": {
  "kernelspec": {
   "display_name": "Python 3 (ipykernel)",
   "language": "python",
   "name": "python3"
  },
  "language_info": {
   "codemirror_mode": {
    "name": "ipython",
    "version": 3
   },
   "file_extension": ".py",
   "mimetype": "text/x-python",
   "name": "python",
   "nbconvert_exporter": "python",
   "pygments_lexer": "ipython3",
   "version": "3.11.3"
  }
 },
 "nbformat": 4,
 "nbformat_minor": 5
}

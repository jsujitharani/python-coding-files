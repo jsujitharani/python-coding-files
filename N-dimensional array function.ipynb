{
 "cells": [
  {
   "cell_type": "code",
   "execution_count": null,
   "id": "1e4535e3",
   "metadata": {},
   "outputs": [],
   "source": []
  },
  {
   "cell_type": "code",
   "execution_count": null,
   "id": "286ba4ad",
   "metadata": {},
   "outputs": [],
   "source": []
  },
  {
   "cell_type": "code",
   "execution_count": 3,
   "id": "1d3b5cc7",
   "metadata": {},
   "outputs": [
    {
     "name": "stdout",
     "output_type": "stream",
     "text": [
      "enter the range: 4\n",
      "enter the elements: 1,2,3\n",
      "enter the elements: 2,3,4\n",
      "enter the elements: 3,4,5\n",
      "enter the elements: 4,5,6\n",
      "['1,2,3', '2,3,4', '3,4,5', '4,5,6']\n",
      "enter the dimension: 3\n",
      "array([[[1,2,3]\n",
      "[2,3,4]\n",
      "[3,4,5]\n",
      "[4,5,6]\n",
      "]])\n"
     ]
    }
   ],
   "source": [
    "def ndarray(x):\n",
    "    n=int(input(\"enter the dimension: \"))\n",
    "    if type(x)==list or type(x)==tuple:\n",
    "        c=len(x)\n",
    "    if n==1:\n",
    "        print(\"array({})\".format(x))\n",
    "    elif(n==0):\n",
    "        m=int(l[0])\n",
    "        print(\"array({})\".format(m)) \n",
    "    elif (n==2):    \n",
    "       \n",
    "        if(len(x[0])>1):\n",
    "            print(\"array([\",end=\"\")\n",
    "            for i in range(c):\n",
    "                print(\"[{}]\".format(x[i]))\n",
    "            print(\"])\")\n",
    "        else:\n",
    "            new=[]\n",
    "            for i in x:\n",
    "                if (i.isdigit()):\n",
    "                    z=int(i)\n",
    "                    new.append(z)\n",
    "            print(\"array([{}])\".format(new)) \n",
    "    elif(n==3):\n",
    "        if(len(x[0])>1):\n",
    "            print(\"array([[\",end=\"\")\n",
    "            for i in range(c):\n",
    "                print(\"[{}]\".format(x[i]))\n",
    "            print(\"]])\")\n",
    "        else:\n",
    "            new=[]\n",
    "            for i in x:\n",
    "                if (i.isdigit()):\n",
    "                    z=int(i)\n",
    "                    new.append(z)\n",
    "            print(\"array([[{}]])\".format(new)) \n",
    "    else:\n",
    "        pass\n",
    "l=[]\n",
    "n=int(input(\"enter the range: \"))\n",
    "for i in range(n):\n",
    "    num=input(\"enter the elements: \")\n",
    "    l.append(num)\n",
    "print(l)\n",
    "ndarray(l)"
   ]
  },
  {
   "cell_type": "code",
   "execution_count": null,
   "id": "0782858b",
   "metadata": {},
   "outputs": [],
   "source": []
  },
  {
   "cell_type": "code",
   "execution_count": null,
   "id": "52d37b9f",
   "metadata": {},
   "outputs": [],
   "source": []
  },
  {
   "cell_type": "code",
   "execution_count": null,
   "id": "056d081d",
   "metadata": {},
   "outputs": [],
   "source": []
  },
  {
   "cell_type": "code",
   "execution_count": null,
   "id": "7dc98d5c",
   "metadata": {},
   "outputs": [],
   "source": []
  }
 ],
 "metadata": {
  "kernelspec": {
   "display_name": "Python 3 (ipykernel)",
   "language": "python",
   "name": "python3"
  },
  "language_info": {
   "codemirror_mode": {
    "name": "ipython",
    "version": 3
   },
   "file_extension": ".py",
   "mimetype": "text/x-python",
   "name": "python",
   "nbconvert_exporter": "python",
   "pygments_lexer": "ipython3",
   "version": "3.11.3"
  }
 },
 "nbformat": 4,
 "nbformat_minor": 5
}
